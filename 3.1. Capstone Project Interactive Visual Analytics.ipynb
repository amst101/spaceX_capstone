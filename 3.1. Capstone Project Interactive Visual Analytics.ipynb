{
 "cells": [
  {
   "cell_type": "markdown",
   "metadata": {
    "id": "3n3ltmfnrqpi",
    "outputId": "a2d4f52a-2fb7-4668-f5f0-fe862aab8eb0",
    "papermill": {
     "duration": 1.489571,
     "end_time": "2020-09-19T06:26:57.168979",
     "exception": false,
     "start_time": "2020-09-19T06:26:55.679408",
     "status": "completed"
    },
    "tags": []
   },
   "source": [
    "<p style=\"text-align:center\">\n",
    "    <a href=\"https://skills.network/?utm_medium=Exinfluencer&utm_source=Exinfluencer&utm_content=000026UJ&utm_term=10006555&utm_id=NA-SkillsNetwork-Channel-SkillsNetworkCoursesIBMDS0321ENSkillsNetwork26802033-2022-01-01\" target=\"_blank\">\n",
    "    <img src=\"https://cf-courses-data.s3.us.cloud-object-storage.appdomain.cloud/assets/logos/SN_web_lightmode.png\" width=\"200\" alt=\"Skills Network Logo\"  />\n",
    "    </a>\n",
    "</p>\n"
   ]
  },
  {
   "cell_type": "markdown",
   "metadata": {},
   "source": [
    "# **Launch Sites Locations Analysis with Folium**\n"
   ]
  },
  {
   "cell_type": "markdown",
   "metadata": {},
   "source": [
    "Estimated time needed: **40** minutes\n"
   ]
  },
  {
   "cell_type": "markdown",
   "metadata": {},
   "source": [
    "The launch success rate may depend on many factors such as payload mass, orbit type, and so on. It may also depend on the location and proximities of a launch site, i.e., the initial position of rocket trajectories. Finding an optimal location for building a launch site certainly involves many factors and hopefully we could discover some of the factors by analyzing the existing launch site locations.\n"
   ]
  },
  {
   "cell_type": "markdown",
   "metadata": {},
   "source": [
    "In the previous exploratory data analysis labs, you have visualized the SpaceX launch dataset using `matplotlib` and `seaborn` and discovered some preliminary correlations between the launch site and success rates. In this lab, you will be performing more interactive visual analytics using `Folium`.\n"
   ]
  },
  {
   "cell_type": "markdown",
   "metadata": {},
   "source": [
    "## Objectives\n"
   ]
  },
  {
   "cell_type": "markdown",
   "metadata": {},
   "source": [
    "This lab contains the following tasks:\n",
    "\n",
    "*   **TASK 1:** Mark all launch sites on a map\n",
    "*   **TASK 2:** Mark the success/failed launches for each site on the map\n",
    "*   **TASK 3:** Calculate the distances between a launch site to its proximities\n",
    "\n",
    "After completed the above tasks, you should be able to find some geographical patterns about launch sites.\n"
   ]
  },
  {
   "cell_type": "markdown",
   "metadata": {},
   "source": [
    "Let's first import required Python packages for this lab:\n"
   ]
  },
  {
   "cell_type": "code",
   "execution_count": 1,
   "metadata": {},
   "outputs": [
    {
     "name": "stdout",
     "output_type": "stream",
     "text": [
      "Requirement already satisfied: folium in /Users/andreasstahel/opt/anaconda3/lib/python3.8/site-packages (0.11.0)\n",
      "Requirement already satisfied: jinja2>=2.9 in /Users/andreasstahel/opt/anaconda3/lib/python3.8/site-packages (from folium) (2.11.2)\n",
      "Requirement already satisfied: numpy in /Users/andreasstahel/opt/anaconda3/lib/python3.8/site-packages (from folium) (1.18.5)\n",
      "Requirement already satisfied: branca>=0.3.0 in /Users/andreasstahel/opt/anaconda3/lib/python3.8/site-packages (from folium) (0.4.1)\n",
      "Requirement already satisfied: requests in /Users/andreasstahel/opt/anaconda3/lib/python3.8/site-packages (from folium) (2.24.0)\n",
      "Requirement already satisfied: MarkupSafe>=0.23 in /Users/andreasstahel/opt/anaconda3/lib/python3.8/site-packages (from jinja2>=2.9->folium) (1.1.1)\n",
      "Requirement already satisfied: certifi>=2017.4.17 in /Users/andreasstahel/opt/anaconda3/lib/python3.8/site-packages (from requests->folium) (2020.6.20)\n",
      "Requirement already satisfied: idna<3,>=2.5 in /Users/andreasstahel/opt/anaconda3/lib/python3.8/site-packages (from requests->folium) (2.10)\n",
      "Requirement already satisfied: urllib3!=1.25.0,!=1.25.1,<1.26,>=1.21.1 in /Users/andreasstahel/opt/anaconda3/lib/python3.8/site-packages (from requests->folium) (1.25.9)\n",
      "Requirement already satisfied: chardet<4,>=3.0.2 in /Users/andreasstahel/opt/anaconda3/lib/python3.8/site-packages (from requests->folium) (3.0.4)\n",
      "Requirement already satisfied: wget in /Users/andreasstahel/opt/anaconda3/lib/python3.8/site-packages (3.2)\n"
     ]
    }
   ],
   "source": [
    "!pip3 install folium\n",
    "!pip3 install wget"
   ]
  },
  {
   "cell_type": "code",
   "execution_count": 2,
   "metadata": {},
   "outputs": [],
   "source": [
    "import folium\n",
    "import wget\n",
    "import pandas as pd"
   ]
  },
  {
   "cell_type": "code",
   "execution_count": 3,
   "metadata": {},
   "outputs": [],
   "source": [
    "# Import folium MarkerCluster plugin\n",
    "from folium.plugins import MarkerCluster\n",
    "# Import folium MousePosition plugin\n",
    "from folium.plugins import MousePosition\n",
    "# Import folium DivIcon plugin\n",
    "from folium.features import DivIcon"
   ]
  },
  {
   "cell_type": "markdown",
   "metadata": {},
   "source": [
    "If you need to refresh your memory about folium, you may download and refer to this previous folium lab:\n"
   ]
  },
  {
   "cell_type": "markdown",
   "metadata": {},
   "source": [
    "[Generating Maps with Python](https://cf-courses-data.s3.us.cloud-object-storage.appdomain.cloud/IBM-DS0321EN-SkillsNetwork/labs/module\\_3/DV0101EN-3-5-1-Generating-Maps-in-Python-py-v2.0.ipynb)\n"
   ]
  },
  {
   "cell_type": "markdown",
   "metadata": {},
   "source": [
    "## Task 1: Mark all launch sites on a map\n"
   ]
  },
  {
   "cell_type": "markdown",
   "metadata": {},
   "source": [
    "First, let's try to add each site's location on a map using site's latitude and longitude coordinates\n"
   ]
  },
  {
   "cell_type": "markdown",
   "metadata": {},
   "source": [
    "The following dataset with the name `spacex_launch_geo.csv` is an augmented dataset with latitude and longitude added for each site.\n"
   ]
  },
  {
   "cell_type": "code",
   "execution_count": 4,
   "metadata": {},
   "outputs": [
    {
     "data": {
      "text/html": [
       "<div>\n",
       "<style scoped>\n",
       "    .dataframe tbody tr th:only-of-type {\n",
       "        vertical-align: middle;\n",
       "    }\n",
       "\n",
       "    .dataframe tbody tr th {\n",
       "        vertical-align: top;\n",
       "    }\n",
       "\n",
       "    .dataframe thead th {\n",
       "        text-align: right;\n",
       "    }\n",
       "</style>\n",
       "<table border=\"1\" class=\"dataframe\">\n",
       "  <thead>\n",
       "    <tr style=\"text-align: right;\">\n",
       "      <th></th>\n",
       "      <th>Flight Number</th>\n",
       "      <th>Date</th>\n",
       "      <th>Time (UTC)</th>\n",
       "      <th>Booster Version</th>\n",
       "      <th>Launch Site</th>\n",
       "      <th>Payload</th>\n",
       "      <th>Payload Mass (kg)</th>\n",
       "      <th>Orbit</th>\n",
       "      <th>Customer</th>\n",
       "      <th>Landing Outcome</th>\n",
       "      <th>class</th>\n",
       "      <th>Lat</th>\n",
       "      <th>Long</th>\n",
       "    </tr>\n",
       "  </thead>\n",
       "  <tbody>\n",
       "    <tr>\n",
       "      <th>51</th>\n",
       "      <td>48</td>\n",
       "      <td>2018-01-31</td>\n",
       "      <td>21:25:00</td>\n",
       "      <td>F9 FT  B1032.2</td>\n",
       "      <td>CCAFS SLC-40</td>\n",
       "      <td>GovSat-1 / SES-16</td>\n",
       "      <td>4230.0</td>\n",
       "      <td>GTO</td>\n",
       "      <td>SES</td>\n",
       "      <td>Controlled (ocean)</td>\n",
       "      <td>0</td>\n",
       "      <td>28.563197</td>\n",
       "      <td>-80.57682</td>\n",
       "    </tr>\n",
       "    <tr>\n",
       "      <th>52</th>\n",
       "      <td>50</td>\n",
       "      <td>2018-03-06</td>\n",
       "      <td>5:33:00</td>\n",
       "      <td>F9 B4 B1044</td>\n",
       "      <td>CCAFS SLC-40</td>\n",
       "      <td>Hispasat 30W-6  PODSat</td>\n",
       "      <td>6092.0</td>\n",
       "      <td>GTO</td>\n",
       "      <td>Hispasat  NovaWurks</td>\n",
       "      <td>No attempt</td>\n",
       "      <td>0</td>\n",
       "      <td>28.563197</td>\n",
       "      <td>-80.57682</td>\n",
       "    </tr>\n",
       "    <tr>\n",
       "      <th>53</th>\n",
       "      <td>52</td>\n",
       "      <td>2018-04-02</td>\n",
       "      <td>20:30:00</td>\n",
       "      <td>F9 B4  B1039.2</td>\n",
       "      <td>CCAFS SLC-40</td>\n",
       "      <td>SpaceX CRS-14</td>\n",
       "      <td>2647.0</td>\n",
       "      <td>LEO (ISS)</td>\n",
       "      <td>NASA (CRS)</td>\n",
       "      <td>No attempt</td>\n",
       "      <td>0</td>\n",
       "      <td>28.563197</td>\n",
       "      <td>-80.57682</td>\n",
       "    </tr>\n",
       "    <tr>\n",
       "      <th>54</th>\n",
       "      <td>53</td>\n",
       "      <td>2018-04-18</td>\n",
       "      <td>22:51:00</td>\n",
       "      <td>F9 B4 B1045.1</td>\n",
       "      <td>CCAFS SLC-40</td>\n",
       "      <td>Transiting Exoplanet Survey Satellite (TESS)</td>\n",
       "      <td>362.0</td>\n",
       "      <td>HEO</td>\n",
       "      <td>NASA (LSP)</td>\n",
       "      <td>Success (drone ship)</td>\n",
       "      <td>1</td>\n",
       "      <td>28.563197</td>\n",
       "      <td>-80.57682</td>\n",
       "    </tr>\n",
       "    <tr>\n",
       "      <th>55</th>\n",
       "      <td>56</td>\n",
       "      <td>2018-06-04</td>\n",
       "      <td>4:45:00</td>\n",
       "      <td>F9 B4  B1040.2</td>\n",
       "      <td>CCAFS SLC-40</td>\n",
       "      <td>SES-12</td>\n",
       "      <td>5384.0</td>\n",
       "      <td>GTO</td>\n",
       "      <td>SES</td>\n",
       "      <td>No attempt</td>\n",
       "      <td>0</td>\n",
       "      <td>28.563197</td>\n",
       "      <td>-80.57682</td>\n",
       "    </tr>\n",
       "  </tbody>\n",
       "</table>\n",
       "</div>"
      ],
      "text/plain": [
       "    Flight Number        Date Time (UTC) Booster Version   Launch Site  \\\n",
       "51             48  2018-01-31   21:25:00  F9 FT  B1032.2  CCAFS SLC-40   \n",
       "52             50  2018-03-06    5:33:00     F9 B4 B1044  CCAFS SLC-40   \n",
       "53             52  2018-04-02   20:30:00  F9 B4  B1039.2  CCAFS SLC-40   \n",
       "54             53  2018-04-18   22:51:00   F9 B4 B1045.1  CCAFS SLC-40   \n",
       "55             56  2018-06-04    4:45:00  F9 B4  B1040.2  CCAFS SLC-40   \n",
       "\n",
       "                                         Payload  Payload Mass (kg)  \\\n",
       "51                             GovSat-1 / SES-16             4230.0   \n",
       "52                        Hispasat 30W-6  PODSat             6092.0   \n",
       "53                                 SpaceX CRS-14             2647.0   \n",
       "54  Transiting Exoplanet Survey Satellite (TESS)              362.0   \n",
       "55                                        SES-12             5384.0   \n",
       "\n",
       "        Orbit             Customer       Landing Outcome  class        Lat  \\\n",
       "51        GTO                  SES    Controlled (ocean)      0  28.563197   \n",
       "52        GTO  Hispasat  NovaWurks            No attempt      0  28.563197   \n",
       "53  LEO (ISS)           NASA (CRS)            No attempt      0  28.563197   \n",
       "54        HEO           NASA (LSP)  Success (drone ship)      1  28.563197   \n",
       "55        GTO                  SES            No attempt      0  28.563197   \n",
       "\n",
       "        Long  \n",
       "51 -80.57682  \n",
       "52 -80.57682  \n",
       "53 -80.57682  \n",
       "54 -80.57682  \n",
       "55 -80.57682  "
      ]
     },
     "execution_count": 4,
     "metadata": {},
     "output_type": "execute_result"
    }
   ],
   "source": [
    "# Download and read the `spacex_launch_geo.csv`\n",
    "spacex_csv_file = wget.download('https://cf-courses-data.s3.us.cloud-object-storage.appdomain.cloud/IBM-DS0321EN-SkillsNetwork/datasets/spacex_launch_geo.csv')\n",
    "spacex_df=pd.read_csv(spacex_csv_file)\n",
    "spacex_df.tail()"
   ]
  },
  {
   "cell_type": "markdown",
   "metadata": {},
   "source": [
    "Now, you can take a look at what are the coordinates for each site.\n"
   ]
  },
  {
   "cell_type": "code",
   "execution_count": 5,
   "metadata": {},
   "outputs": [
    {
     "data": {
      "text/html": [
       "<div>\n",
       "<style scoped>\n",
       "    .dataframe tbody tr th:only-of-type {\n",
       "        vertical-align: middle;\n",
       "    }\n",
       "\n",
       "    .dataframe tbody tr th {\n",
       "        vertical-align: top;\n",
       "    }\n",
       "\n",
       "    .dataframe thead th {\n",
       "        text-align: right;\n",
       "    }\n",
       "</style>\n",
       "<table border=\"1\" class=\"dataframe\">\n",
       "  <thead>\n",
       "    <tr style=\"text-align: right;\">\n",
       "      <th></th>\n",
       "      <th>Launch Site</th>\n",
       "      <th>Lat</th>\n",
       "      <th>Long</th>\n",
       "    </tr>\n",
       "  </thead>\n",
       "  <tbody>\n",
       "    <tr>\n",
       "      <th>0</th>\n",
       "      <td>CCAFS LC-40</td>\n",
       "      <td>28.562302</td>\n",
       "      <td>-80.577356</td>\n",
       "    </tr>\n",
       "    <tr>\n",
       "      <th>1</th>\n",
       "      <td>CCAFS SLC-40</td>\n",
       "      <td>28.563197</td>\n",
       "      <td>-80.576820</td>\n",
       "    </tr>\n",
       "    <tr>\n",
       "      <th>2</th>\n",
       "      <td>KSC LC-39A</td>\n",
       "      <td>28.573255</td>\n",
       "      <td>-80.646895</td>\n",
       "    </tr>\n",
       "    <tr>\n",
       "      <th>3</th>\n",
       "      <td>VAFB SLC-4E</td>\n",
       "      <td>34.632834</td>\n",
       "      <td>-120.610746</td>\n",
       "    </tr>\n",
       "  </tbody>\n",
       "</table>\n",
       "</div>"
      ],
      "text/plain": [
       "    Launch Site        Lat        Long\n",
       "0   CCAFS LC-40  28.562302  -80.577356\n",
       "1  CCAFS SLC-40  28.563197  -80.576820\n",
       "2    KSC LC-39A  28.573255  -80.646895\n",
       "3   VAFB SLC-4E  34.632834 -120.610746"
      ]
     },
     "execution_count": 5,
     "metadata": {},
     "output_type": "execute_result"
    }
   ],
   "source": [
    "# Select relevant sub-columns: `Launch Site`, `Lat(Latitude)`, `Long(Longitude)`, `class`\n",
    "spacex_df = spacex_df[['Launch Site', 'Lat', 'Long', 'class']]\n",
    "launch_sites_df = spacex_df.groupby(['Launch Site'], as_index=False).first()\n",
    "launch_sites_df = launch_sites_df[['Launch Site', 'Lat', 'Long']]\n",
    "launch_sites_df"
   ]
  },
  {
   "cell_type": "markdown",
   "metadata": {},
   "source": [
    "Above coordinates are just plain numbers that can not give you any intuitive insights about where are those launch sites. If you are very good at geography, you can interpret those numbers directly in your mind. If not, that's fine too. Let's visualize those locations by pinning them on a map.\n"
   ]
  },
  {
   "cell_type": "markdown",
   "metadata": {},
   "source": [
    "We first need to create a folium `Map` object, with an initial center location to be NASA Johnson Space Center at Houston, Texas.\n"
   ]
  },
  {
   "cell_type": "code",
   "execution_count": 6,
   "metadata": {},
   "outputs": [],
   "source": [
    "# Start location is NASA Johnson Space Center\n",
    "nasa_coordinate = [29.559684888503615, -95.0830971930759]\n",
    "#site_map = folium.Map(location=nasa_coordinate, zoom_start=10)"
   ]
  },
  {
   "cell_type": "markdown",
   "metadata": {},
   "source": [
    "We could use `folium.Circle` to add a highlighted circle area with a text label on a specific coordinate. For example,\n"
   ]
  },
  {
   "cell_type": "markdown",
   "metadata": {},
   "source": [
    "#Create a blue circle at NASA Johnson Space Center's coordinate with a popup label showing its name\n",
    "circle = folium.Circle(nasa_coordinate, radius=1000, color='#d35400', fill=True).add_child(folium.Popup('NASA Johnson Space Center'))\n",
    "#Create a blue circle at NASA Johnson Space Center's coordinate with a icon showing its name\n",
    "marker = folium.map.Marker(\n",
    "    nasa_coordinate,\n",
    "#Create an icon as a text label\n",
    "    icon=DivIcon(\n",
    "        icon_size=(20,20),\n",
    "        icon_anchor=(0,0),\n",
    "        html='<div style=\"font-size: 12; color:#d35400;\"><b>%s</b></div>' % 'NASA JSC',\n",
    "        )\n",
    "    )\n",
    "site_map.add_child(circle)\n",
    "site_map.add_child(marker)"
   ]
  },
  {
   "cell_type": "markdown",
   "metadata": {},
   "source": [
    "and you should find a small yellow circle near the city of Houston and you can zoom-in to see a larger circle.\n"
   ]
  },
  {
   "cell_type": "markdown",
   "metadata": {},
   "source": [
    "Now, let's add a circle for each launch site in data frame `launch_sites`\n"
   ]
  },
  {
   "cell_type": "markdown",
   "metadata": {},
   "source": [
    "*TODO:*  Create and add `folium.Circle` and `folium.Marker` for each launch site on the site map\n"
   ]
  },
  {
   "cell_type": "markdown",
   "metadata": {},
   "source": [
    "An example of folium.Circle:\n"
   ]
  },
  {
   "cell_type": "markdown",
   "metadata": {},
   "source": [
    "`folium.Circle(coordinate, radius=1000, color='#000000', fill=True).add_child(folium.Popup(...))`\n"
   ]
  },
  {
   "cell_type": "markdown",
   "metadata": {},
   "source": [
    "An example of folium.Marker:\n"
   ]
  },
  {
   "cell_type": "markdown",
   "metadata": {},
   "source": [
    "`folium.map.Marker(coordinate, icon=DivIcon(icon_size=(20,20),icon_anchor=(0,0), html='<div style=\"font-size: 12; color:#d35400;\"><b>%s</b></div>' % 'label', ))`\n"
   ]
  },
  {
   "cell_type": "code",
   "execution_count": 7,
   "metadata": {},
   "outputs": [
    {
     "data": {
      "text/html": [
       "<div style=\"width:100%;\"><div style=\"position:relative;width:100%;height:0;padding-bottom:60%;\"><span style=\"color:#565656\">Make this Notebook Trusted to load map: File -> Trust Notebook</span><iframe src=\"about:blank\" style=\"position:absolute;width:100%;height:100%;left:0;top:0;border:none !important;\" data-html=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 onload=\"this.contentDocument.open();this.contentDocument.write(atob(this.getAttribute('data-html')));this.contentDocument.close();\" allowfullscreen webkitallowfullscreen mozallowfullscreen></iframe></div></div>"
      ],
      "text/plain": [
       "<folium.folium.Map at 0x11e966130>"
      ]
     },
     "execution_count": 7,
     "metadata": {},
     "output_type": "execute_result"
    }
   ],
   "source": [
    "# Initial the map\n",
    "site_map = folium.Map(location=[31.80027, -100.52561], zoom_start=5)\n",
    "# For each launch site, add a Circle object based on its coordinate (Lat, Long) values. In addition, add Launch site name as a popup label\n",
    "\n",
    "for idx, eq in launch_sites_df.iterrows():\n",
    "    circle = folium.Circle(location=(eq['Lat'], eq['Long']), \n",
    "                        radius=1000, \n",
    "                        popup= '{}'.format(eq['Launch Site']), \n",
    "                        color='red', \n",
    "                        fill=True\n",
    "                         )\n",
    "    marker = folium.map.Marker(\n",
    "            (eq['Lat'], eq['Long']),\n",
    "            icon=DivIcon(\n",
    "                icon_size=(20,20),\n",
    "                icon_anchor=(0,0), \n",
    "                html='<div style=\"font-size: 12; color:#d35400;\"><b>%s</b></div>' % eq['Launch Site']\n",
    "                        )\n",
    "                            )\n",
    "    \n",
    "    \n",
    "    \n",
    "    site_map.add_child(circle)\n",
    "    site_map.add_child(marker)\n",
    "site_map"
   ]
  },
  {
   "cell_type": "markdown",
   "metadata": {},
   "source": [
    "The generated map with marked launch sites should look similar to the following:\n"
   ]
  },
  {
   "cell_type": "markdown",
   "metadata": {},
   "source": [
    "<center>\n",
    "    <img src=\"https://cf-courses-data.s3.us.cloud-object-storage.appdomain.cloud/IBM-DS0321EN-SkillsNetwork/labs/module_3/images/launch_site_markers.png\" />\n",
    "</center>\n"
   ]
  },
  {
   "cell_type": "markdown",
   "metadata": {},
   "source": [
    "Now, you can explore the map by zoom-in/out the marked areas\n",
    ", and try to answer the following questions:\n",
    "\n",
    "*   Are all launch sites in proximity to the Equator line?\n",
    "*   Are all launch sites in very close proximity to the coast?\n",
    "\n",
    "Also please try to explain your findings.\n"
   ]
  },
  {
   "cell_type": "markdown",
   "metadata": {},
   "source": [
    "# Task 2: Mark the success/failed launches for each site on the map\n"
   ]
  },
  {
   "cell_type": "markdown",
   "metadata": {},
   "source": [
    "Next, let's try to enhance the map by adding the launch outcomes for each site, and see which sites have high success rates.\n",
    "Recall that data frame spacex_df has detailed launch records, and the `class` column indicates if this launch was successful or not\n"
   ]
  },
  {
   "cell_type": "code",
   "execution_count": 8,
   "metadata": {},
   "outputs": [
    {
     "data": {
      "text/html": [
       "<div>\n",
       "<style scoped>\n",
       "    .dataframe tbody tr th:only-of-type {\n",
       "        vertical-align: middle;\n",
       "    }\n",
       "\n",
       "    .dataframe tbody tr th {\n",
       "        vertical-align: top;\n",
       "    }\n",
       "\n",
       "    .dataframe thead th {\n",
       "        text-align: right;\n",
       "    }\n",
       "</style>\n",
       "<table border=\"1\" class=\"dataframe\">\n",
       "  <thead>\n",
       "    <tr style=\"text-align: right;\">\n",
       "      <th></th>\n",
       "      <th>Launch Site</th>\n",
       "      <th>Lat</th>\n",
       "      <th>Long</th>\n",
       "      <th>class</th>\n",
       "    </tr>\n",
       "  </thead>\n",
       "  <tbody>\n",
       "    <tr>\n",
       "      <th>0</th>\n",
       "      <td>CCAFS LC-40</td>\n",
       "      <td>28.562302</td>\n",
       "      <td>-80.577356</td>\n",
       "      <td>0</td>\n",
       "    </tr>\n",
       "    <tr>\n",
       "      <th>1</th>\n",
       "      <td>CCAFS LC-40</td>\n",
       "      <td>28.562302</td>\n",
       "      <td>-80.577356</td>\n",
       "      <td>0</td>\n",
       "    </tr>\n",
       "    <tr>\n",
       "      <th>2</th>\n",
       "      <td>CCAFS LC-40</td>\n",
       "      <td>28.562302</td>\n",
       "      <td>-80.577356</td>\n",
       "      <td>0</td>\n",
       "    </tr>\n",
       "    <tr>\n",
       "      <th>3</th>\n",
       "      <td>CCAFS LC-40</td>\n",
       "      <td>28.562302</td>\n",
       "      <td>-80.577356</td>\n",
       "      <td>0</td>\n",
       "    </tr>\n",
       "    <tr>\n",
       "      <th>4</th>\n",
       "      <td>CCAFS LC-40</td>\n",
       "      <td>28.562302</td>\n",
       "      <td>-80.577356</td>\n",
       "      <td>0</td>\n",
       "    </tr>\n",
       "    <tr>\n",
       "      <th>5</th>\n",
       "      <td>CCAFS LC-40</td>\n",
       "      <td>28.562302</td>\n",
       "      <td>-80.577356</td>\n",
       "      <td>0</td>\n",
       "    </tr>\n",
       "    <tr>\n",
       "      <th>6</th>\n",
       "      <td>CCAFS LC-40</td>\n",
       "      <td>28.562302</td>\n",
       "      <td>-80.577356</td>\n",
       "      <td>0</td>\n",
       "    </tr>\n",
       "    <tr>\n",
       "      <th>7</th>\n",
       "      <td>CCAFS LC-40</td>\n",
       "      <td>28.562302</td>\n",
       "      <td>-80.577356</td>\n",
       "      <td>0</td>\n",
       "    </tr>\n",
       "    <tr>\n",
       "      <th>8</th>\n",
       "      <td>CCAFS LC-40</td>\n",
       "      <td>28.562302</td>\n",
       "      <td>-80.577356</td>\n",
       "      <td>0</td>\n",
       "    </tr>\n",
       "    <tr>\n",
       "      <th>9</th>\n",
       "      <td>CCAFS LC-40</td>\n",
       "      <td>28.562302</td>\n",
       "      <td>-80.577356</td>\n",
       "      <td>0</td>\n",
       "    </tr>\n",
       "    <tr>\n",
       "      <th>10</th>\n",
       "      <td>CCAFS LC-40</td>\n",
       "      <td>28.562302</td>\n",
       "      <td>-80.577356</td>\n",
       "      <td>0</td>\n",
       "    </tr>\n",
       "    <tr>\n",
       "      <th>11</th>\n",
       "      <td>CCAFS LC-40</td>\n",
       "      <td>28.562302</td>\n",
       "      <td>-80.577356</td>\n",
       "      <td>0</td>\n",
       "    </tr>\n",
       "    <tr>\n",
       "      <th>12</th>\n",
       "      <td>CCAFS LC-40</td>\n",
       "      <td>28.562302</td>\n",
       "      <td>-80.577356</td>\n",
       "      <td>0</td>\n",
       "    </tr>\n",
       "    <tr>\n",
       "      <th>13</th>\n",
       "      <td>CCAFS LC-40</td>\n",
       "      <td>28.562302</td>\n",
       "      <td>-80.577356</td>\n",
       "      <td>0</td>\n",
       "    </tr>\n",
       "    <tr>\n",
       "      <th>14</th>\n",
       "      <td>CCAFS LC-40</td>\n",
       "      <td>28.562302</td>\n",
       "      <td>-80.577356</td>\n",
       "      <td>0</td>\n",
       "    </tr>\n",
       "    <tr>\n",
       "      <th>15</th>\n",
       "      <td>CCAFS LC-40</td>\n",
       "      <td>28.562302</td>\n",
       "      <td>-80.577356</td>\n",
       "      <td>0</td>\n",
       "    </tr>\n",
       "    <tr>\n",
       "      <th>16</th>\n",
       "      <td>CCAFS LC-40</td>\n",
       "      <td>28.562302</td>\n",
       "      <td>-80.577356</td>\n",
       "      <td>0</td>\n",
       "    </tr>\n",
       "    <tr>\n",
       "      <th>17</th>\n",
       "      <td>CCAFS LC-40</td>\n",
       "      <td>28.562302</td>\n",
       "      <td>-80.577356</td>\n",
       "      <td>1</td>\n",
       "    </tr>\n",
       "    <tr>\n",
       "      <th>18</th>\n",
       "      <td>CCAFS LC-40</td>\n",
       "      <td>28.562302</td>\n",
       "      <td>-80.577356</td>\n",
       "      <td>1</td>\n",
       "    </tr>\n",
       "    <tr>\n",
       "      <th>19</th>\n",
       "      <td>CCAFS LC-40</td>\n",
       "      <td>28.562302</td>\n",
       "      <td>-80.577356</td>\n",
       "      <td>0</td>\n",
       "    </tr>\n",
       "    <tr>\n",
       "      <th>20</th>\n",
       "      <td>CCAFS LC-40</td>\n",
       "      <td>28.562302</td>\n",
       "      <td>-80.577356</td>\n",
       "      <td>1</td>\n",
       "    </tr>\n",
       "    <tr>\n",
       "      <th>21</th>\n",
       "      <td>CCAFS LC-40</td>\n",
       "      <td>28.562302</td>\n",
       "      <td>-80.577356</td>\n",
       "      <td>1</td>\n",
       "    </tr>\n",
       "    <tr>\n",
       "      <th>22</th>\n",
       "      <td>CCAFS LC-40</td>\n",
       "      <td>28.562302</td>\n",
       "      <td>-80.577356</td>\n",
       "      <td>1</td>\n",
       "    </tr>\n",
       "    <tr>\n",
       "      <th>23</th>\n",
       "      <td>CCAFS LC-40</td>\n",
       "      <td>28.562302</td>\n",
       "      <td>-80.577356</td>\n",
       "      <td>0</td>\n",
       "    </tr>\n",
       "    <tr>\n",
       "      <th>24</th>\n",
       "      <td>CCAFS LC-40</td>\n",
       "      <td>28.562302</td>\n",
       "      <td>-80.577356</td>\n",
       "      <td>1</td>\n",
       "    </tr>\n",
       "    <tr>\n",
       "      <th>25</th>\n",
       "      <td>CCAFS LC-40</td>\n",
       "      <td>28.562302</td>\n",
       "      <td>-80.577356</td>\n",
       "      <td>1</td>\n",
       "    </tr>\n",
       "    <tr>\n",
       "      <th>26</th>\n",
       "      <td>VAFB SLC-4E</td>\n",
       "      <td>34.632834</td>\n",
       "      <td>-120.610746</td>\n",
       "      <td>0</td>\n",
       "    </tr>\n",
       "    <tr>\n",
       "      <th>27</th>\n",
       "      <td>VAFB SLC-4E</td>\n",
       "      <td>34.632834</td>\n",
       "      <td>-120.610746</td>\n",
       "      <td>0</td>\n",
       "    </tr>\n",
       "    <tr>\n",
       "      <th>28</th>\n",
       "      <td>VAFB SLC-4E</td>\n",
       "      <td>34.632834</td>\n",
       "      <td>-120.610746</td>\n",
       "      <td>1</td>\n",
       "    </tr>\n",
       "    <tr>\n",
       "      <th>29</th>\n",
       "      <td>VAFB SLC-4E</td>\n",
       "      <td>34.632834</td>\n",
       "      <td>-120.610746</td>\n",
       "      <td>1</td>\n",
       "    </tr>\n",
       "    <tr>\n",
       "      <th>30</th>\n",
       "      <td>VAFB SLC-4E</td>\n",
       "      <td>34.632834</td>\n",
       "      <td>-120.610746</td>\n",
       "      <td>1</td>\n",
       "    </tr>\n",
       "    <tr>\n",
       "      <th>31</th>\n",
       "      <td>VAFB SLC-4E</td>\n",
       "      <td>34.632834</td>\n",
       "      <td>-120.610746</td>\n",
       "      <td>1</td>\n",
       "    </tr>\n",
       "    <tr>\n",
       "      <th>32</th>\n",
       "      <td>VAFB SLC-4E</td>\n",
       "      <td>34.632834</td>\n",
       "      <td>-120.610746</td>\n",
       "      <td>0</td>\n",
       "    </tr>\n",
       "    <tr>\n",
       "      <th>33</th>\n",
       "      <td>VAFB SLC-4E</td>\n",
       "      <td>34.632834</td>\n",
       "      <td>-120.610746</td>\n",
       "      <td>0</td>\n",
       "    </tr>\n",
       "    <tr>\n",
       "      <th>34</th>\n",
       "      <td>VAFB SLC-4E</td>\n",
       "      <td>34.632834</td>\n",
       "      <td>-120.610746</td>\n",
       "      <td>0</td>\n",
       "    </tr>\n",
       "    <tr>\n",
       "      <th>35</th>\n",
       "      <td>VAFB SLC-4E</td>\n",
       "      <td>34.632834</td>\n",
       "      <td>-120.610746</td>\n",
       "      <td>0</td>\n",
       "    </tr>\n",
       "    <tr>\n",
       "      <th>36</th>\n",
       "      <td>KSC LC-39A</td>\n",
       "      <td>28.573255</td>\n",
       "      <td>-80.646895</td>\n",
       "      <td>1</td>\n",
       "    </tr>\n",
       "    <tr>\n",
       "      <th>37</th>\n",
       "      <td>KSC LC-39A</td>\n",
       "      <td>28.573255</td>\n",
       "      <td>-80.646895</td>\n",
       "      <td>0</td>\n",
       "    </tr>\n",
       "    <tr>\n",
       "      <th>38</th>\n",
       "      <td>KSC LC-39A</td>\n",
       "      <td>28.573255</td>\n",
       "      <td>-80.646895</td>\n",
       "      <td>1</td>\n",
       "    </tr>\n",
       "    <tr>\n",
       "      <th>39</th>\n",
       "      <td>KSC LC-39A</td>\n",
       "      <td>28.573255</td>\n",
       "      <td>-80.646895</td>\n",
       "      <td>1</td>\n",
       "    </tr>\n",
       "    <tr>\n",
       "      <th>40</th>\n",
       "      <td>KSC LC-39A</td>\n",
       "      <td>28.573255</td>\n",
       "      <td>-80.646895</td>\n",
       "      <td>0</td>\n",
       "    </tr>\n",
       "    <tr>\n",
       "      <th>41</th>\n",
       "      <td>KSC LC-39A</td>\n",
       "      <td>28.573255</td>\n",
       "      <td>-80.646895</td>\n",
       "      <td>1</td>\n",
       "    </tr>\n",
       "    <tr>\n",
       "      <th>42</th>\n",
       "      <td>KSC LC-39A</td>\n",
       "      <td>28.573255</td>\n",
       "      <td>-80.646895</td>\n",
       "      <td>1</td>\n",
       "    </tr>\n",
       "    <tr>\n",
       "      <th>43</th>\n",
       "      <td>KSC LC-39A</td>\n",
       "      <td>28.573255</td>\n",
       "      <td>-80.646895</td>\n",
       "      <td>0</td>\n",
       "    </tr>\n",
       "    <tr>\n",
       "      <th>44</th>\n",
       "      <td>KSC LC-39A</td>\n",
       "      <td>28.573255</td>\n",
       "      <td>-80.646895</td>\n",
       "      <td>1</td>\n",
       "    </tr>\n",
       "    <tr>\n",
       "      <th>45</th>\n",
       "      <td>KSC LC-39A</td>\n",
       "      <td>28.573255</td>\n",
       "      <td>-80.646895</td>\n",
       "      <td>1</td>\n",
       "    </tr>\n",
       "    <tr>\n",
       "      <th>46</th>\n",
       "      <td>KSC LC-39A</td>\n",
       "      <td>28.573255</td>\n",
       "      <td>-80.646895</td>\n",
       "      <td>1</td>\n",
       "    </tr>\n",
       "    <tr>\n",
       "      <th>47</th>\n",
       "      <td>KSC LC-39A</td>\n",
       "      <td>28.573255</td>\n",
       "      <td>-80.646895</td>\n",
       "      <td>1</td>\n",
       "    </tr>\n",
       "    <tr>\n",
       "      <th>48</th>\n",
       "      <td>KSC LC-39A</td>\n",
       "      <td>28.573255</td>\n",
       "      <td>-80.646895</td>\n",
       "      <td>1</td>\n",
       "    </tr>\n",
       "    <tr>\n",
       "      <th>49</th>\n",
       "      <td>CCAFS SLC-40</td>\n",
       "      <td>28.563197</td>\n",
       "      <td>-80.576820</td>\n",
       "      <td>1</td>\n",
       "    </tr>\n",
       "    <tr>\n",
       "      <th>50</th>\n",
       "      <td>CCAFS SLC-40</td>\n",
       "      <td>28.563197</td>\n",
       "      <td>-80.576820</td>\n",
       "      <td>1</td>\n",
       "    </tr>\n",
       "    <tr>\n",
       "      <th>51</th>\n",
       "      <td>CCAFS SLC-40</td>\n",
       "      <td>28.563197</td>\n",
       "      <td>-80.576820</td>\n",
       "      <td>0</td>\n",
       "    </tr>\n",
       "    <tr>\n",
       "      <th>52</th>\n",
       "      <td>CCAFS SLC-40</td>\n",
       "      <td>28.563197</td>\n",
       "      <td>-80.576820</td>\n",
       "      <td>0</td>\n",
       "    </tr>\n",
       "    <tr>\n",
       "      <th>53</th>\n",
       "      <td>CCAFS SLC-40</td>\n",
       "      <td>28.563197</td>\n",
       "      <td>-80.576820</td>\n",
       "      <td>0</td>\n",
       "    </tr>\n",
       "    <tr>\n",
       "      <th>54</th>\n",
       "      <td>CCAFS SLC-40</td>\n",
       "      <td>28.563197</td>\n",
       "      <td>-80.576820</td>\n",
       "      <td>1</td>\n",
       "    </tr>\n",
       "    <tr>\n",
       "      <th>55</th>\n",
       "      <td>CCAFS SLC-40</td>\n",
       "      <td>28.563197</td>\n",
       "      <td>-80.576820</td>\n",
       "      <td>0</td>\n",
       "    </tr>\n",
       "  </tbody>\n",
       "</table>\n",
       "</div>"
      ],
      "text/plain": [
       "     Launch Site        Lat        Long  class\n",
       "0    CCAFS LC-40  28.562302  -80.577356      0\n",
       "1    CCAFS LC-40  28.562302  -80.577356      0\n",
       "2    CCAFS LC-40  28.562302  -80.577356      0\n",
       "3    CCAFS LC-40  28.562302  -80.577356      0\n",
       "4    CCAFS LC-40  28.562302  -80.577356      0\n",
       "5    CCAFS LC-40  28.562302  -80.577356      0\n",
       "6    CCAFS LC-40  28.562302  -80.577356      0\n",
       "7    CCAFS LC-40  28.562302  -80.577356      0\n",
       "8    CCAFS LC-40  28.562302  -80.577356      0\n",
       "9    CCAFS LC-40  28.562302  -80.577356      0\n",
       "10   CCAFS LC-40  28.562302  -80.577356      0\n",
       "11   CCAFS LC-40  28.562302  -80.577356      0\n",
       "12   CCAFS LC-40  28.562302  -80.577356      0\n",
       "13   CCAFS LC-40  28.562302  -80.577356      0\n",
       "14   CCAFS LC-40  28.562302  -80.577356      0\n",
       "15   CCAFS LC-40  28.562302  -80.577356      0\n",
       "16   CCAFS LC-40  28.562302  -80.577356      0\n",
       "17   CCAFS LC-40  28.562302  -80.577356      1\n",
       "18   CCAFS LC-40  28.562302  -80.577356      1\n",
       "19   CCAFS LC-40  28.562302  -80.577356      0\n",
       "20   CCAFS LC-40  28.562302  -80.577356      1\n",
       "21   CCAFS LC-40  28.562302  -80.577356      1\n",
       "22   CCAFS LC-40  28.562302  -80.577356      1\n",
       "23   CCAFS LC-40  28.562302  -80.577356      0\n",
       "24   CCAFS LC-40  28.562302  -80.577356      1\n",
       "25   CCAFS LC-40  28.562302  -80.577356      1\n",
       "26   VAFB SLC-4E  34.632834 -120.610746      0\n",
       "27   VAFB SLC-4E  34.632834 -120.610746      0\n",
       "28   VAFB SLC-4E  34.632834 -120.610746      1\n",
       "29   VAFB SLC-4E  34.632834 -120.610746      1\n",
       "30   VAFB SLC-4E  34.632834 -120.610746      1\n",
       "31   VAFB SLC-4E  34.632834 -120.610746      1\n",
       "32   VAFB SLC-4E  34.632834 -120.610746      0\n",
       "33   VAFB SLC-4E  34.632834 -120.610746      0\n",
       "34   VAFB SLC-4E  34.632834 -120.610746      0\n",
       "35   VAFB SLC-4E  34.632834 -120.610746      0\n",
       "36    KSC LC-39A  28.573255  -80.646895      1\n",
       "37    KSC LC-39A  28.573255  -80.646895      0\n",
       "38    KSC LC-39A  28.573255  -80.646895      1\n",
       "39    KSC LC-39A  28.573255  -80.646895      1\n",
       "40    KSC LC-39A  28.573255  -80.646895      0\n",
       "41    KSC LC-39A  28.573255  -80.646895      1\n",
       "42    KSC LC-39A  28.573255  -80.646895      1\n",
       "43    KSC LC-39A  28.573255  -80.646895      0\n",
       "44    KSC LC-39A  28.573255  -80.646895      1\n",
       "45    KSC LC-39A  28.573255  -80.646895      1\n",
       "46    KSC LC-39A  28.573255  -80.646895      1\n",
       "47    KSC LC-39A  28.573255  -80.646895      1\n",
       "48    KSC LC-39A  28.573255  -80.646895      1\n",
       "49  CCAFS SLC-40  28.563197  -80.576820      1\n",
       "50  CCAFS SLC-40  28.563197  -80.576820      1\n",
       "51  CCAFS SLC-40  28.563197  -80.576820      0\n",
       "52  CCAFS SLC-40  28.563197  -80.576820      0\n",
       "53  CCAFS SLC-40  28.563197  -80.576820      0\n",
       "54  CCAFS SLC-40  28.563197  -80.576820      1\n",
       "55  CCAFS SLC-40  28.563197  -80.576820      0"
      ]
     },
     "execution_count": 8,
     "metadata": {},
     "output_type": "execute_result"
    }
   ],
   "source": [
    "spacex_df"
   ]
  },
  {
   "cell_type": "markdown",
   "metadata": {},
   "source": [
    "Next, let's create markers for all launch records.\n",
    "If a launch was successful `(class=1)`, then we use a green marker and if a launch was failed, we use a red marker `(class=0)`\n"
   ]
  },
  {
   "cell_type": "markdown",
   "metadata": {},
   "source": [
    "Note that a launch only happens in one of the four launch sites, which means many launch records will have the exact same coordinate. Marker clusters can be a good way to simplify a map containing many markers having the same coordinate.\n"
   ]
  },
  {
   "cell_type": "markdown",
   "metadata": {},
   "source": [
    "Let's first create a `MarkerCluster` object\n"
   ]
  },
  {
   "cell_type": "code",
   "execution_count": 9,
   "metadata": {
    "id": "wP9PVUZ7Jfjt",
    "outputId": "6a3b8164-940c-4b93-9f3d-c655c4a0c683",
    "papermill": {
     "duration": 0.904519,
     "end_time": "2020-09-19T06:27:38.357041",
     "exception": false,
     "start_time": "2020-09-19T06:27:37.452522",
     "status": "completed"
    },
    "tags": []
   },
   "outputs": [],
   "source": [
    "marker_cluster = MarkerCluster()\n"
   ]
  },
  {
   "cell_type": "markdown",
   "metadata": {},
   "source": [
    "*TODO:* Create a new column in `launch_sites` dataframe called `marker_color` to store the marker colors based on the `class` value\n"
   ]
  },
  {
   "cell_type": "code",
   "execution_count": 10,
   "metadata": {},
   "outputs": [],
   "source": [
    "# Apply a function to check the value of `class` column\n",
    "# If class=1, marker_color value will be green\n",
    "# If class=0, marker_color value will be red\n"
   ]
  },
  {
   "cell_type": "code",
   "execution_count": 11,
   "metadata": {},
   "outputs": [
    {
     "data": {
      "text/html": [
       "<div>\n",
       "<style scoped>\n",
       "    .dataframe tbody tr th:only-of-type {\n",
       "        vertical-align: middle;\n",
       "    }\n",
       "\n",
       "    .dataframe tbody tr th {\n",
       "        vertical-align: top;\n",
       "    }\n",
       "\n",
       "    .dataframe thead th {\n",
       "        text-align: right;\n",
       "    }\n",
       "</style>\n",
       "<table border=\"1\" class=\"dataframe\">\n",
       "  <thead>\n",
       "    <tr style=\"text-align: right;\">\n",
       "      <th></th>\n",
       "      <th>Launch Site</th>\n",
       "      <th>Lat</th>\n",
       "      <th>Long</th>\n",
       "      <th>class</th>\n",
       "      <th>marker_color</th>\n",
       "    </tr>\n",
       "  </thead>\n",
       "  <tbody>\n",
       "    <tr>\n",
       "      <th>46</th>\n",
       "      <td>KSC LC-39A</td>\n",
       "      <td>28.573255</td>\n",
       "      <td>-80.646895</td>\n",
       "      <td>1</td>\n",
       "      <td>green</td>\n",
       "    </tr>\n",
       "    <tr>\n",
       "      <th>47</th>\n",
       "      <td>KSC LC-39A</td>\n",
       "      <td>28.573255</td>\n",
       "      <td>-80.646895</td>\n",
       "      <td>1</td>\n",
       "      <td>green</td>\n",
       "    </tr>\n",
       "    <tr>\n",
       "      <th>48</th>\n",
       "      <td>KSC LC-39A</td>\n",
       "      <td>28.573255</td>\n",
       "      <td>-80.646895</td>\n",
       "      <td>1</td>\n",
       "      <td>green</td>\n",
       "    </tr>\n",
       "    <tr>\n",
       "      <th>49</th>\n",
       "      <td>CCAFS SLC-40</td>\n",
       "      <td>28.563197</td>\n",
       "      <td>-80.576820</td>\n",
       "      <td>1</td>\n",
       "      <td>green</td>\n",
       "    </tr>\n",
       "    <tr>\n",
       "      <th>50</th>\n",
       "      <td>CCAFS SLC-40</td>\n",
       "      <td>28.563197</td>\n",
       "      <td>-80.576820</td>\n",
       "      <td>1</td>\n",
       "      <td>green</td>\n",
       "    </tr>\n",
       "    <tr>\n",
       "      <th>51</th>\n",
       "      <td>CCAFS SLC-40</td>\n",
       "      <td>28.563197</td>\n",
       "      <td>-80.576820</td>\n",
       "      <td>0</td>\n",
       "      <td>red</td>\n",
       "    </tr>\n",
       "    <tr>\n",
       "      <th>52</th>\n",
       "      <td>CCAFS SLC-40</td>\n",
       "      <td>28.563197</td>\n",
       "      <td>-80.576820</td>\n",
       "      <td>0</td>\n",
       "      <td>red</td>\n",
       "    </tr>\n",
       "    <tr>\n",
       "      <th>53</th>\n",
       "      <td>CCAFS SLC-40</td>\n",
       "      <td>28.563197</td>\n",
       "      <td>-80.576820</td>\n",
       "      <td>0</td>\n",
       "      <td>red</td>\n",
       "    </tr>\n",
       "    <tr>\n",
       "      <th>54</th>\n",
       "      <td>CCAFS SLC-40</td>\n",
       "      <td>28.563197</td>\n",
       "      <td>-80.576820</td>\n",
       "      <td>1</td>\n",
       "      <td>green</td>\n",
       "    </tr>\n",
       "    <tr>\n",
       "      <th>55</th>\n",
       "      <td>CCAFS SLC-40</td>\n",
       "      <td>28.563197</td>\n",
       "      <td>-80.576820</td>\n",
       "      <td>0</td>\n",
       "      <td>red</td>\n",
       "    </tr>\n",
       "  </tbody>\n",
       "</table>\n",
       "</div>"
      ],
      "text/plain": [
       "     Launch Site        Lat       Long  class marker_color\n",
       "46    KSC LC-39A  28.573255 -80.646895      1        green\n",
       "47    KSC LC-39A  28.573255 -80.646895      1        green\n",
       "48    KSC LC-39A  28.573255 -80.646895      1        green\n",
       "49  CCAFS SLC-40  28.563197 -80.576820      1        green\n",
       "50  CCAFS SLC-40  28.563197 -80.576820      1        green\n",
       "51  CCAFS SLC-40  28.563197 -80.576820      0          red\n",
       "52  CCAFS SLC-40  28.563197 -80.576820      0          red\n",
       "53  CCAFS SLC-40  28.563197 -80.576820      0          red\n",
       "54  CCAFS SLC-40  28.563197 -80.576820      1        green\n",
       "55  CCAFS SLC-40  28.563197 -80.576820      0          red"
      ]
     },
     "execution_count": 11,
     "metadata": {},
     "output_type": "execute_result"
    }
   ],
   "source": [
    "# Function to assign color to launch outcome\n",
    "def assign_marker_color(launch_outcome):\n",
    "    if launch_outcome == 1:\n",
    "        return 'green'\n",
    "    else:\n",
    "        return 'red'\n",
    "    \n",
    "spacex_df['marker_color'] = spacex_df['class'].apply(assign_marker_color)\n",
    "spacex_df.tail(10)"
   ]
  },
  {
   "cell_type": "code",
   "execution_count": 12,
   "metadata": {},
   "outputs": [
    {
     "data": {
      "text/html": [
       "<div>\n",
       "<style scoped>\n",
       "    .dataframe tbody tr th:only-of-type {\n",
       "        vertical-align: middle;\n",
       "    }\n",
       "\n",
       "    .dataframe tbody tr th {\n",
       "        vertical-align: top;\n",
       "    }\n",
       "\n",
       "    .dataframe thead th {\n",
       "        text-align: right;\n",
       "    }\n",
       "</style>\n",
       "<table border=\"1\" class=\"dataframe\">\n",
       "  <thead>\n",
       "    <tr style=\"text-align: right;\">\n",
       "      <th></th>\n",
       "      <th>Launch Site</th>\n",
       "      <th>Lat</th>\n",
       "      <th>Long</th>\n",
       "      <th>class</th>\n",
       "      <th>marker_color</th>\n",
       "    </tr>\n",
       "  </thead>\n",
       "  <tbody>\n",
       "    <tr>\n",
       "      <th>0</th>\n",
       "      <td>CCAFS LC-40</td>\n",
       "      <td>28.562302</td>\n",
       "      <td>-80.577356</td>\n",
       "      <td>0</td>\n",
       "      <td>red</td>\n",
       "    </tr>\n",
       "    <tr>\n",
       "      <th>1</th>\n",
       "      <td>CCAFS LC-40</td>\n",
       "      <td>28.562302</td>\n",
       "      <td>-80.577356</td>\n",
       "      <td>0</td>\n",
       "      <td>red</td>\n",
       "    </tr>\n",
       "    <tr>\n",
       "      <th>2</th>\n",
       "      <td>CCAFS LC-40</td>\n",
       "      <td>28.562302</td>\n",
       "      <td>-80.577356</td>\n",
       "      <td>0</td>\n",
       "      <td>red</td>\n",
       "    </tr>\n",
       "    <tr>\n",
       "      <th>3</th>\n",
       "      <td>CCAFS LC-40</td>\n",
       "      <td>28.562302</td>\n",
       "      <td>-80.577356</td>\n",
       "      <td>0</td>\n",
       "      <td>red</td>\n",
       "    </tr>\n",
       "    <tr>\n",
       "      <th>4</th>\n",
       "      <td>CCAFS LC-40</td>\n",
       "      <td>28.562302</td>\n",
       "      <td>-80.577356</td>\n",
       "      <td>0</td>\n",
       "      <td>red</td>\n",
       "    </tr>\n",
       "    <tr>\n",
       "      <th>5</th>\n",
       "      <td>CCAFS LC-40</td>\n",
       "      <td>28.562302</td>\n",
       "      <td>-80.577356</td>\n",
       "      <td>0</td>\n",
       "      <td>red</td>\n",
       "    </tr>\n",
       "    <tr>\n",
       "      <th>6</th>\n",
       "      <td>CCAFS LC-40</td>\n",
       "      <td>28.562302</td>\n",
       "      <td>-80.577356</td>\n",
       "      <td>0</td>\n",
       "      <td>red</td>\n",
       "    </tr>\n",
       "    <tr>\n",
       "      <th>7</th>\n",
       "      <td>CCAFS LC-40</td>\n",
       "      <td>28.562302</td>\n",
       "      <td>-80.577356</td>\n",
       "      <td>0</td>\n",
       "      <td>red</td>\n",
       "    </tr>\n",
       "    <tr>\n",
       "      <th>8</th>\n",
       "      <td>CCAFS LC-40</td>\n",
       "      <td>28.562302</td>\n",
       "      <td>-80.577356</td>\n",
       "      <td>0</td>\n",
       "      <td>red</td>\n",
       "    </tr>\n",
       "    <tr>\n",
       "      <th>9</th>\n",
       "      <td>CCAFS LC-40</td>\n",
       "      <td>28.562302</td>\n",
       "      <td>-80.577356</td>\n",
       "      <td>0</td>\n",
       "      <td>red</td>\n",
       "    </tr>\n",
       "    <tr>\n",
       "      <th>10</th>\n",
       "      <td>CCAFS LC-40</td>\n",
       "      <td>28.562302</td>\n",
       "      <td>-80.577356</td>\n",
       "      <td>0</td>\n",
       "      <td>red</td>\n",
       "    </tr>\n",
       "    <tr>\n",
       "      <th>11</th>\n",
       "      <td>CCAFS LC-40</td>\n",
       "      <td>28.562302</td>\n",
       "      <td>-80.577356</td>\n",
       "      <td>0</td>\n",
       "      <td>red</td>\n",
       "    </tr>\n",
       "    <tr>\n",
       "      <th>12</th>\n",
       "      <td>CCAFS LC-40</td>\n",
       "      <td>28.562302</td>\n",
       "      <td>-80.577356</td>\n",
       "      <td>0</td>\n",
       "      <td>red</td>\n",
       "    </tr>\n",
       "    <tr>\n",
       "      <th>13</th>\n",
       "      <td>CCAFS LC-40</td>\n",
       "      <td>28.562302</td>\n",
       "      <td>-80.577356</td>\n",
       "      <td>0</td>\n",
       "      <td>red</td>\n",
       "    </tr>\n",
       "    <tr>\n",
       "      <th>14</th>\n",
       "      <td>CCAFS LC-40</td>\n",
       "      <td>28.562302</td>\n",
       "      <td>-80.577356</td>\n",
       "      <td>0</td>\n",
       "      <td>red</td>\n",
       "    </tr>\n",
       "    <tr>\n",
       "      <th>15</th>\n",
       "      <td>CCAFS LC-40</td>\n",
       "      <td>28.562302</td>\n",
       "      <td>-80.577356</td>\n",
       "      <td>0</td>\n",
       "      <td>red</td>\n",
       "    </tr>\n",
       "    <tr>\n",
       "      <th>16</th>\n",
       "      <td>CCAFS LC-40</td>\n",
       "      <td>28.562302</td>\n",
       "      <td>-80.577356</td>\n",
       "      <td>0</td>\n",
       "      <td>red</td>\n",
       "    </tr>\n",
       "    <tr>\n",
       "      <th>17</th>\n",
       "      <td>CCAFS LC-40</td>\n",
       "      <td>28.562302</td>\n",
       "      <td>-80.577356</td>\n",
       "      <td>1</td>\n",
       "      <td>green</td>\n",
       "    </tr>\n",
       "    <tr>\n",
       "      <th>18</th>\n",
       "      <td>CCAFS LC-40</td>\n",
       "      <td>28.562302</td>\n",
       "      <td>-80.577356</td>\n",
       "      <td>1</td>\n",
       "      <td>green</td>\n",
       "    </tr>\n",
       "    <tr>\n",
       "      <th>19</th>\n",
       "      <td>CCAFS LC-40</td>\n",
       "      <td>28.562302</td>\n",
       "      <td>-80.577356</td>\n",
       "      <td>0</td>\n",
       "      <td>red</td>\n",
       "    </tr>\n",
       "    <tr>\n",
       "      <th>20</th>\n",
       "      <td>CCAFS LC-40</td>\n",
       "      <td>28.562302</td>\n",
       "      <td>-80.577356</td>\n",
       "      <td>1</td>\n",
       "      <td>green</td>\n",
       "    </tr>\n",
       "    <tr>\n",
       "      <th>21</th>\n",
       "      <td>CCAFS LC-40</td>\n",
       "      <td>28.562302</td>\n",
       "      <td>-80.577356</td>\n",
       "      <td>1</td>\n",
       "      <td>green</td>\n",
       "    </tr>\n",
       "    <tr>\n",
       "      <th>22</th>\n",
       "      <td>CCAFS LC-40</td>\n",
       "      <td>28.562302</td>\n",
       "      <td>-80.577356</td>\n",
       "      <td>1</td>\n",
       "      <td>green</td>\n",
       "    </tr>\n",
       "    <tr>\n",
       "      <th>23</th>\n",
       "      <td>CCAFS LC-40</td>\n",
       "      <td>28.562302</td>\n",
       "      <td>-80.577356</td>\n",
       "      <td>0</td>\n",
       "      <td>red</td>\n",
       "    </tr>\n",
       "    <tr>\n",
       "      <th>24</th>\n",
       "      <td>CCAFS LC-40</td>\n",
       "      <td>28.562302</td>\n",
       "      <td>-80.577356</td>\n",
       "      <td>1</td>\n",
       "      <td>green</td>\n",
       "    </tr>\n",
       "    <tr>\n",
       "      <th>25</th>\n",
       "      <td>CCAFS LC-40</td>\n",
       "      <td>28.562302</td>\n",
       "      <td>-80.577356</td>\n",
       "      <td>1</td>\n",
       "      <td>green</td>\n",
       "    </tr>\n",
       "    <tr>\n",
       "      <th>26</th>\n",
       "      <td>VAFB SLC-4E</td>\n",
       "      <td>34.632834</td>\n",
       "      <td>-120.610746</td>\n",
       "      <td>0</td>\n",
       "      <td>red</td>\n",
       "    </tr>\n",
       "    <tr>\n",
       "      <th>27</th>\n",
       "      <td>VAFB SLC-4E</td>\n",
       "      <td>34.632834</td>\n",
       "      <td>-120.610746</td>\n",
       "      <td>0</td>\n",
       "      <td>red</td>\n",
       "    </tr>\n",
       "    <tr>\n",
       "      <th>28</th>\n",
       "      <td>VAFB SLC-4E</td>\n",
       "      <td>34.632834</td>\n",
       "      <td>-120.610746</td>\n",
       "      <td>1</td>\n",
       "      <td>green</td>\n",
       "    </tr>\n",
       "    <tr>\n",
       "      <th>29</th>\n",
       "      <td>VAFB SLC-4E</td>\n",
       "      <td>34.632834</td>\n",
       "      <td>-120.610746</td>\n",
       "      <td>1</td>\n",
       "      <td>green</td>\n",
       "    </tr>\n",
       "    <tr>\n",
       "      <th>30</th>\n",
       "      <td>VAFB SLC-4E</td>\n",
       "      <td>34.632834</td>\n",
       "      <td>-120.610746</td>\n",
       "      <td>1</td>\n",
       "      <td>green</td>\n",
       "    </tr>\n",
       "    <tr>\n",
       "      <th>31</th>\n",
       "      <td>VAFB SLC-4E</td>\n",
       "      <td>34.632834</td>\n",
       "      <td>-120.610746</td>\n",
       "      <td>1</td>\n",
       "      <td>green</td>\n",
       "    </tr>\n",
       "    <tr>\n",
       "      <th>32</th>\n",
       "      <td>VAFB SLC-4E</td>\n",
       "      <td>34.632834</td>\n",
       "      <td>-120.610746</td>\n",
       "      <td>0</td>\n",
       "      <td>red</td>\n",
       "    </tr>\n",
       "    <tr>\n",
       "      <th>33</th>\n",
       "      <td>VAFB SLC-4E</td>\n",
       "      <td>34.632834</td>\n",
       "      <td>-120.610746</td>\n",
       "      <td>0</td>\n",
       "      <td>red</td>\n",
       "    </tr>\n",
       "    <tr>\n",
       "      <th>34</th>\n",
       "      <td>VAFB SLC-4E</td>\n",
       "      <td>34.632834</td>\n",
       "      <td>-120.610746</td>\n",
       "      <td>0</td>\n",
       "      <td>red</td>\n",
       "    </tr>\n",
       "    <tr>\n",
       "      <th>35</th>\n",
       "      <td>VAFB SLC-4E</td>\n",
       "      <td>34.632834</td>\n",
       "      <td>-120.610746</td>\n",
       "      <td>0</td>\n",
       "      <td>red</td>\n",
       "    </tr>\n",
       "    <tr>\n",
       "      <th>36</th>\n",
       "      <td>KSC LC-39A</td>\n",
       "      <td>28.573255</td>\n",
       "      <td>-80.646895</td>\n",
       "      <td>1</td>\n",
       "      <td>green</td>\n",
       "    </tr>\n",
       "    <tr>\n",
       "      <th>37</th>\n",
       "      <td>KSC LC-39A</td>\n",
       "      <td>28.573255</td>\n",
       "      <td>-80.646895</td>\n",
       "      <td>0</td>\n",
       "      <td>red</td>\n",
       "    </tr>\n",
       "    <tr>\n",
       "      <th>38</th>\n",
       "      <td>KSC LC-39A</td>\n",
       "      <td>28.573255</td>\n",
       "      <td>-80.646895</td>\n",
       "      <td>1</td>\n",
       "      <td>green</td>\n",
       "    </tr>\n",
       "    <tr>\n",
       "      <th>39</th>\n",
       "      <td>KSC LC-39A</td>\n",
       "      <td>28.573255</td>\n",
       "      <td>-80.646895</td>\n",
       "      <td>1</td>\n",
       "      <td>green</td>\n",
       "    </tr>\n",
       "    <tr>\n",
       "      <th>40</th>\n",
       "      <td>KSC LC-39A</td>\n",
       "      <td>28.573255</td>\n",
       "      <td>-80.646895</td>\n",
       "      <td>0</td>\n",
       "      <td>red</td>\n",
       "    </tr>\n",
       "    <tr>\n",
       "      <th>41</th>\n",
       "      <td>KSC LC-39A</td>\n",
       "      <td>28.573255</td>\n",
       "      <td>-80.646895</td>\n",
       "      <td>1</td>\n",
       "      <td>green</td>\n",
       "    </tr>\n",
       "    <tr>\n",
       "      <th>42</th>\n",
       "      <td>KSC LC-39A</td>\n",
       "      <td>28.573255</td>\n",
       "      <td>-80.646895</td>\n",
       "      <td>1</td>\n",
       "      <td>green</td>\n",
       "    </tr>\n",
       "    <tr>\n",
       "      <th>43</th>\n",
       "      <td>KSC LC-39A</td>\n",
       "      <td>28.573255</td>\n",
       "      <td>-80.646895</td>\n",
       "      <td>0</td>\n",
       "      <td>red</td>\n",
       "    </tr>\n",
       "    <tr>\n",
       "      <th>44</th>\n",
       "      <td>KSC LC-39A</td>\n",
       "      <td>28.573255</td>\n",
       "      <td>-80.646895</td>\n",
       "      <td>1</td>\n",
       "      <td>green</td>\n",
       "    </tr>\n",
       "    <tr>\n",
       "      <th>45</th>\n",
       "      <td>KSC LC-39A</td>\n",
       "      <td>28.573255</td>\n",
       "      <td>-80.646895</td>\n",
       "      <td>1</td>\n",
       "      <td>green</td>\n",
       "    </tr>\n",
       "    <tr>\n",
       "      <th>46</th>\n",
       "      <td>KSC LC-39A</td>\n",
       "      <td>28.573255</td>\n",
       "      <td>-80.646895</td>\n",
       "      <td>1</td>\n",
       "      <td>green</td>\n",
       "    </tr>\n",
       "    <tr>\n",
       "      <th>47</th>\n",
       "      <td>KSC LC-39A</td>\n",
       "      <td>28.573255</td>\n",
       "      <td>-80.646895</td>\n",
       "      <td>1</td>\n",
       "      <td>green</td>\n",
       "    </tr>\n",
       "    <tr>\n",
       "      <th>48</th>\n",
       "      <td>KSC LC-39A</td>\n",
       "      <td>28.573255</td>\n",
       "      <td>-80.646895</td>\n",
       "      <td>1</td>\n",
       "      <td>green</td>\n",
       "    </tr>\n",
       "    <tr>\n",
       "      <th>49</th>\n",
       "      <td>CCAFS SLC-40</td>\n",
       "      <td>28.563197</td>\n",
       "      <td>-80.576820</td>\n",
       "      <td>1</td>\n",
       "      <td>green</td>\n",
       "    </tr>\n",
       "    <tr>\n",
       "      <th>50</th>\n",
       "      <td>CCAFS SLC-40</td>\n",
       "      <td>28.563197</td>\n",
       "      <td>-80.576820</td>\n",
       "      <td>1</td>\n",
       "      <td>green</td>\n",
       "    </tr>\n",
       "    <tr>\n",
       "      <th>51</th>\n",
       "      <td>CCAFS SLC-40</td>\n",
       "      <td>28.563197</td>\n",
       "      <td>-80.576820</td>\n",
       "      <td>0</td>\n",
       "      <td>red</td>\n",
       "    </tr>\n",
       "    <tr>\n",
       "      <th>52</th>\n",
       "      <td>CCAFS SLC-40</td>\n",
       "      <td>28.563197</td>\n",
       "      <td>-80.576820</td>\n",
       "      <td>0</td>\n",
       "      <td>red</td>\n",
       "    </tr>\n",
       "    <tr>\n",
       "      <th>53</th>\n",
       "      <td>CCAFS SLC-40</td>\n",
       "      <td>28.563197</td>\n",
       "      <td>-80.576820</td>\n",
       "      <td>0</td>\n",
       "      <td>red</td>\n",
       "    </tr>\n",
       "    <tr>\n",
       "      <th>54</th>\n",
       "      <td>CCAFS SLC-40</td>\n",
       "      <td>28.563197</td>\n",
       "      <td>-80.576820</td>\n",
       "      <td>1</td>\n",
       "      <td>green</td>\n",
       "    </tr>\n",
       "    <tr>\n",
       "      <th>55</th>\n",
       "      <td>CCAFS SLC-40</td>\n",
       "      <td>28.563197</td>\n",
       "      <td>-80.576820</td>\n",
       "      <td>0</td>\n",
       "      <td>red</td>\n",
       "    </tr>\n",
       "  </tbody>\n",
       "</table>\n",
       "</div>"
      ],
      "text/plain": [
       "     Launch Site        Lat        Long  class marker_color\n",
       "0    CCAFS LC-40  28.562302  -80.577356      0          red\n",
       "1    CCAFS LC-40  28.562302  -80.577356      0          red\n",
       "2    CCAFS LC-40  28.562302  -80.577356      0          red\n",
       "3    CCAFS LC-40  28.562302  -80.577356      0          red\n",
       "4    CCAFS LC-40  28.562302  -80.577356      0          red\n",
       "5    CCAFS LC-40  28.562302  -80.577356      0          red\n",
       "6    CCAFS LC-40  28.562302  -80.577356      0          red\n",
       "7    CCAFS LC-40  28.562302  -80.577356      0          red\n",
       "8    CCAFS LC-40  28.562302  -80.577356      0          red\n",
       "9    CCAFS LC-40  28.562302  -80.577356      0          red\n",
       "10   CCAFS LC-40  28.562302  -80.577356      0          red\n",
       "11   CCAFS LC-40  28.562302  -80.577356      0          red\n",
       "12   CCAFS LC-40  28.562302  -80.577356      0          red\n",
       "13   CCAFS LC-40  28.562302  -80.577356      0          red\n",
       "14   CCAFS LC-40  28.562302  -80.577356      0          red\n",
       "15   CCAFS LC-40  28.562302  -80.577356      0          red\n",
       "16   CCAFS LC-40  28.562302  -80.577356      0          red\n",
       "17   CCAFS LC-40  28.562302  -80.577356      1        green\n",
       "18   CCAFS LC-40  28.562302  -80.577356      1        green\n",
       "19   CCAFS LC-40  28.562302  -80.577356      0          red\n",
       "20   CCAFS LC-40  28.562302  -80.577356      1        green\n",
       "21   CCAFS LC-40  28.562302  -80.577356      1        green\n",
       "22   CCAFS LC-40  28.562302  -80.577356      1        green\n",
       "23   CCAFS LC-40  28.562302  -80.577356      0          red\n",
       "24   CCAFS LC-40  28.562302  -80.577356      1        green\n",
       "25   CCAFS LC-40  28.562302  -80.577356      1        green\n",
       "26   VAFB SLC-4E  34.632834 -120.610746      0          red\n",
       "27   VAFB SLC-4E  34.632834 -120.610746      0          red\n",
       "28   VAFB SLC-4E  34.632834 -120.610746      1        green\n",
       "29   VAFB SLC-4E  34.632834 -120.610746      1        green\n",
       "30   VAFB SLC-4E  34.632834 -120.610746      1        green\n",
       "31   VAFB SLC-4E  34.632834 -120.610746      1        green\n",
       "32   VAFB SLC-4E  34.632834 -120.610746      0          red\n",
       "33   VAFB SLC-4E  34.632834 -120.610746      0          red\n",
       "34   VAFB SLC-4E  34.632834 -120.610746      0          red\n",
       "35   VAFB SLC-4E  34.632834 -120.610746      0          red\n",
       "36    KSC LC-39A  28.573255  -80.646895      1        green\n",
       "37    KSC LC-39A  28.573255  -80.646895      0          red\n",
       "38    KSC LC-39A  28.573255  -80.646895      1        green\n",
       "39    KSC LC-39A  28.573255  -80.646895      1        green\n",
       "40    KSC LC-39A  28.573255  -80.646895      0          red\n",
       "41    KSC LC-39A  28.573255  -80.646895      1        green\n",
       "42    KSC LC-39A  28.573255  -80.646895      1        green\n",
       "43    KSC LC-39A  28.573255  -80.646895      0          red\n",
       "44    KSC LC-39A  28.573255  -80.646895      1        green\n",
       "45    KSC LC-39A  28.573255  -80.646895      1        green\n",
       "46    KSC LC-39A  28.573255  -80.646895      1        green\n",
       "47    KSC LC-39A  28.573255  -80.646895      1        green\n",
       "48    KSC LC-39A  28.573255  -80.646895      1        green\n",
       "49  CCAFS SLC-40  28.563197  -80.576820      1        green\n",
       "50  CCAFS SLC-40  28.563197  -80.576820      1        green\n",
       "51  CCAFS SLC-40  28.563197  -80.576820      0          red\n",
       "52  CCAFS SLC-40  28.563197  -80.576820      0          red\n",
       "53  CCAFS SLC-40  28.563197  -80.576820      0          red\n",
       "54  CCAFS SLC-40  28.563197  -80.576820      1        green\n",
       "55  CCAFS SLC-40  28.563197  -80.576820      0          red"
      ]
     },
     "execution_count": 12,
     "metadata": {},
     "output_type": "execute_result"
    }
   ],
   "source": [
    "spacex_df"
   ]
  },
  {
   "cell_type": "markdown",
   "metadata": {},
   "source": [
    "*TODO:* For each launch result in `spacex_df` data frame, add a `folium.Marker` to `marker_cluster`\n"
   ]
  },
  {
   "cell_type": "code",
   "execution_count": 13,
   "metadata": {},
   "outputs": [
    {
     "data": {
      "text/html": [
       "<div style=\"width:100%;\"><div style=\"position:relative;width:100%;height:0;padding-bottom:60%;\"><span style=\"color:#565656\">Make this Notebook Trusted to load map: File -> Trust Notebook</span><iframe src=\"about:blank\" style=\"position:absolute;width:100%;height:100%;left:0;top:0;border:none !important;\" data-html=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 onload=\"this.contentDocument.open();this.contentDocument.write(atob(this.getAttribute('data-html')));this.contentDocument.close();\" allowfullscreen webkitallowfullscreen mozallowfullscreen></iframe></div></div>"
      ],
      "text/plain": [
       "<folium.folium.Map at 0x11e966130>"
      ]
     },
     "execution_count": 13,
     "metadata": {},
     "output_type": "execute_result"
    }
   ],
   "source": [
    "# Add marker_cluster to current site_map\n",
    "site_map.add_child(marker_cluster)\n",
    "\n",
    "# for each row in spacex_df data frame\n",
    "# create a Marker object with its coordinate\n",
    "# and customize the Marker's icon property to indicate if this launch was successed or failed, \n",
    "# e.g., icon=folium.Icon(color='white', icon_color=row['marker_color']\n",
    "for index, record in spacex_df.iterrows():\n",
    "    # TODO: Create and add a Marker cluster to the site map\n",
    "    # marker = folium.Marker(...)\n",
    "    marker = folium.Marker(location=(record['Lat'], record['Long']), icon=folium.Icon(color='white', icon_color=record['marker_color']))\n",
    "    marker_cluster.add_child(marker)\n",
    "\n",
    "site_map\n",
    "\n"
   ]
  },
  {
   "cell_type": "markdown",
   "metadata": {},
   "source": [
    "Your updated map may look like the following screenshots:\n"
   ]
  },
  {
   "cell_type": "markdown",
   "metadata": {},
   "source": [
    "<center>\n",
    "    <img src=\"https://cf-courses-data.s3.us.cloud-object-storage.appdomain.cloud/IBM-DS0321EN-SkillsNetwork/labs/module_3/images/launch_site_marker_cluster.png\" />\n",
    "</center>\n"
   ]
  },
  {
   "cell_type": "markdown",
   "metadata": {},
   "source": [
    "<center>\n",
    "    <img src=\"https://cf-courses-data.s3.us.cloud-object-storage.appdomain.cloud/IBM-DS0321EN-SkillsNetwork/labs/module_3/images/launch_site_marker_cluster_zoomed.png\" />\n",
    "</center>\n"
   ]
  },
  {
   "cell_type": "markdown",
   "metadata": {},
   "source": [
    "From the color-labeled markers in marker clusters, you should be able to easily identify which launch sites have relatively high success rates.\n"
   ]
  },
  {
   "cell_type": "markdown",
   "metadata": {},
   "source": [
    "# TASK 3: Calculate the distances between a launch site to its proximities\n"
   ]
  },
  {
   "cell_type": "markdown",
   "metadata": {},
   "source": [
    "Next, we need to explore and analyze the proximities of launch sites.\n"
   ]
  },
  {
   "cell_type": "markdown",
   "metadata": {},
   "source": [
    "Let's first add a `MousePosition` on the map to get coordinate for a mouse over a point on the map. As such, while you are exploring the map, you can easily find the coordinates of any points of interests (such as railway)\n"
   ]
  },
  {
   "cell_type": "code",
   "execution_count": 14,
   "metadata": {},
   "outputs": [
    {
     "data": {
      "text/html": [
       "<div style=\"width:100%;\"><div style=\"position:relative;width:100%;height:0;padding-bottom:60%;\"><span style=\"color:#565656\">Make this Notebook Trusted to load map: File -> Trust Notebook</span><iframe src=\"about:blank\" style=\"position:absolute;width:100%;height:100%;left:0;top:0;border:none !important;\" data-html=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 onload=\"this.contentDocument.open();this.contentDocument.write(atob(this.getAttribute('data-html')));this.contentDocument.close();\" allowfullscreen webkitallowfullscreen mozallowfullscreen></iframe></div></div>"
      ],
      "text/plain": [
       "<folium.folium.Map at 0x11e966130>"
      ]
     },
     "execution_count": 14,
     "metadata": {},
     "output_type": "execute_result"
    }
   ],
   "source": [
    "# Add Mouse Position to get the coordinate (Lat, Long) for a mouse over on the map\n",
    "formatter = \"function(num) {return L.Util.formatNum(num, 5);};\"\n",
    "mouse_position = MousePosition(\n",
    "    position='topright',\n",
    "    separator=' Long: ',\n",
    "    empty_string='NaN',\n",
    "    lng_first=False,\n",
    "    num_digits=20,\n",
    "    prefix='Lat:',\n",
    "    lat_formatter=formatter,\n",
    "    lng_formatter=formatter,\n",
    ")\n",
    "\n",
    "site_map.add_child(mouse_position)\n",
    "site_map"
   ]
  },
  {
   "cell_type": "markdown",
   "metadata": {},
   "source": [
    "Now zoom in to a launch site and explore its proximity to see if you can easily find any railway, highway, coastline, etc. Move your mouse to these points and mark down their coordinates (shown on the top-left) in order to the distance to the launch site.\n"
   ]
  },
  {
   "cell_type": "markdown",
   "metadata": {},
   "source": [
    "You can calculate the distance between two points on the map based on their `Lat` and `Long` values using the following method:\n"
   ]
  },
  {
   "cell_type": "code",
   "execution_count": 15,
   "metadata": {},
   "outputs": [],
   "source": [
    "from math import sin, cos, sqrt, atan2, radians\n",
    "\n",
    "def calculate_distance(lat1, lon1, lat2, lon2):\n",
    "    # approximate radius of earth in km\n",
    "    R = 6373.0\n",
    "\n",
    "    lat1 = radians(lat1)\n",
    "    lon1 = radians(lon1)\n",
    "    lat2 = radians(lat2)\n",
    "    lon2 = radians(lon2)\n",
    "\n",
    "    dlon = lon2 - lon1\n",
    "    dlat = lat2 - lat1\n",
    "\n",
    "    a = sin(dlat / 2)**2 + cos(lat1) * cos(lat2) * sin(dlon / 2)**2\n",
    "    c = 2 * atan2(sqrt(a), sqrt(1 - a))\n",
    "\n",
    "    distance = R * c\n",
    "    return distance"
   ]
  },
  {
   "cell_type": "markdown",
   "metadata": {},
   "source": [
    "*TODO:* Mark down a point on the closest coastline using MousePosition and calculate the distance between the coastline point and the launch site.\n"
   ]
  },
  {
   "cell_type": "code",
   "execution_count": 16,
   "metadata": {},
   "outputs": [
    {
     "name": "stdout",
     "output_type": "stream",
     "text": [
      "0.8571388871335784\n"
     ]
    }
   ],
   "source": [
    "# find coordinate of the closest coastline\n",
    "launch_site_lat = 28.563197\n",
    "launch_site_lon = -80.576820\n",
    "coastline_lat = 28.56405  \n",
    "coastline_lon =-80.5681\n",
    "\n",
    "distance_coastline = calculate_distance(launch_site_lat, launch_site_lon, coastline_lat, coastline_lon)\n",
    "print(distance_coastline)"
   ]
  },
  {
   "cell_type": "markdown",
   "metadata": {},
   "source": [
    "*TODO:* After obtained its coordinate, create a `folium.Marker` to show the distance\n"
   ]
  },
  {
   "cell_type": "code",
   "execution_count": 17,
   "metadata": {},
   "outputs": [
    {
     "data": {
      "text/html": [
       "<div style=\"width:100%;\"><div style=\"position:relative;width:100%;height:0;padding-bottom:60%;\"><span style=\"color:#565656\">Make this Notebook Trusted to load map: File -> Trust Notebook</span><iframe src=\"about:blank\" style=\"position:absolute;width:100%;height:100%;left:0;top:0;border:none !important;\" data-html=PCFET0NUWVBFIGh0bWw+CjxoZWFkPiAgICAKICAgIDxtZXRhIGh0dHAtZXF1aXY9ImNvbnRlbnQtdHlwZSIgY29udGVudD0idGV4dC9odG1sOyBjaGFyc2V0PVVURi04IiAvPgogICAgCiAgICAgICAgPHNjcmlwdD4KICAgICAgICAgICAgTF9OT19UT1VDSCA9IGZhbHNlOwogICAgICAgICAgICBMX0RJU0FCTEVfM0QgPSBmYWxzZTsKICAgICAgICA8L3NjcmlwdD4KICAgIAogICAgPHNjcmlwdCBzcmM9Imh0dHBzOi8vY2RuLmpzZGVsaXZyLm5ldC9ucG0vbGVhZmxldEAxLjYuMC9kaXN0L2xlYWZsZXQuanMiPjwvc2NyaXB0PgogICAgPHNjcmlwdCBzcmM9Imh0dHBzOi8vY29kZS5qcXVlcnkuY29tL2pxdWVyeS0xLjEyLjQubWluLmpzIj48L3NjcmlwdD4KICAgIDxzY3JpcHQgc3JjPSJodHRwczovL21heGNkbi5ib290c3RyYXBjZG4uY29tL2Jvb3RzdHJhcC8zLjIuMC9qcy9ib290c3RyYXAubWluLmpzIj48L3NjcmlwdD4KICAgIDxzY3JpcHQgc3JjPSJodHRwczovL2NkbmpzLmNsb3VkZmxhcmUuY29tL2FqYXgvbGlicy9MZWFmbGV0LmF3ZXNvbWUtbWFya2Vycy8yLjAuMi9sZWFmbGV0LmF3ZXNvbWUtbWFya2Vycy5qcyI+PC9zY3JpcHQ+CiAgICA8bGluayByZWw9InN0eWxlc2hlZXQiIGhyZWY9Imh0dHBzOi8vY2RuLmpzZGVsaXZyLm5ldC9ucG0vbGVhZmxldEAxLjYuMC9kaXN0L2xlYWZsZXQuY3NzIi8+CiAgICA8bGluayByZWw9InN0eWxlc2hlZXQiIGhyZWY9Imh0dHBzOi8vbWF4Y2RuLmJvb3RzdHJhcGNkbi5jb20vYm9vdHN0cmFwLzMuMi4wL2Nzcy9ib290c3RyYXAubWluLmNzcyIvPgogICAgPGxpbmsgcmVsPSJzdHlsZXNoZWV0IiBocmVmPSJodHRwczovL21heGNkbi5ib290c3RyYXBjZG4uY29tL2Jvb3RzdHJhcC8zLjIuMC9jc3MvYm9vdHN0cmFwLXRoZW1lLm1pbi5jc3MiLz4KICAgIDxsaW5rIHJlbD0ic3R5bGVzaGVldCIgaHJlZj0iaHR0cHM6Ly9tYXhjZG4uYm9vdHN0cmFwY2RuLmNvbS9mb250LWF3ZXNvbWUvNC42LjMvY3NzL2ZvbnQtYXdlc29tZS5taW4uY3NzIi8+CiAgICA8bGluayByZWw9InN0eWxlc2hlZXQiIGhyZWY9Imh0dHBzOi8vY2RuanMuY2xvdWRmbGFyZS5jb20vYWpheC9saWJzL0xlYWZsZXQuYXdlc29tZS1tYXJrZXJzLzIuMC4yL2xlYWZsZXQuYXdlc29tZS1tYXJrZXJzLmNzcyIvPgogICAgPGxpbmsgcmVsPSJzdHlsZXNoZWV0IiBocmVmPSJodHRwczovL3Jhd2Nkbi5naXRoYWNrLmNvbS9weXRob24tdmlzdWFsaXphdGlvbi9mb2xpdW0vbWFzdGVyL2ZvbGl1bS90ZW1wbGF0ZXMvbGVhZmxldC5hd2Vzb21lLnJvdGF0ZS5jc3MiLz4KICAgIDxzdHlsZT5odG1sLCBib2R5IHt3aWR0aDogMTAwJTtoZWlnaHQ6IDEwMCU7bWFyZ2luOiAwO3BhZGRpbmc6IDA7fTwvc3R5bGU+CiAgICA8c3R5bGU+I21hcCB7cG9zaXRpb246YWJzb2x1dGU7dG9wOjA7Ym90dG9tOjA7cmlnaHQ6MDtsZWZ0OjA7fTwvc3R5bGU+CiAgICAKICAgICAgICAgICAgPG1ldGEgbmFtZT0idmlld3BvcnQiIGNvbnRlbnQ9IndpZHRoPWRldmljZS13aWR0aCwKICAgICAgICAgICAgICAgIGluaXRpYWwtc2NhbGU9MS4wLCBtYXhpbXVtLXNjYWxlPTEuMCwgdXNlci1zY2FsYWJsZT1ubyIgLz4KICAgICAgICAgICAgPHN0eWxlPgogICAgICAgICAgICAgICAgI21hcF8xNjFlYzJjMWY0MTA0ZGQzYjFlNTQyY2EyZTJiODgwYyB7CiAgICAgICAgICAgICAgICAgICAgcG9zaXRpb246IHJlbGF0aXZlOwogICAgICAgICAgICAgICAgICAgIHdpZHRoOiAxMDAuMCU7CiAgICAgICAgICAgICAgICAgICAgaGVpZ2h0OiAxMDAuMCU7CiAgICAgICAgICAgICAgICAgICAgbGVmdDogMC4wJTsKICAgICAgICAgICAgICAgICAgICB0b3A6IDAuMCU7CiAgICAgICAgICAgICAgICB9CiAgICAgICAgICAgIDwvc3R5bGU+CiAgICAgICAgCiAgICA8c2NyaXB0IHNyYz0iaHR0cHM6Ly9jZG5qcy5jbG91ZGZsYXJlLmNvbS9hamF4L2xpYnMvbGVhZmxldC5tYXJrZXJjbHVzdGVyLzEuMS4wL2xlYWZsZXQubWFya2VyY2x1c3Rlci5qcyI+PC9zY3JpcHQ+CiAgICA8bGluayByZWw9InN0eWxlc2hlZXQiIGhyZWY9Imh0dHBzOi8vY2RuanMuY2xvdWRmbGFyZS5jb20vYWpheC9saWJzL2xlYWZsZXQubWFya2VyY2x1c3Rlci8xLjEuMC9NYXJrZXJDbHVzdGVyLmNzcyIvPgogICAgPGxpbmsgcmVsPSJzdHlsZXNoZWV0IiBocmVmPSJodHRwczovL2NkbmpzLmNsb3VkZmxhcmUuY29tL2FqYXgvbGlicy9sZWFmbGV0Lm1hcmtlcmNsdXN0ZXIvMS4xLjAvTWFya2VyQ2x1c3Rlci5EZWZhdWx0LmNzcyIvPgogICAgPHNjcmlwdCBzcmM9Imh0dHBzOi8vcmF3Y2RuLmdpdGhhY2suY29tL2FyZGhpL0xlYWZsZXQuTW91c2VQb3NpdGlvbi9jMzJmMWM4NC9zcmMvTC5Db250cm9sLk1vdXNlUG9zaXRpb24uanMiPjwvc2NyaXB0PgogICAgPGxpbmsgcmVsPSJzdHlsZXNoZWV0IiBocmVmPSJodHRwczovL3Jhd2Nkbi5naXRoYWNrLmNvbS9hcmRoaS9MZWFmbGV0Lk1vdXNlUG9zaXRpb24vYzMyZjFjODQvc3JjL0wuQ29udHJvbC5Nb3VzZVBvc2l0aW9uLmNzcyIvPgogICAgPHNjcmlwdCBzcmM9Imh0dHBzOi8vcmF3Y2RuLmdpdGhhY2suY29tL2FyZGhpL0xlYWZsZXQuTW91c2VQb3NpdGlvbi9jMzJmMWM4NC9zcmMvTC5Db250cm9sLk1vdXNlUG9zaXRpb24uanMiPjwvc2NyaXB0PgogICAgPGxpbmsgcmVsPSJzdHlsZXNoZWV0IiBocmVmPSJodHRwczovL3Jhd2Nkbi5naXRoYWNrLmNvbS9hcmRoaS9MZWFmbGV0Lk1vdXNlUG9zaXRpb24vYzMyZjFjODQvc3JjL0wuQ29udHJvbC5Nb3VzZVBvc2l0aW9uLmNzcyIvPgo8L2hlYWQ+Cjxib2R5PiAgICAKICAgIAogICAgICAgICAgICA8ZGl2IGNsYXNzPSJmb2xpdW0tbWFwIiBpZD0ibWFwXzE2MWVjMmMxZjQxMDRkZDNiMWU1NDJjYTJlMmI4ODBjIiA+PC9kaXY+CiAgICAgICAgCjwvYm9keT4KPHNjcmlwdD4gICAgCiAgICAKICAgICAgICAgICAgdmFyIG1hcF8xNjFlYzJjMWY0MTA0ZGQzYjFlNTQyY2EyZTJiODgwYyA9IEwubWFwKAogICAgICAgICAgICAgICAgIm1hcF8xNjFlYzJjMWY0MTA0ZGQzYjFlNTQyY2EyZTJiODgwYyIsCiAgICAgICAgICAgICAgICB7CiAgICAgICAgICAgICAgICAgICAgY2VudGVyOiBbMzEuODAwMjcsIC0xMDAuNTI1NjFdLAogICAgICAgICAgICAgICAgICAgIGNyczogTC5DUlMuRVBTRzM4NTcsCiAgICAgICAgICAgICAgICAgICAgem9vbTogNSwKICAgICAgICAgICAgICAgICAgICB6b29tQ29udHJvbDogdHJ1ZSwKICAgICAgICAgICAgICAgICAgICBwcmVmZXJDYW52YXM6IGZhbHNlLAogICAgICAgICAgICAgICAgfQogICAgICAgICAgICApOwoKICAgICAgICAgICAgCgogICAgICAgIAogICAgCiAgICAgICAgICAgIHZhciB0aWxlX2xheWVyX2JjN2YxODBiODg1MjRlYjU4ZjdjYjBiNzE4ODdkODk2ID0gTC50aWxlTGF5ZXIoCiAgICAgICAgICAgICAgICAiaHR0cHM6Ly97c30udGlsZS5vcGVuc3RyZWV0bWFwLm9yZy97en0ve3h9L3t5fS5wbmciLAogICAgICAgICAgICAgICAgeyJhdHRyaWJ1dGlvbiI6ICJEYXRhIGJ5IFx1MDAyNmNvcHk7IFx1MDAzY2EgaHJlZj1cImh0dHA6Ly9vcGVuc3RyZWV0bWFwLm9yZ1wiXHUwMDNlT3BlblN0cmVldE1hcFx1MDAzYy9hXHUwMDNlLCB1bmRlciBcdTAwM2NhIGhyZWY9XCJodHRwOi8vd3d3Lm9wZW5zdHJlZXRtYXAub3JnL2NvcHlyaWdodFwiXHUwMDNlT0RiTFx1MDAzYy9hXHUwMDNlLiIsICJkZXRlY3RSZXRpbmEiOiBmYWxzZSwgIm1heE5hdGl2ZVpvb20iOiAxOCwgIm1heFpvb20iOiAxOCwgIm1pblpvb20iOiAwLCAibm9XcmFwIjogZmFsc2UsICJvcGFjaXR5IjogMSwgInN1YmRvbWFpbnMiOiAiYWJjIiwgInRtcyI6IGZhbHNlfQogICAgICAgICAgICApLmFkZFRvKG1hcF8xNjFlYzJjMWY0MTA0ZGQzYjFlNTQyY2EyZTJiODgwYyk7CiAgICAgICAgCiAgICAKICAgICAgICAgICAgdmFyIGNpcmNsZV84MGE2OGI2NjEyMmI0M2Y3OTM0MWJhMTYyNThlNTM2NSA9IEwuY2lyY2xlKAogICAgICAgICAgICAgICAgWzI4LjU2MjMwMTk3LCAtODAuNTc3MzU2NDhdLAogICAgICAgICAgICAgICAgeyJidWJibGluZ01vdXNlRXZlbnRzIjogdHJ1ZSwgImNvbG9yIjogInJlZCIsICJkYXNoQXJyYXkiOiBudWxsLCAiZGFzaE9mZnNldCI6IG51bGwsICJmaWxsIjogdHJ1ZSwgImZpbGxDb2xvciI6ICJyZWQiLCAiZmlsbE9wYWNpdHkiOiAwLjIsICJmaWxsUnVsZSI6ICJldmVub2RkIiwgImxpbmVDYXAiOiAicm91bmQiLCAibGluZUpvaW4iOiAicm91bmQiLCAib3BhY2l0eSI6IDEuMCwgInJhZGl1cyI6IDEwMDAsICJzdHJva2UiOiB0cnVlLCAid2VpZ2h0IjogM30KICAgICAgICAgICAgKS5hZGRUbyhtYXBfMTYxZWMyYzFmNDEwNGRkM2IxZTU0MmNhMmUyYjg4MGMpOwogICAgICAgIAogICAgCiAgICAgICAgdmFyIHBvcHVwX2E3ZjA1ZGI1OTcwNzRmMjNiZmQxYmI2NmJmOGZiYTM2ID0gTC5wb3B1cCh7Im1heFdpZHRoIjogIjEwMCUifSk7CgogICAgICAgIAogICAgICAgICAgICB2YXIgaHRtbF8wMWJlOGY4ZjdiMDE0MWYyOWUwYThlNzA3N2RlNzY0OSA9ICQoYDxkaXYgaWQ9Imh0bWxfMDFiZThmOGY3YjAxNDFmMjllMGE4ZTcwNzdkZTc2NDkiIHN0eWxlPSJ3aWR0aDogMTAwLjAlOyBoZWlnaHQ6IDEwMC4wJTsiPkNDQUZTIExDLTQwPC9kaXY+YClbMF07CiAgICAgICAgICAgIHBvcHVwX2E3ZjA1ZGI1OTcwNzRmMjNiZmQxYmI2NmJmOGZiYTM2LnNldENvbnRlbnQoaHRtbF8wMWJlOGY4ZjdiMDE0MWYyOWUwYThlNzA3N2RlNzY0OSk7CiAgICAgICAgCgogICAgICAgIGNpcmNsZV84MGE2OGI2NjEyMmI0M2Y3OTM0MWJhMTYyNThlNTM2NS5iaW5kUG9wdXAocG9wdXBfYTdmMDVkYjU5NzA3NGYyM2JmZDFiYjY2YmY4ZmJhMzYpCiAgICAgICAgOwoKICAgICAgICAKICAgIAogICAgCiAgICAgICAgICAgIHZhciBtYXJrZXJfMzVjOGVjMjk2YjYwNGU2N2FiYzFiYWRkMDA4Njg4MTUgPSBMLm1hcmtlcigKICAgICAgICAgICAgICAgIFsyOC41NjIzMDE5NywgLTgwLjU3NzM1NjQ4XSwKICAgICAgICAgICAgICAgIHt9CiAgICAgICAgICAgICkuYWRkVG8obWFwXzE2MWVjMmMxZjQxMDRkZDNiMWU1NDJjYTJlMmI4ODBjKTsKICAgICAgICAKICAgIAogICAgICAgICAgICB2YXIgZGl2X2ljb25fMjM1ODNmMWQwMjExNGE0ZTkzODBlNzk5ODYwMTAzNGMgPSBMLmRpdkljb24oeyJjbGFzc05hbWUiOiAiZW1wdHkiLCAiaHRtbCI6ICJcdTAwM2NkaXYgc3R5bGU9XCJmb250LXNpemU6IDEyOyBjb2xvcjojZDM1NDAwO1wiXHUwMDNlXHUwMDNjYlx1MDAzZUNDQUZTIExDLTQwXHUwMDNjL2JcdTAwM2VcdTAwM2MvZGl2XHUwMDNlIiwgImljb25BbmNob3IiOiBbMCwgMF0sICJpY29uU2l6ZSI6IFsyMCwgMjBdfSk7CiAgICAgICAgICAgIG1hcmtlcl8zNWM4ZWMyOTZiNjA0ZTY3YWJjMWJhZGQwMDg2ODgxNS5zZXRJY29uKGRpdl9pY29uXzIzNTgzZjFkMDIxMTRhNGU5MzgwZTc5OTg2MDEwMzRjKTsKICAgICAgICAKICAgIAogICAgICAgICAgICB2YXIgY2lyY2xlX2ZjYmEzZGE3ZWI0NTRmYzg4MTc0Y2YzMzM5MTk1MzI2ID0gTC5jaXJjbGUoCiAgICAgICAgICAgICAgICBbMjguNTYzMTk3MTgsIC04MC41NzY4MjAwM10sCiAgICAgICAgICAgICAgICB7ImJ1YmJsaW5nTW91c2VFdmVudHMiOiB0cnVlLCAiY29sb3IiOiAicmVkIiwgImRhc2hBcnJheSI6IG51bGwsICJkYXNoT2Zmc2V0IjogbnVsbCwgImZpbGwiOiB0cnVlLCAiZmlsbENvbG9yIjogInJlZCIsICJmaWxsT3BhY2l0eSI6IDAuMiwgImZpbGxSdWxlIjogImV2ZW5vZGQiLCAibGluZUNhcCI6ICJyb3VuZCIsICJsaW5lSm9pbiI6ICJyb3VuZCIsICJvcGFjaXR5IjogMS4wLCAicmFkaXVzIjogMTAwMCwgInN0cm9rZSI6IHRydWUsICJ3ZWlnaHQiOiAzfQogICAgICAgICAgICApLmFkZFRvKG1hcF8xNjFlYzJjMWY0MTA0ZGQzYjFlNTQyY2EyZTJiODgwYyk7CiAgICAgICAgCiAgICAKICAgICAgICB2YXIgcG9wdXBfYzAyMDFhMjEyM2I5NGMwZmIyMzdjYWZkNDc2MjExNTYgPSBMLnBvcHVwKHsibWF4V2lkdGgiOiAiMTAwJSJ9KTsKCiAgICAgICAgCiAgICAgICAgICAgIHZhciBodG1sX2I0YzkzZWNiMjE2ZjQyYWE4MGZjYzk1Zjc5YjkxMzNlID0gJChgPGRpdiBpZD0iaHRtbF9iNGM5M2VjYjIxNmY0MmFhODBmY2M5NWY3OWI5MTMzZSIgc3R5bGU9IndpZHRoOiAxMDAuMCU7IGhlaWdodDogMTAwLjAlOyI+Q0NBRlMgU0xDLTQwPC9kaXY+YClbMF07CiAgICAgICAgICAgIHBvcHVwX2MwMjAxYTIxMjNiOTRjMGZiMjM3Y2FmZDQ3NjIxMTU2LnNldENvbnRlbnQoaHRtbF9iNGM5M2VjYjIxNmY0MmFhODBmY2M5NWY3OWI5MTMzZSk7CiAgICAgICAgCgogICAgICAgIGNpcmNsZV9mY2JhM2RhN2ViNDU0ZmM4ODE3NGNmMzMzOTE5NTMyNi5iaW5kUG9wdXAocG9wdXBfYzAyMDFhMjEyM2I5NGMwZmIyMzdjYWZkNDc2MjExNTYpCiAgICAgICAgOwoKICAgICAgICAKICAgIAogICAgCiAgICAgICAgICAgIHZhciBtYXJrZXJfM2M2YWRmOWZmYmY3NDQ4Yjg4NDBiMDRmN2NlNDRkZDQgPSBMLm1hcmtlcigKICAgICAgICAgICAgICAgIFsyOC41NjMxOTcxOCwgLTgwLjU3NjgyMDAzXSwKICAgICAgICAgICAgICAgIHt9CiAgICAgICAgICAgICkuYWRkVG8obWFwXzE2MWVjMmMxZjQxMDRkZDNiMWU1NDJjYTJlMmI4ODBjKTsKICAgICAgICAKICAgIAogICAgICAgICAgICB2YXIgZGl2X2ljb25fMzVkOTc0ZjY3NDQ0NDg4OWJhZTBiOWY5N2Q1NDYyYTcgPSBMLmRpdkljb24oeyJjbGFzc05hbWUiOiAiZW1wdHkiLCAiaHRtbCI6ICJcdTAwM2NkaXYgc3R5bGU9XCJmb250LXNpemU6IDEyOyBjb2xvcjojZDM1NDAwO1wiXHUwMDNlXHUwMDNjYlx1MDAzZUNDQUZTIFNMQy00MFx1MDAzYy9iXHUwMDNlXHUwMDNjL2Rpdlx1MDAzZSIsICJpY29uQW5jaG9yIjogWzAsIDBdLCAiaWNvblNpemUiOiBbMjAsIDIwXX0pOwogICAgICAgICAgICBtYXJrZXJfM2M2YWRmOWZmYmY3NDQ4Yjg4NDBiMDRmN2NlNDRkZDQuc2V0SWNvbihkaXZfaWNvbl8zNWQ5NzRmNjc0NDQ0ODg5YmFlMGI5Zjk3ZDU0NjJhNyk7CiAgICAgICAgCiAgICAKICAgICAgICAgICAgdmFyIGNpcmNsZV8wODVhYjA1OTE1MjA0NTFiYTZhZjI5MzQ5YTA0MzEwYiA9IEwuY2lyY2xlKAogICAgICAgICAgICAgICAgWzI4LjU3MzI1NDU3LCAtODAuNjQ2ODk1MjldLAogICAgICAgICAgICAgICAgeyJidWJibGluZ01vdXNlRXZlbnRzIjogdHJ1ZSwgImNvbG9yIjogInJlZCIsICJkYXNoQXJyYXkiOiBudWxsLCAiZGFzaE9mZnNldCI6IG51bGwsICJmaWxsIjogdHJ1ZSwgImZpbGxDb2xvciI6ICJyZWQiLCAiZmlsbE9wYWNpdHkiOiAwLjIsICJmaWxsUnVsZSI6ICJldmVub2RkIiwgImxpbmVDYXAiOiAicm91bmQiLCAibGluZUpvaW4iOiAicm91bmQiLCAib3BhY2l0eSI6IDEuMCwgInJhZGl1cyI6IDEwMDAsICJzdHJva2UiOiB0cnVlLCAid2VpZ2h0IjogM30KICAgICAgICAgICAgKS5hZGRUbyhtYXBfMTYxZWMyYzFmNDEwNGRkM2IxZTU0MmNhMmUyYjg4MGMpOwogICAgICAgIAogICAgCiAgICAgICAgdmFyIHBvcHVwXzVjN2I4MGYwZmYwZDQ3N2Y5MGNjOGMyMDk0MTNiMDcwID0gTC5wb3B1cCh7Im1heFdpZHRoIjogIjEwMCUifSk7CgogICAgICAgIAogICAgICAgICAgICB2YXIgaHRtbF9lZjMyMjg3MmE5NzE0YTA2OGE2NjE2OTIyNmYxM2Y1ZCA9ICQoYDxkaXYgaWQ9Imh0bWxfZWYzMjI4NzJhOTcxNGEwNjhhNjYxNjkyMjZmMTNmNWQiIHN0eWxlPSJ3aWR0aDogMTAwLjAlOyBoZWlnaHQ6IDEwMC4wJTsiPktTQyBMQy0zOUE8L2Rpdj5gKVswXTsKICAgICAgICAgICAgcG9wdXBfNWM3YjgwZjBmZjBkNDc3ZjkwY2M4YzIwOTQxM2IwNzAuc2V0Q29udGVudChodG1sX2VmMzIyODcyYTk3MTRhMDY4YTY2MTY5MjI2ZjEzZjVkKTsKICAgICAgICAKCiAgICAgICAgY2lyY2xlXzA4NWFiMDU5MTUyMDQ1MWJhNmFmMjkzNDlhMDQzMTBiLmJpbmRQb3B1cChwb3B1cF81YzdiODBmMGZmMGQ0NzdmOTBjYzhjMjA5NDEzYjA3MCkKICAgICAgICA7CgogICAgICAgIAogICAgCiAgICAKICAgICAgICAgICAgdmFyIG1hcmtlcl8yNTU1M2NlYzcyYmQ0NjMzYjg4MTQ1MmNiOTkxMTdlYyA9IEwubWFya2VyKAogICAgICAgICAgICAgICAgWzI4LjU3MzI1NDU3LCAtODAuNjQ2ODk1MjldLAogICAgICAgICAgICAgICAge30KICAgICAgICAgICAgKS5hZGRUbyhtYXBfMTYxZWMyYzFmNDEwNGRkM2IxZTU0MmNhMmUyYjg4MGMpOwogICAgICAgIAogICAgCiAgICAgICAgICAgIHZhciBkaXZfaWNvbl8zMDM0OGM2NDQyYTc0NzhkYTM0MGUzOGEwN2Q4N2YyYiA9IEwuZGl2SWNvbih7ImNsYXNzTmFtZSI6ICJlbXB0eSIsICJodG1sIjogIlx1MDAzY2RpdiBzdHlsZT1cImZvbnQtc2l6ZTogMTI7IGNvbG9yOiNkMzU0MDA7XCJcdTAwM2VcdTAwM2NiXHUwMDNlS1NDIExDLTM5QVx1MDAzYy9iXHUwMDNlXHUwMDNjL2Rpdlx1MDAzZSIsICJpY29uQW5jaG9yIjogWzAsIDBdLCAiaWNvblNpemUiOiBbMjAsIDIwXX0pOwogICAgICAgICAgICBtYXJrZXJfMjU1NTNjZWM3MmJkNDYzM2I4ODE0NTJjYjk5MTE3ZWMuc2V0SWNvbihkaXZfaWNvbl8zMDM0OGM2NDQyYTc0NzhkYTM0MGUzOGEwN2Q4N2YyYik7CiAgICAgICAgCiAgICAKICAgICAgICAgICAgdmFyIGNpcmNsZV8wYTRiODFjMTc1Zjg0NDlhYTk4ZDdjM2VjZTQwZTg5YSA9IEwuY2lyY2xlKAogICAgICAgICAgICAgICAgWzM0LjYzMjgzNDE2LCAtMTIwLjYxMDc0NTUwMDAwMDAxXSwKICAgICAgICAgICAgICAgIHsiYnViYmxpbmdNb3VzZUV2ZW50cyI6IHRydWUsICJjb2xvciI6ICJyZWQiLCAiZGFzaEFycmF5IjogbnVsbCwgImRhc2hPZmZzZXQiOiBudWxsLCAiZmlsbCI6IHRydWUsICJmaWxsQ29sb3IiOiAicmVkIiwgImZpbGxPcGFjaXR5IjogMC4yLCAiZmlsbFJ1bGUiOiAiZXZlbm9kZCIsICJsaW5lQ2FwIjogInJvdW5kIiwgImxpbmVKb2luIjogInJvdW5kIiwgIm9wYWNpdHkiOiAxLjAsICJyYWRpdXMiOiAxMDAwLCAic3Ryb2tlIjogdHJ1ZSwgIndlaWdodCI6IDN9CiAgICAgICAgICAgICkuYWRkVG8obWFwXzE2MWVjMmMxZjQxMDRkZDNiMWU1NDJjYTJlMmI4ODBjKTsKICAgICAgICAKICAgIAogICAgICAgIHZhciBwb3B1cF9kYzk3YmJlZDAwOGQ0ZDk5YjA4NmUxNmQ5ZTU1OWM4OSA9IEwucG9wdXAoeyJtYXhXaWR0aCI6ICIxMDAlIn0pOwoKICAgICAgICAKICAgICAgICAgICAgdmFyIGh0bWxfYTM1MDkyZjE0NzliNGIzOWFhOWI0MTBhMzQwZDU4ZGUgPSAkKGA8ZGl2IGlkPSJodG1sX2EzNTA5MmYxNDc5YjRiMzlhYTliNDEwYTM0MGQ1OGRlIiBzdHlsZT0id2lkdGg6IDEwMC4wJTsgaGVpZ2h0OiAxMDAuMCU7Ij5WQUZCIFNMQy00RTwvZGl2PmApWzBdOwogICAgICAgICAgICBwb3B1cF9kYzk3YmJlZDAwOGQ0ZDk5YjA4NmUxNmQ5ZTU1OWM4OS5zZXRDb250ZW50KGh0bWxfYTM1MDkyZjE0NzliNGIzOWFhOWI0MTBhMzQwZDU4ZGUpOwogICAgICAgIAoKICAgICAgICBjaXJjbGVfMGE0YjgxYzE3NWY4NDQ5YWE5OGQ3YzNlY2U0MGU4OWEuYmluZFBvcHVwKHBvcHVwX2RjOTdiYmVkMDA4ZDRkOTliMDg2ZTE2ZDllNTU5Yzg5KQogICAgICAgIDsKCiAgICAgICAgCiAgICAKICAgIAogICAgICAgICAgICB2YXIgbWFya2VyX2QxZDllNzVkODllODRjMDk5ODFiMjAzY2RmNTc4Y2E3ID0gTC5tYXJrZXIoCiAgICAgICAgICAgICAgICBbMzQuNjMyODM0MTYsIC0xMjAuNjEwNzQ1NTAwMDAwMDFdLAogICAgICAgICAgICAgICAge30KICAgICAgICAgICAgKS5hZGRUbyhtYXBfMTYxZWMyYzFmNDEwNGRkM2IxZTU0MmNhMmUyYjg4MGMpOwogICAgICAgIAogICAgCiAgICAgICAgICAgIHZhciBkaXZfaWNvbl8xNjQxMmFmOWUyNDI0Y2JjOGY3YmQyYmY1NDVlN2YyNCA9IEwuZGl2SWNvbih7ImNsYXNzTmFtZSI6ICJlbXB0eSIsICJodG1sIjogIlx1MDAzY2RpdiBzdHlsZT1cImZvbnQtc2l6ZTogMTI7IGNvbG9yOiNkMzU0MDA7XCJcdTAwM2VcdTAwM2NiXHUwMDNlVkFGQiBTTEMtNEVcdTAwM2MvYlx1MDAzZVx1MDAzYy9kaXZcdTAwM2UiLCAiaWNvbkFuY2hvciI6IFswLCAwXSwgImljb25TaXplIjogWzIwLCAyMF19KTsKICAgICAgICAgICAgbWFya2VyX2QxZDllNzVkODllODRjMDk5ODFiMjAzY2RmNTc4Y2E3LnNldEljb24oZGl2X2ljb25fMTY0MTJhZjllMjQyNGNiYzhmN2JkMmJmNTQ1ZTdmMjQpOwogICAgICAgIAogICAgCiAgICAgICAgICAgIHZhciBtYXJrZXJfY2x1c3Rlcl82MDJhOTBmNDdkYmQ0MjllOTk2OTI4ZWMxN2VkYzhmMCA9IEwubWFya2VyQ2x1c3Rlckdyb3VwKAogICAgICAgICAgICAgICAge30KICAgICAgICAgICAgKTsKICAgICAgICAgICAgbWFwXzE2MWVjMmMxZjQxMDRkZDNiMWU1NDJjYTJlMmI4ODBjLmFkZExheWVyKG1hcmtlcl9jbHVzdGVyXzYwMmE5MGY0N2RiZDQyOWU5OTY5MjhlYzE3ZWRjOGYwKTsKICAgICAgICAKICAgIAogICAgICAgICAgICB2YXIgbWFya2VyXzNhYzEwMzU4ZTA5YTRkNWJiOTA1YzI1MTM5ODg4NDBhID0gTC5tYXJrZXIoCiAgICAgICAgICAgICAgICBbMjguNTYyMzAxOTcsIC04MC41NzczNTY0OF0sCiAgICAgICAgICAgICAgICB7fQogICAgICAgICAgICApLmFkZFRvKG1hcmtlcl9jbHVzdGVyXzYwMmE5MGY0N2RiZDQyOWU5OTY5MjhlYzE3ZWRjOGYwKTsKICAgICAgICAKICAgIAogICAgICAgICAgICB2YXIgaWNvbl82YTZjOGQ2Mzc5YWY0MzM4OGRhZDAzZmJjYWFhOWQxMiA9IEwuQXdlc29tZU1hcmtlcnMuaWNvbigKICAgICAgICAgICAgICAgIHsiZXh0cmFDbGFzc2VzIjogImZhLXJvdGF0ZS0wIiwgImljb24iOiAiaW5mby1zaWduIiwgImljb25Db2xvciI6ICJyZWQiLCAibWFya2VyQ29sb3IiOiAid2hpdGUiLCAicHJlZml4IjogImdseXBoaWNvbiJ9CiAgICAgICAgICAgICk7CiAgICAgICAgICAgIG1hcmtlcl8zYWMxMDM1OGUwOWE0ZDViYjkwNWMyNTEzOTg4ODQwYS5zZXRJY29uKGljb25fNmE2YzhkNjM3OWFmNDMzODhkYWQwM2ZiY2FhYTlkMTIpOwogICAgICAgIAogICAgCiAgICAgICAgICAgIHZhciBtYXJrZXJfZjJkYmU1OTgwNzI1NGFjMGIzN2E4NDRhMWI0ZWU4NTIgPSBMLm1hcmtlcigKICAgICAgICAgICAgICAgIFsyOC41NjIzMDE5NywgLTgwLjU3NzM1NjQ4XSwKICAgICAgICAgICAgICAgIHt9CiAgICAgICAgICAgICkuYWRkVG8obWFya2VyX2NsdXN0ZXJfNjAyYTkwZjQ3ZGJkNDI5ZTk5NjkyOGVjMTdlZGM4ZjApOwogICAgICAgIAogICAgCiAgICAgICAgICAgIHZhciBpY29uX2Y4ZTA4ZmI5YzZkYTQ4ZjFhOTMxYjYzYzI0ZGJjMjdhID0gTC5Bd2Vzb21lTWFya2Vycy5pY29uKAogICAgICAgICAgICAgICAgeyJleHRyYUNsYXNzZXMiOiAiZmEtcm90YXRlLTAiLCAiaWNvbiI6ICJpbmZvLXNpZ24iLCAiaWNvbkNvbG9yIjogInJlZCIsICJtYXJrZXJDb2xvciI6ICJ3aGl0ZSIsICJwcmVmaXgiOiAiZ2x5cGhpY29uIn0KICAgICAgICAgICAgKTsKICAgICAgICAgICAgbWFya2VyX2YyZGJlNTk4MDcyNTRhYzBiMzdhODQ0YTFiNGVlODUyLnNldEljb24oaWNvbl9mOGUwOGZiOWM2ZGE0OGYxYTkzMWI2M2MyNGRiYzI3YSk7CiAgICAgICAgCiAgICAKICAgICAgICAgICAgdmFyIG1hcmtlcl9kMGZjOTk0OWM0YzA0NGY2OTI1ZjNlZDU3ODBhMzMzYSA9IEwubWFya2VyKAogICAgICAgICAgICAgICAgWzI4LjU2MjMwMTk3LCAtODAuNTc3MzU2NDhdLAogICAgICAgICAgICAgICAge30KICAgICAgICAgICAgKS5hZGRUbyhtYXJrZXJfY2x1c3Rlcl82MDJhOTBmNDdkYmQ0MjllOTk2OTI4ZWMxN2VkYzhmMCk7CiAgICAgICAgCiAgICAKICAgICAgICAgICAgdmFyIGljb25fZmYzMDM1ZWI5NGU5NDdjNmJiNThlNTBmNGY0YmZmMzAgPSBMLkF3ZXNvbWVNYXJrZXJzLmljb24oCiAgICAgICAgICAgICAgICB7ImV4dHJhQ2xhc3NlcyI6ICJmYS1yb3RhdGUtMCIsICJpY29uIjogImluZm8tc2lnbiIsICJpY29uQ29sb3IiOiAicmVkIiwgIm1hcmtlckNvbG9yIjogIndoaXRlIiwgInByZWZpeCI6ICJnbHlwaGljb24ifQogICAgICAgICAgICApOwogICAgICAgICAgICBtYXJrZXJfZDBmYzk5NDljNGMwNDRmNjkyNWYzZWQ1NzgwYTMzM2Euc2V0SWNvbihpY29uX2ZmMzAzNWViOTRlOTQ3YzZiYjU4ZTUwZjRmNGJmZjMwKTsKICAgICAgICAKICAgIAogICAgICAgICAgICB2YXIgbWFya2VyX2JjMDY2YmJlYzNjZTRlYTE4Y2M3YTU5Y2JkNDRjOGJlID0gTC5tYXJrZXIoCiAgICAgICAgICAgICAgICBbMjguNTYyMzAxOTcsIC04MC41NzczNTY0OF0sCiAgICAgICAgICAgICAgICB7fQogICAgICAgICAgICApLmFkZFRvKG1hcmtlcl9jbHVzdGVyXzYwMmE5MGY0N2RiZDQyOWU5OTY5MjhlYzE3ZWRjOGYwKTsKICAgICAgICAKICAgIAogICAgICAgICAgICB2YXIgaWNvbl9iMjhiOTQxNDA2MjI0OTIxYTljZGY2YThkNTM5NmZhNSA9IEwuQXdlc29tZU1hcmtlcnMuaWNvbigKICAgICAgICAgICAgICAgIHsiZXh0cmFDbGFzc2VzIjogImZhLXJvdGF0ZS0wIiwgImljb24iOiAiaW5mby1zaWduIiwgImljb25Db2xvciI6ICJyZWQiLCAibWFya2VyQ29sb3IiOiAid2hpdGUiLCAicHJlZml4IjogImdseXBoaWNvbiJ9CiAgICAgICAgICAgICk7CiAgICAgICAgICAgIG1hcmtlcl9iYzA2NmJiZWMzY2U0ZWExOGNjN2E1OWNiZDQ0YzhiZS5zZXRJY29uKGljb25fYjI4Yjk0MTQwNjIyNDkyMWE5Y2RmNmE4ZDUzOTZmYTUpOwogICAgICAgIAogICAgCiAgICAgICAgICAgIHZhciBtYXJrZXJfMTZhMTQ1ZWJiMmQ0NDE4MDkzNzk1MDFiZmZkOGI3MjMgPSBMLm1hcmtlcigKICAgICAgICAgICAgICAgIFsyOC41NjIzMDE5NywgLTgwLjU3NzM1NjQ4XSwKICAgICAgICAgICAgICAgIHt9CiAgICAgICAgICAgICkuYWRkVG8obWFya2VyX2NsdXN0ZXJfNjAyYTkwZjQ3ZGJkNDI5ZTk5NjkyOGVjMTdlZGM4ZjApOwogICAgICAgIAogICAgCiAgICAgICAgICAgIHZhciBpY29uXzAzMDE0ZGNiZjc2NzQ0MWFhZjc0ODdlZWM2MmJmY2E5ID0gTC5Bd2Vzb21lTWFya2Vycy5pY29uKAogICAgICAgICAgICAgICAgeyJleHRyYUNsYXNzZXMiOiAiZmEtcm90YXRlLTAiLCAiaWNvbiI6ICJpbmZvLXNpZ24iLCAiaWNvbkNvbG9yIjogInJlZCIsICJtYXJrZXJDb2xvciI6ICJ3aGl0ZSIsICJwcmVmaXgiOiAiZ2x5cGhpY29uIn0KICAgICAgICAgICAgKTsKICAgICAgICAgICAgbWFya2VyXzE2YTE0NWViYjJkNDQxODA5Mzc5NTAxYmZmZDhiNzIzLnNldEljb24oaWNvbl8wMzAxNGRjYmY3Njc0NDFhYWY3NDg3ZWVjNjJiZmNhOSk7CiAgICAgICAgCiAgICAKICAgICAgICAgICAgdmFyIG1hcmtlcl9mMDM5ZDQ1ZmE2YTI0ZjFjYjkzYmQ2MzRkMmQwZmY5ZSA9IEwubWFya2VyKAogICAgICAgICAgICAgICAgWzI4LjU2MjMwMTk3LCAtODAuNTc3MzU2NDhdLAogICAgICAgICAgICAgICAge30KICAgICAgICAgICAgKS5hZGRUbyhtYXJrZXJfY2x1c3Rlcl82MDJhOTBmNDdkYmQ0MjllOTk2OTI4ZWMxN2VkYzhmMCk7CiAgICAgICAgCiAgICAKICAgICAgICAgICAgdmFyIGljb25fZTBmMWRjZDM4YjliNDNhYjhjZjUzMWMwODZiOWE0ODcgPSBMLkF3ZXNvbWVNYXJrZXJzLmljb24oCiAgICAgICAgICAgICAgICB7ImV4dHJhQ2xhc3NlcyI6ICJmYS1yb3RhdGUtMCIsICJpY29uIjogImluZm8tc2lnbiIsICJpY29uQ29sb3IiOiAicmVkIiwgIm1hcmtlckNvbG9yIjogIndoaXRlIiwgInByZWZpeCI6ICJnbHlwaGljb24ifQogICAgICAgICAgICApOwogICAgICAgICAgICBtYXJrZXJfZjAzOWQ0NWZhNmEyNGYxY2I5M2JkNjM0ZDJkMGZmOWUuc2V0SWNvbihpY29uX2UwZjFkY2QzOGI5YjQzYWI4Y2Y1MzFjMDg2YjlhNDg3KTsKICAgICAgICAKICAgIAogICAgICAgICAgICB2YXIgbWFya2VyXzI4NDVmNWI2OGRlMTRmYWViYmVjZTIzODRmNTljMTBlID0gTC5tYXJrZXIoCiAgICAgICAgICAgICAgICBbMjguNTYyMzAxOTcsIC04MC41NzczNTY0OF0sCiAgICAgICAgICAgICAgICB7fQogICAgICAgICAgICApLmFkZFRvKG1hcmtlcl9jbHVzdGVyXzYwMmE5MGY0N2RiZDQyOWU5OTY5MjhlYzE3ZWRjOGYwKTsKICAgICAgICAKICAgIAogICAgICAgICAgICB2YXIgaWNvbl8xNDZlZTM0ZmRhNmY0NWU4YTc4YmQ1YmQ0YTAyNjM3OSA9IEwuQXdlc29tZU1hcmtlcnMuaWNvbigKICAgICAgICAgICAgICAgIHsiZXh0cmFDbGFzc2VzIjogImZhLXJvdGF0ZS0wIiwgImljb24iOiAiaW5mby1zaWduIiwgImljb25Db2xvciI6ICJyZWQiLCAibWFya2VyQ29sb3IiOiAid2hpdGUiLCAicHJlZml4IjogImdseXBoaWNvbiJ9CiAgICAgICAgICAgICk7CiAgICAgICAgICAgIG1hcmtlcl8yODQ1ZjViNjhkZTE0ZmFlYmJlY2UyMzg0ZjU5YzEwZS5zZXRJY29uKGljb25fMTQ2ZWUzNGZkYTZmNDVlOGE3OGJkNWJkNGEwMjYzNzkpOwogICAgICAgIAogICAgCiAgICAgICAgICAgIHZhciBtYXJrZXJfNDVkOWI0M2ExZDkwNGMzZWE5MmZhNGU0ZWQxNDE5NmEgPSBMLm1hcmtlcigKICAgICAgICAgICAgICAgIFsyOC41NjIzMDE5NywgLTgwLjU3NzM1NjQ4XSwKICAgICAgICAgICAgICAgIHt9CiAgICAgICAgICAgICkuYWRkVG8obWFya2VyX2NsdXN0ZXJfNjAyYTkwZjQ3ZGJkNDI5ZTk5NjkyOGVjMTdlZGM4ZjApOwogICAgICAgIAogICAgCiAgICAgICAgICAgIHZhciBpY29uXzEzYTVhOTU5MmJjMDRlNWRhODc2YzU1NjUyZTk3YzhjID0gTC5Bd2Vzb21lTWFya2Vycy5pY29uKAogICAgICAgICAgICAgICAgeyJleHRyYUNsYXNzZXMiOiAiZmEtcm90YXRlLTAiLCAiaWNvbiI6ICJpbmZvLXNpZ24iLCAiaWNvbkNvbG9yIjogInJlZCIsICJtYXJrZXJDb2xvciI6ICJ3aGl0ZSIsICJwcmVmaXgiOiAiZ2x5cGhpY29uIn0KICAgICAgICAgICAgKTsKICAgICAgICAgICAgbWFya2VyXzQ1ZDliNDNhMWQ5MDRjM2VhOTJmYTRlNGVkMTQxOTZhLnNldEljb24oaWNvbl8xM2E1YTk1OTJiYzA0ZTVkYTg3NmM1NTY1MmU5N2M4Yyk7CiAgICAgICAgCiAgICAKICAgICAgICAgICAgdmFyIG1hcmtlcl9jNDE0MjQzOGRiYmE0N2NiOWFmOGY1YzhkMTM1YTI0NCA9IEwubWFya2VyKAogICAgICAgICAgICAgICAgWzI4LjU2MjMwMTk3LCAtODAuNTc3MzU2NDhdLAogICAgICAgICAgICAgICAge30KICAgICAgICAgICAgKS5hZGRUbyhtYXJrZXJfY2x1c3Rlcl82MDJhOTBmNDdkYmQ0MjllOTk2OTI4ZWMxN2VkYzhmMCk7CiAgICAgICAgCiAgICAKICAgICAgICAgICAgdmFyIGljb25fYTcwNjI2ZDlkMTJhNGM0NWI0MzQ1MmU1NjliZmU5YTAgPSBMLkF3ZXNvbWVNYXJrZXJzLmljb24oCiAgICAgICAgICAgICAgICB7ImV4dHJhQ2xhc3NlcyI6ICJmYS1yb3RhdGUtMCIsICJpY29uIjogImluZm8tc2lnbiIsICJpY29uQ29sb3IiOiAicmVkIiwgIm1hcmtlckNvbG9yIjogIndoaXRlIiwgInByZWZpeCI6ICJnbHlwaGljb24ifQogICAgICAgICAgICApOwogICAgICAgICAgICBtYXJrZXJfYzQxNDI0MzhkYmJhNDdjYjlhZjhmNWM4ZDEzNWEyNDQuc2V0SWNvbihpY29uX2E3MDYyNmQ5ZDEyYTRjNDViNDM0NTJlNTY5YmZlOWEwKTsKICAgICAgICAKICAgIAogICAgICAgICAgICB2YXIgbWFya2VyX2EwMDNhM2ExZmYxZDQ1MGM4MWJmODFjYjEyM2Y1NmQ2ID0gTC5tYXJrZXIoCiAgICAgICAgICAgICAgICBbMjguNTYyMzAxOTcsIC04MC41NzczNTY0OF0sCiAgICAgICAgICAgICAgICB7fQogICAgICAgICAgICApLmFkZFRvKG1hcmtlcl9jbHVzdGVyXzYwMmE5MGY0N2RiZDQyOWU5OTY5MjhlYzE3ZWRjOGYwKTsKICAgICAgICAKICAgIAogICAgICAgICAgICB2YXIgaWNvbl9mZGZkMjNmNTUyNDY0Y2YzYjRlMmYwMDkyMjM4MDZiNSA9IEwuQXdlc29tZU1hcmtlcnMuaWNvbigKICAgICAgICAgICAgICAgIHsiZXh0cmFDbGFzc2VzIjogImZhLXJvdGF0ZS0wIiwgImljb24iOiAiaW5mby1zaWduIiwgImljb25Db2xvciI6ICJyZWQiLCAibWFya2VyQ29sb3IiOiAid2hpdGUiLCAicHJlZml4IjogImdseXBoaWNvbiJ9CiAgICAgICAgICAgICk7CiAgICAgICAgICAgIG1hcmtlcl9hMDAzYTNhMWZmMWQ0NTBjODFiZjgxY2IxMjNmNTZkNi5zZXRJY29uKGljb25fZmRmZDIzZjU1MjQ2NGNmM2I0ZTJmMDA5MjIzODA2YjUpOwogICAgICAgIAogICAgCiAgICAgICAgICAgIHZhciBtYXJrZXJfY2I3YWI0OTk3YjJhNDM1Zjg2ZjBmZGQzYTYzMjNiMTEgPSBMLm1hcmtlcigKICAgICAgICAgICAgICAgIFsyOC41NjIzMDE5NywgLTgwLjU3NzM1NjQ4XSwKICAgICAgICAgICAgICAgIHt9CiAgICAgICAgICAgICkuYWRkVG8obWFya2VyX2NsdXN0ZXJfNjAyYTkwZjQ3ZGJkNDI5ZTk5NjkyOGVjMTdlZGM4ZjApOwogICAgICAgIAogICAgCiAgICAgICAgICAgIHZhciBpY29uXzk5MjcyYzY0ODZlODQ4Zjk5YTQ5NGI3NzkyMzUwN2FmID0gTC5Bd2Vzb21lTWFya2Vycy5pY29uKAogICAgICAgICAgICAgICAgeyJleHRyYUNsYXNzZXMiOiAiZmEtcm90YXRlLTAiLCAiaWNvbiI6ICJpbmZvLXNpZ24iLCAiaWNvbkNvbG9yIjogInJlZCIsICJtYXJrZXJDb2xvciI6ICJ3aGl0ZSIsICJwcmVmaXgiOiAiZ2x5cGhpY29uIn0KICAgICAgICAgICAgKTsKICAgICAgICAgICAgbWFya2VyX2NiN2FiNDk5N2IyYTQzNWY4NmYwZmRkM2E2MzIzYjExLnNldEljb24oaWNvbl85OTI3MmM2NDg2ZTg0OGY5OWE0OTRiNzc5MjM1MDdhZik7CiAgICAgICAgCiAgICAKICAgICAgICAgICAgdmFyIG1hcmtlcl83ODI5MzllNWM2N2Y0YWQwOWYyOGIyMDhhNTVmMTg2OSA9IEwubWFya2VyKAogICAgICAgICAgICAgICAgWzI4LjU2MjMwMTk3LCAtODAuNTc3MzU2NDhdLAogICAgICAgICAgICAgICAge30KICAgICAgICAgICAgKS5hZGRUbyhtYXJrZXJfY2x1c3Rlcl82MDJhOTBmNDdkYmQ0MjllOTk2OTI4ZWMxN2VkYzhmMCk7CiAgICAgICAgCiAgICAKICAgICAgICAgICAgdmFyIGljb25fM2QyZDU1OGQwNWE5NDRlOTkxMjc2OTlkYjBlMmUwNDQgPSBMLkF3ZXNvbWVNYXJrZXJzLmljb24oCiAgICAgICAgICAgICAgICB7ImV4dHJhQ2xhc3NlcyI6ICJmYS1yb3RhdGUtMCIsICJpY29uIjogImluZm8tc2lnbiIsICJpY29uQ29sb3IiOiAicmVkIiwgIm1hcmtlckNvbG9yIjogIndoaXRlIiwgInByZWZpeCI6ICJnbHlwaGljb24ifQogICAgICAgICAgICApOwogICAgICAgICAgICBtYXJrZXJfNzgyOTM5ZTVjNjdmNGFkMDlmMjhiMjA4YTU1ZjE4Njkuc2V0SWNvbihpY29uXzNkMmQ1NThkMDVhOTQ0ZTk5MTI3Njk5ZGIwZTJlMDQ0KTsKICAgICAgICAKICAgIAogICAgICAgICAgICB2YXIgbWFya2VyXzBhYmExNjY5NGM0NDQzMTI4Y2QzZTgzOGE3YmQ4NTEyID0gTC5tYXJrZXIoCiAgICAgICAgICAgICAgICBbMjguNTYyMzAxOTcsIC04MC41NzczNTY0OF0sCiAgICAgICAgICAgICAgICB7fQogICAgICAgICAgICApLmFkZFRvKG1hcmtlcl9jbHVzdGVyXzYwMmE5MGY0N2RiZDQyOWU5OTY5MjhlYzE3ZWRjOGYwKTsKICAgICAgICAKICAgIAogICAgICAgICAgICB2YXIgaWNvbl9mYzI0OTk4ZmZiNDk0N2MyYjI5Y2NiMjcwYmY0NjllNyA9IEwuQXdlc29tZU1hcmtlcnMuaWNvbigKICAgICAgICAgICAgICAgIHsiZXh0cmFDbGFzc2VzIjogImZhLXJvdGF0ZS0wIiwgImljb24iOiAiaW5mby1zaWduIiwgImljb25Db2xvciI6ICJyZWQiLCAibWFya2VyQ29sb3IiOiAid2hpdGUiLCAicHJlZml4IjogImdseXBoaWNvbiJ9CiAgICAgICAgICAgICk7CiAgICAgICAgICAgIG1hcmtlcl8wYWJhMTY2OTRjNDQ0MzEyOGNkM2U4MzhhN2JkODUxMi5zZXRJY29uKGljb25fZmMyNDk5OGZmYjQ5NDdjMmIyOWNjYjI3MGJmNDY5ZTcpOwogICAgICAgIAogICAgCiAgICAgICAgICAgIHZhciBtYXJrZXJfMmExMzM1MDgwNWE4NDVkMTlmMTcxMWYwMTllYWJiNzkgPSBMLm1hcmtlcigKICAgICAgICAgICAgICAgIFsyOC41NjIzMDE5NywgLTgwLjU3NzM1NjQ4XSwKICAgICAgICAgICAgICAgIHt9CiAgICAgICAgICAgICkuYWRkVG8obWFya2VyX2NsdXN0ZXJfNjAyYTkwZjQ3ZGJkNDI5ZTk5NjkyOGVjMTdlZGM4ZjApOwogICAgICAgIAogICAgCiAgICAgICAgICAgIHZhciBpY29uXzMyOGE3NzA0MDI0ZDQwMGU4MWNjMzQxNGJmYjc4YjE0ID0gTC5Bd2Vzb21lTWFya2Vycy5pY29uKAogICAgICAgICAgICAgICAgeyJleHRyYUNsYXNzZXMiOiAiZmEtcm90YXRlLTAiLCAiaWNvbiI6ICJpbmZvLXNpZ24iLCAiaWNvbkNvbG9yIjogInJlZCIsICJtYXJrZXJDb2xvciI6ICJ3aGl0ZSIsICJwcmVmaXgiOiAiZ2x5cGhpY29uIn0KICAgICAgICAgICAgKTsKICAgICAgICAgICAgbWFya2VyXzJhMTMzNTA4MDVhODQ1ZDE5ZjE3MTFmMDE5ZWFiYjc5LnNldEljb24oaWNvbl8zMjhhNzcwNDAyNGQ0MDBlODFjYzM0MTRiZmI3OGIxNCk7CiAgICAgICAgCiAgICAKICAgICAgICAgICAgdmFyIG1hcmtlcl8yNTMwZTEyZTRkODU0NzNkYTM1ZjdiNTIyZDY0NWE0NSA9IEwubWFya2VyKAogICAgICAgICAgICAgICAgWzI4LjU2MjMwMTk3LCAtODAuNTc3MzU2NDhdLAogICAgICAgICAgICAgICAge30KICAgICAgICAgICAgKS5hZGRUbyhtYXJrZXJfY2x1c3Rlcl82MDJhOTBmNDdkYmQ0MjllOTk2OTI4ZWMxN2VkYzhmMCk7CiAgICAgICAgCiAgICAKICAgICAgICAgICAgdmFyIGljb25fYTU3YTQ3ODBlMWQzNDg4NWJmODU2MmM4MTFiZWY0NTcgPSBMLkF3ZXNvbWVNYXJrZXJzLmljb24oCiAgICAgICAgICAgICAgICB7ImV4dHJhQ2xhc3NlcyI6ICJmYS1yb3RhdGUtMCIsICJpY29uIjogImluZm8tc2lnbiIsICJpY29uQ29sb3IiOiAicmVkIiwgIm1hcmtlckNvbG9yIjogIndoaXRlIiwgInByZWZpeCI6ICJnbHlwaGljb24ifQogICAgICAgICAgICApOwogICAgICAgICAgICBtYXJrZXJfMjUzMGUxMmU0ZDg1NDczZGEzNWY3YjUyMmQ2NDVhNDUuc2V0SWNvbihpY29uX2E1N2E0NzgwZTFkMzQ4ODViZjg1NjJjODExYmVmNDU3KTsKICAgICAgICAKICAgIAogICAgICAgICAgICB2YXIgbWFya2VyXzNmNzQ3Nzc5N2Q4MDQ1NWJiZGQwMjFhODM2NzNhZGJkID0gTC5tYXJrZXIoCiAgICAgICAgICAgICAgICBbMjguNTYyMzAxOTcsIC04MC41NzczNTY0OF0sCiAgICAgICAgICAgICAgICB7fQogICAgICAgICAgICApLmFkZFRvKG1hcmtlcl9jbHVzdGVyXzYwMmE5MGY0N2RiZDQyOWU5OTY5MjhlYzE3ZWRjOGYwKTsKICAgICAgICAKICAgIAogICAgICAgICAgICB2YXIgaWNvbl9jMmM3YzYzODk4Mzk0NWM0YjU0MmVjMjE0NzYzNTViNSA9IEwuQXdlc29tZU1hcmtlcnMuaWNvbigKICAgICAgICAgICAgICAgIHsiZXh0cmFDbGFzc2VzIjogImZhLXJvdGF0ZS0wIiwgImljb24iOiAiaW5mby1zaWduIiwgImljb25Db2xvciI6ICJyZWQiLCAibWFya2VyQ29sb3IiOiAid2hpdGUiLCAicHJlZml4IjogImdseXBoaWNvbiJ9CiAgICAgICAgICAgICk7CiAgICAgICAgICAgIG1hcmtlcl8zZjc0Nzc3OTdkODA0NTViYmRkMDIxYTgzNjczYWRiZC5zZXRJY29uKGljb25fYzJjN2M2Mzg5ODM5NDVjNGI1NDJlYzIxNDc2MzU1YjUpOwogICAgICAgIAogICAgCiAgICAgICAgICAgIHZhciBtYXJrZXJfM2FkNjgwOTFiMjZmNDEwZDgyYzA4MDhhM2ZlMWE5M2YgPSBMLm1hcmtlcigKICAgICAgICAgICAgICAgIFsyOC41NjIzMDE5NywgLTgwLjU3NzM1NjQ4XSwKICAgICAgICAgICAgICAgIHt9CiAgICAgICAgICAgICkuYWRkVG8obWFya2VyX2NsdXN0ZXJfNjAyYTkwZjQ3ZGJkNDI5ZTk5NjkyOGVjMTdlZGM4ZjApOwogICAgICAgIAogICAgCiAgICAgICAgICAgIHZhciBpY29uX2Q2YzM2MGRjOTdlNDQwNWZhOGY2ZWIyNGUyNDFmNWJjID0gTC5Bd2Vzb21lTWFya2Vycy5pY29uKAogICAgICAgICAgICAgICAgeyJleHRyYUNsYXNzZXMiOiAiZmEtcm90YXRlLTAiLCAiaWNvbiI6ICJpbmZvLXNpZ24iLCAiaWNvbkNvbG9yIjogInJlZCIsICJtYXJrZXJDb2xvciI6ICJ3aGl0ZSIsICJwcmVmaXgiOiAiZ2x5cGhpY29uIn0KICAgICAgICAgICAgKTsKICAgICAgICAgICAgbWFya2VyXzNhZDY4MDkxYjI2ZjQxMGQ4MmMwODA4YTNmZTFhOTNmLnNldEljb24oaWNvbl9kNmMzNjBkYzk3ZTQ0MDVmYThmNmViMjRlMjQxZjViYyk7CiAgICAgICAgCiAgICAKICAgICAgICAgICAgdmFyIG1hcmtlcl8wNTQxYWZmMzcyMzM0ZDhhODMxMzRhYWI1NGIwZTQ3YSA9IEwubWFya2VyKAogICAgICAgICAgICAgICAgWzI4LjU2MjMwMTk3LCAtODAuNTc3MzU2NDhdLAogICAgICAgICAgICAgICAge30KICAgICAgICAgICAgKS5hZGRUbyhtYXJrZXJfY2x1c3Rlcl82MDJhOTBmNDdkYmQ0MjllOTk2OTI4ZWMxN2VkYzhmMCk7CiAgICAgICAgCiAgICAKICAgICAgICAgICAgdmFyIGljb25fNGM3NjllOTAzYzYwNGQwZTlhZjIzZTU4ZGVkZDkzZjggPSBMLkF3ZXNvbWVNYXJrZXJzLmljb24oCiAgICAgICAgICAgICAgICB7ImV4dHJhQ2xhc3NlcyI6ICJmYS1yb3RhdGUtMCIsICJpY29uIjogImluZm8tc2lnbiIsICJpY29uQ29sb3IiOiAiZ3JlZW4iLCAibWFya2VyQ29sb3IiOiAid2hpdGUiLCAicHJlZml4IjogImdseXBoaWNvbiJ9CiAgICAgICAgICAgICk7CiAgICAgICAgICAgIG1hcmtlcl8wNTQxYWZmMzcyMzM0ZDhhODMxMzRhYWI1NGIwZTQ3YS5zZXRJY29uKGljb25fNGM3NjllOTAzYzYwNGQwZTlhZjIzZTU4ZGVkZDkzZjgpOwogICAgICAgIAogICAgCiAgICAgICAgICAgIHZhciBtYXJrZXJfZTljYTczNjY5MDdiNDU4ODliM2U2YTIzOWZkOWMxODUgPSBMLm1hcmtlcigKICAgICAgICAgICAgICAgIFsyOC41NjIzMDE5NywgLTgwLjU3NzM1NjQ4XSwKICAgICAgICAgICAgICAgIHt9CiAgICAgICAgICAgICkuYWRkVG8obWFya2VyX2NsdXN0ZXJfNjAyYTkwZjQ3ZGJkNDI5ZTk5NjkyOGVjMTdlZGM4ZjApOwogICAgICAgIAogICAgCiAgICAgICAgICAgIHZhciBpY29uXzQ2NWQ4ZGRhOWEyNjQ2Nzc4NGE1MDU0N2FhYzIxY2Y4ID0gTC5Bd2Vzb21lTWFya2Vycy5pY29uKAogICAgICAgICAgICAgICAgeyJleHRyYUNsYXNzZXMiOiAiZmEtcm90YXRlLTAiLCAiaWNvbiI6ICJpbmZvLXNpZ24iLCAiaWNvbkNvbG9yIjogImdyZWVuIiwgIm1hcmtlckNvbG9yIjogIndoaXRlIiwgInByZWZpeCI6ICJnbHlwaGljb24ifQogICAgICAgICAgICApOwogICAgICAgICAgICBtYXJrZXJfZTljYTczNjY5MDdiNDU4ODliM2U2YTIzOWZkOWMxODUuc2V0SWNvbihpY29uXzQ2NWQ4ZGRhOWEyNjQ2Nzc4NGE1MDU0N2FhYzIxY2Y4KTsKICAgICAgICAKICAgIAogICAgICAgICAgICB2YXIgbWFya2VyXzY1NzYxNzIwMTRjOTQxNWI5NzE1MmFiZGY2NzliZmU4ID0gTC5tYXJrZXIoCiAgICAgICAgICAgICAgICBbMjguNTYyMzAxOTcsIC04MC41NzczNTY0OF0sCiAgICAgICAgICAgICAgICB7fQogICAgICAgICAgICApLmFkZFRvKG1hcmtlcl9jbHVzdGVyXzYwMmE5MGY0N2RiZDQyOWU5OTY5MjhlYzE3ZWRjOGYwKTsKICAgICAgICAKICAgIAogICAgICAgICAgICB2YXIgaWNvbl9iMmE1NDdjNjBjM2E0ZDMzYTc3MDI0ZGJiMWM2YzQ5NyA9IEwuQXdlc29tZU1hcmtlcnMuaWNvbigKICAgICAgICAgICAgICAgIHsiZXh0cmFDbGFzc2VzIjogImZhLXJvdGF0ZS0wIiwgImljb24iOiAiaW5mby1zaWduIiwgImljb25Db2xvciI6ICJyZWQiLCAibWFya2VyQ29sb3IiOiAid2hpdGUiLCAicHJlZml4IjogImdseXBoaWNvbiJ9CiAgICAgICAgICAgICk7CiAgICAgICAgICAgIG1hcmtlcl82NTc2MTcyMDE0Yzk0MTViOTcxNTJhYmRmNjc5YmZlOC5zZXRJY29uKGljb25fYjJhNTQ3YzYwYzNhNGQzM2E3NzAyNGRiYjFjNmM0OTcpOwogICAgICAgIAogICAgCiAgICAgICAgICAgIHZhciBtYXJrZXJfYTlkMTkxMjU5NmZmNGU0ODg4YjkyZGQ5MGZiZTdlZjggPSBMLm1hcmtlcigKICAgICAgICAgICAgICAgIFsyOC41NjIzMDE5NywgLTgwLjU3NzM1NjQ4XSwKICAgICAgICAgICAgICAgIHt9CiAgICAgICAgICAgICkuYWRkVG8obWFya2VyX2NsdXN0ZXJfNjAyYTkwZjQ3ZGJkNDI5ZTk5NjkyOGVjMTdlZGM4ZjApOwogICAgICAgIAogICAgCiAgICAgICAgICAgIHZhciBpY29uX2Q1NTA2OTk2ODU4MTQxMDk5OGI4ZjY2M2JiMWFiNDc4ID0gTC5Bd2Vzb21lTWFya2Vycy5pY29uKAogICAgICAgICAgICAgICAgeyJleHRyYUNsYXNzZXMiOiAiZmEtcm90YXRlLTAiLCAiaWNvbiI6ICJpbmZvLXNpZ24iLCAiaWNvbkNvbG9yIjogImdyZWVuIiwgIm1hcmtlckNvbG9yIjogIndoaXRlIiwgInByZWZpeCI6ICJnbHlwaGljb24ifQogICAgICAgICAgICApOwogICAgICAgICAgICBtYXJrZXJfYTlkMTkxMjU5NmZmNGU0ODg4YjkyZGQ5MGZiZTdlZjguc2V0SWNvbihpY29uX2Q1NTA2OTk2ODU4MTQxMDk5OGI4ZjY2M2JiMWFiNDc4KTsKICAgICAgICAKICAgIAogICAgICAgICAgICB2YXIgbWFya2VyXzc5MThkZjdlNzQ4ZDRjOThhYzRhMmI2M2ZiZGE5NTg0ID0gTC5tYXJrZXIoCiAgICAgICAgICAgICAgICBbMjguNTYyMzAxOTcsIC04MC41NzczNTY0OF0sCiAgICAgICAgICAgICAgICB7fQogICAgICAgICAgICApLmFkZFRvKG1hcmtlcl9jbHVzdGVyXzYwMmE5MGY0N2RiZDQyOWU5OTY5MjhlYzE3ZWRjOGYwKTsKICAgICAgICAKICAgIAogICAgICAgICAgICB2YXIgaWNvbl8xNDdjY2UyYzBiMTI0N2Y3OWIwOGM3YWRhOGMxNzlmZCA9IEwuQXdlc29tZU1hcmtlcnMuaWNvbigKICAgICAgICAgICAgICAgIHsiZXh0cmFDbGFzc2VzIjogImZhLXJvdGF0ZS0wIiwgImljb24iOiAiaW5mby1zaWduIiwgImljb25Db2xvciI6ICJncmVlbiIsICJtYXJrZXJDb2xvciI6ICJ3aGl0ZSIsICJwcmVmaXgiOiAiZ2x5cGhpY29uIn0KICAgICAgICAgICAgKTsKICAgICAgICAgICAgbWFya2VyXzc5MThkZjdlNzQ4ZDRjOThhYzRhMmI2M2ZiZGE5NTg0LnNldEljb24oaWNvbl8xNDdjY2UyYzBiMTI0N2Y3OWIwOGM3YWRhOGMxNzlmZCk7CiAgICAgICAgCiAgICAKICAgICAgICAgICAgdmFyIG1hcmtlcl8yOGRhN2FlN2I1YTg0MzdlOTBiYmJkNDY3NjgzNmQ4MiA9IEwubWFya2VyKAogICAgICAgICAgICAgICAgWzI4LjU2MjMwMTk3LCAtODAuNTc3MzU2NDhdLAogICAgICAgICAgICAgICAge30KICAgICAgICAgICAgKS5hZGRUbyhtYXJrZXJfY2x1c3Rlcl82MDJhOTBmNDdkYmQ0MjllOTk2OTI4ZWMxN2VkYzhmMCk7CiAgICAgICAgCiAgICAKICAgICAgICAgICAgdmFyIGljb25fZTI3MmQxNmZkYzMzNGExYzllZDkxMjY3OTNiNDEyYmUgPSBMLkF3ZXNvbWVNYXJrZXJzLmljb24oCiAgICAgICAgICAgICAgICB7ImV4dHJhQ2xhc3NlcyI6ICJmYS1yb3RhdGUtMCIsICJpY29uIjogImluZm8tc2lnbiIsICJpY29uQ29sb3IiOiAiZ3JlZW4iLCAibWFya2VyQ29sb3IiOiAid2hpdGUiLCAicHJlZml4IjogImdseXBoaWNvbiJ9CiAgICAgICAgICAgICk7CiAgICAgICAgICAgIG1hcmtlcl8yOGRhN2FlN2I1YTg0MzdlOTBiYmJkNDY3NjgzNmQ4Mi5zZXRJY29uKGljb25fZTI3MmQxNmZkYzMzNGExYzllZDkxMjY3OTNiNDEyYmUpOwogICAgICAgIAogICAgCiAgICAgICAgICAgIHZhciBtYXJrZXJfNmU3ZDUxOWQyMTE1NDJhMDg2YWY5MjJkZWViZWNlOGUgPSBMLm1hcmtlcigKICAgICAgICAgICAgICAgIFsyOC41NjIzMDE5NywgLTgwLjU3NzM1NjQ4XSwKICAgICAgICAgICAgICAgIHt9CiAgICAgICAgICAgICkuYWRkVG8obWFya2VyX2NsdXN0ZXJfNjAyYTkwZjQ3ZGJkNDI5ZTk5NjkyOGVjMTdlZGM4ZjApOwogICAgICAgIAogICAgCiAgICAgICAgICAgIHZhciBpY29uXzNkMWQyZDE4NGU5MjRjYmQ4MjczNzI1ZTIyYWZiMzk2ID0gTC5Bd2Vzb21lTWFya2Vycy5pY29uKAogICAgICAgICAgICAgICAgeyJleHRyYUNsYXNzZXMiOiAiZmEtcm90YXRlLTAiLCAiaWNvbiI6ICJpbmZvLXNpZ24iLCAiaWNvbkNvbG9yIjogInJlZCIsICJtYXJrZXJDb2xvciI6ICJ3aGl0ZSIsICJwcmVmaXgiOiAiZ2x5cGhpY29uIn0KICAgICAgICAgICAgKTsKICAgICAgICAgICAgbWFya2VyXzZlN2Q1MTlkMjExNTQyYTA4NmFmOTIyZGVlYmVjZThlLnNldEljb24oaWNvbl8zZDFkMmQxODRlOTI0Y2JkODI3MzcyNWUyMmFmYjM5Nik7CiAgICAgICAgCiAgICAKICAgICAgICAgICAgdmFyIG1hcmtlcl9lNzI3YTM0Y2JhNTc0ZGRhYWUyMDg3MDIyMjc2ZDE0MSA9IEwubWFya2VyKAogICAgICAgICAgICAgICAgWzI4LjU2MjMwMTk3LCAtODAuNTc3MzU2NDhdLAogICAgICAgICAgICAgICAge30KICAgICAgICAgICAgKS5hZGRUbyhtYXJrZXJfY2x1c3Rlcl82MDJhOTBmNDdkYmQ0MjllOTk2OTI4ZWMxN2VkYzhmMCk7CiAgICAgICAgCiAgICAKICAgICAgICAgICAgdmFyIGljb25fNWExOWE0MzY0M2EzNGM2YTlmMzBmOGRlOTg1MTZmYzAgPSBMLkF3ZXNvbWVNYXJrZXJzLmljb24oCiAgICAgICAgICAgICAgICB7ImV4dHJhQ2xhc3NlcyI6ICJmYS1yb3RhdGUtMCIsICJpY29uIjogImluZm8tc2lnbiIsICJpY29uQ29sb3IiOiAiZ3JlZW4iLCAibWFya2VyQ29sb3IiOiAid2hpdGUiLCAicHJlZml4IjogImdseXBoaWNvbiJ9CiAgICAgICAgICAgICk7CiAgICAgICAgICAgIG1hcmtlcl9lNzI3YTM0Y2JhNTc0ZGRhYWUyMDg3MDIyMjc2ZDE0MS5zZXRJY29uKGljb25fNWExOWE0MzY0M2EzNGM2YTlmMzBmOGRlOTg1MTZmYzApOwogICAgICAgIAogICAgCiAgICAgICAgICAgIHZhciBtYXJrZXJfMDYzMGIwYzMzMTY5NGE2Y2FjZDZkNTY0ZTI1NmMzNDggPSBMLm1hcmtlcigKICAgICAgICAgICAgICAgIFsyOC41NjIzMDE5NywgLTgwLjU3NzM1NjQ4XSwKICAgICAgICAgICAgICAgIHt9CiAgICAgICAgICAgICkuYWRkVG8obWFya2VyX2NsdXN0ZXJfNjAyYTkwZjQ3ZGJkNDI5ZTk5NjkyOGVjMTdlZGM4ZjApOwogICAgICAgIAogICAgCiAgICAgICAgICAgIHZhciBpY29uXzBmMzhjMDQ1ODY1ZDRhZmNiNjg1NzAzMDgzYTkxMmVjID0gTC5Bd2Vzb21lTWFya2Vycy5pY29uKAogICAgICAgICAgICAgICAgeyJleHRyYUNsYXNzZXMiOiAiZmEtcm90YXRlLTAiLCAiaWNvbiI6ICJpbmZvLXNpZ24iLCAiaWNvbkNvbG9yIjogImdyZWVuIiwgIm1hcmtlckNvbG9yIjogIndoaXRlIiwgInByZWZpeCI6ICJnbHlwaGljb24ifQogICAgICAgICAgICApOwogICAgICAgICAgICBtYXJrZXJfMDYzMGIwYzMzMTY5NGE2Y2FjZDZkNTY0ZTI1NmMzNDguc2V0SWNvbihpY29uXzBmMzhjMDQ1ODY1ZDRhZmNiNjg1NzAzMDgzYTkxMmVjKTsKICAgICAgICAKICAgIAogICAgICAgICAgICB2YXIgbWFya2VyXzRiNDdiOWQ0YjBiYTQyZDFhNTM4ZDY5OTRlOWIxZjYwID0gTC5tYXJrZXIoCiAgICAgICAgICAgICAgICBbMzQuNjMyODM0MTYsIC0xMjAuNjEwNzQ1NTAwMDAwMDFdLAogICAgICAgICAgICAgICAge30KICAgICAgICAgICAgKS5hZGRUbyhtYXJrZXJfY2x1c3Rlcl82MDJhOTBmNDdkYmQ0MjllOTk2OTI4ZWMxN2VkYzhmMCk7CiAgICAgICAgCiAgICAKICAgICAgICAgICAgdmFyIGljb25fMzc0ZjcyMTM2YjJjNDZmOGJkZjYxMDA0NDBjZDA3NDggPSBMLkF3ZXNvbWVNYXJrZXJzLmljb24oCiAgICAgICAgICAgICAgICB7ImV4dHJhQ2xhc3NlcyI6ICJmYS1yb3RhdGUtMCIsICJpY29uIjogImluZm8tc2lnbiIsICJpY29uQ29sb3IiOiAicmVkIiwgIm1hcmtlckNvbG9yIjogIndoaXRlIiwgInByZWZpeCI6ICJnbHlwaGljb24ifQogICAgICAgICAgICApOwogICAgICAgICAgICBtYXJrZXJfNGI0N2I5ZDRiMGJhNDJkMWE1MzhkNjk5NGU5YjFmNjAuc2V0SWNvbihpY29uXzM3NGY3MjEzNmIyYzQ2ZjhiZGY2MTAwNDQwY2QwNzQ4KTsKICAgICAgICAKICAgIAogICAgICAgICAgICB2YXIgbWFya2VyX2UwNGIwOTI4NjEwNjRlNTY5ZmIzZGUwZWNkMzhkOTMwID0gTC5tYXJrZXIoCiAgICAgICAgICAgICAgICBbMzQuNjMyODM0MTYsIC0xMjAuNjEwNzQ1NTAwMDAwMDFdLAogICAgICAgICAgICAgICAge30KICAgICAgICAgICAgKS5hZGRUbyhtYXJrZXJfY2x1c3Rlcl82MDJhOTBmNDdkYmQ0MjllOTk2OTI4ZWMxN2VkYzhmMCk7CiAgICAgICAgCiAgICAKICAgICAgICAgICAgdmFyIGljb25fZGI5NzU5MWYzMDViNDIxYzgxNTIwYTA2MDgxMzJkYzQgPSBMLkF3ZXNvbWVNYXJrZXJzLmljb24oCiAgICAgICAgICAgICAgICB7ImV4dHJhQ2xhc3NlcyI6ICJmYS1yb3RhdGUtMCIsICJpY29uIjogImluZm8tc2lnbiIsICJpY29uQ29sb3IiOiAicmVkIiwgIm1hcmtlckNvbG9yIjogIndoaXRlIiwgInByZWZpeCI6ICJnbHlwaGljb24ifQogICAgICAgICAgICApOwogICAgICAgICAgICBtYXJrZXJfZTA0YjA5Mjg2MTA2NGU1NjlmYjNkZTBlY2QzOGQ5MzAuc2V0SWNvbihpY29uX2RiOTc1OTFmMzA1YjQyMWM4MTUyMGEwNjA4MTMyZGM0KTsKICAgICAgICAKICAgIAogICAgICAgICAgICB2YXIgbWFya2VyXzJkYWNmZmJjZDNlMzQ5MDZhZjc0YWZlMDdiZTYzZWZhID0gTC5tYXJrZXIoCiAgICAgICAgICAgICAgICBbMzQuNjMyODM0MTYsIC0xMjAuNjEwNzQ1NTAwMDAwMDFdLAogICAgICAgICAgICAgICAge30KICAgICAgICAgICAgKS5hZGRUbyhtYXJrZXJfY2x1c3Rlcl82MDJhOTBmNDdkYmQ0MjllOTk2OTI4ZWMxN2VkYzhmMCk7CiAgICAgICAgCiAgICAKICAgICAgICAgICAgdmFyIGljb25fMDBhMmIzOTNlYmM1NGE0Y2I5NzE2Mzc2OGE0YTIxMTYgPSBMLkF3ZXNvbWVNYXJrZXJzLmljb24oCiAgICAgICAgICAgICAgICB7ImV4dHJhQ2xhc3NlcyI6ICJmYS1yb3RhdGUtMCIsICJpY29uIjogImluZm8tc2lnbiIsICJpY29uQ29sb3IiOiAiZ3JlZW4iLCAibWFya2VyQ29sb3IiOiAid2hpdGUiLCAicHJlZml4IjogImdseXBoaWNvbiJ9CiAgICAgICAgICAgICk7CiAgICAgICAgICAgIG1hcmtlcl8yZGFjZmZiY2QzZTM0OTA2YWY3NGFmZTA3YmU2M2VmYS5zZXRJY29uKGljb25fMDBhMmIzOTNlYmM1NGE0Y2I5NzE2Mzc2OGE0YTIxMTYpOwogICAgICAgIAogICAgCiAgICAgICAgICAgIHZhciBtYXJrZXJfNWNmMWQ0NDYyMzA4NDVmZTg1ZGM0NjE0YjM1NTRhYTUgPSBMLm1hcmtlcigKICAgICAgICAgICAgICAgIFszNC42MzI4MzQxNiwgLTEyMC42MTA3NDU1MDAwMDAwMV0sCiAgICAgICAgICAgICAgICB7fQogICAgICAgICAgICApLmFkZFRvKG1hcmtlcl9jbHVzdGVyXzYwMmE5MGY0N2RiZDQyOWU5OTY5MjhlYzE3ZWRjOGYwKTsKICAgICAgICAKICAgIAogICAgICAgICAgICB2YXIgaWNvbl80OGFjNjZkMzNjMDc0Njk0ODYxZjQwNGFiODVmZDYyNCA9IEwuQXdlc29tZU1hcmtlcnMuaWNvbigKICAgICAgICAgICAgICAgIHsiZXh0cmFDbGFzc2VzIjogImZhLXJvdGF0ZS0wIiwgImljb24iOiAiaW5mby1zaWduIiwgImljb25Db2xvciI6ICJncmVlbiIsICJtYXJrZXJDb2xvciI6ICJ3aGl0ZSIsICJwcmVmaXgiOiAiZ2x5cGhpY29uIn0KICAgICAgICAgICAgKTsKICAgICAgICAgICAgbWFya2VyXzVjZjFkNDQ2MjMwODQ1ZmU4NWRjNDYxNGIzNTU0YWE1LnNldEljb24oaWNvbl80OGFjNjZkMzNjMDc0Njk0ODYxZjQwNGFiODVmZDYyNCk7CiAgICAgICAgCiAgICAKICAgICAgICAgICAgdmFyIG1hcmtlcl9iNzMyZTc4ZWQxNjg0NWQ4OTQyMzdkMDlkNjdiZGJjOSA9IEwubWFya2VyKAogICAgICAgICAgICAgICAgWzM0LjYzMjgzNDE2LCAtMTIwLjYxMDc0NTUwMDAwMDAxXSwKICAgICAgICAgICAgICAgIHt9CiAgICAgICAgICAgICkuYWRkVG8obWFya2VyX2NsdXN0ZXJfNjAyYTkwZjQ3ZGJkNDI5ZTk5NjkyOGVjMTdlZGM4ZjApOwogICAgICAgIAogICAgCiAgICAgICAgICAgIHZhciBpY29uXzZkMTY3MDI2NDg5MTRkYjdiMmE1ZGZlMmNlNTE5MWM5ID0gTC5Bd2Vzb21lTWFya2Vycy5pY29uKAogICAgICAgICAgICAgICAgeyJleHRyYUNsYXNzZXMiOiAiZmEtcm90YXRlLTAiLCAiaWNvbiI6ICJpbmZvLXNpZ24iLCAiaWNvbkNvbG9yIjogImdyZWVuIiwgIm1hcmtlckNvbG9yIjogIndoaXRlIiwgInByZWZpeCI6ICJnbHlwaGljb24ifQogICAgICAgICAgICApOwogICAgICAgICAgICBtYXJrZXJfYjczMmU3OGVkMTY4NDVkODk0MjM3ZDA5ZDY3YmRiYzkuc2V0SWNvbihpY29uXzZkMTY3MDI2NDg5MTRkYjdiMmE1ZGZlMmNlNTE5MWM5KTsKICAgICAgICAKICAgIAogICAgICAgICAgICB2YXIgbWFya2VyXzA3YTY5MDFmODU4YTRkYWFiYjhlNWQ4MGNlM2EzODE5ID0gTC5tYXJrZXIoCiAgICAgICAgICAgICAgICBbMzQuNjMyODM0MTYsIC0xMjAuNjEwNzQ1NTAwMDAwMDFdLAogICAgICAgICAgICAgICAge30KICAgICAgICAgICAgKS5hZGRUbyhtYXJrZXJfY2x1c3Rlcl82MDJhOTBmNDdkYmQ0MjllOTk2OTI4ZWMxN2VkYzhmMCk7CiAgICAgICAgCiAgICAKICAgICAgICAgICAgdmFyIGljb25fNzgxZjQwNWQ0NjY2NGNhZjgzZGZhY2I2MWVkMDc2MjggPSBMLkF3ZXNvbWVNYXJrZXJzLmljb24oCiAgICAgICAgICAgICAgICB7ImV4dHJhQ2xhc3NlcyI6ICJmYS1yb3RhdGUtMCIsICJpY29uIjogImluZm8tc2lnbiIsICJpY29uQ29sb3IiOiAiZ3JlZW4iLCAibWFya2VyQ29sb3IiOiAid2hpdGUiLCAicHJlZml4IjogImdseXBoaWNvbiJ9CiAgICAgICAgICAgICk7CiAgICAgICAgICAgIG1hcmtlcl8wN2E2OTAxZjg1OGE0ZGFhYmI4ZTVkODBjZTNhMzgxOS5zZXRJY29uKGljb25fNzgxZjQwNWQ0NjY2NGNhZjgzZGZhY2I2MWVkMDc2MjgpOwogICAgICAgIAogICAgCiAgICAgICAgICAgIHZhciBtYXJrZXJfMjc5ZmE3ODI5N2U3NDhhNjgxNmRjMzMxMzcyODM1NmEgPSBMLm1hcmtlcigKICAgICAgICAgICAgICAgIFszNC42MzI4MzQxNiwgLTEyMC42MTA3NDU1MDAwMDAwMV0sCiAgICAgICAgICAgICAgICB7fQogICAgICAgICAgICApLmFkZFRvKG1hcmtlcl9jbHVzdGVyXzYwMmE5MGY0N2RiZDQyOWU5OTY5MjhlYzE3ZWRjOGYwKTsKICAgICAgICAKICAgIAogICAgICAgICAgICB2YXIgaWNvbl84ZWJlNmRiY2FiYzI0ZmRiOTRjOWExZjVhMDUwMDE0NyA9IEwuQXdlc29tZU1hcmtlcnMuaWNvbigKICAgICAgICAgICAgICAgIHsiZXh0cmFDbGFzc2VzIjogImZhLXJvdGF0ZS0wIiwgImljb24iOiAiaW5mby1zaWduIiwgImljb25Db2xvciI6ICJyZWQiLCAibWFya2VyQ29sb3IiOiAid2hpdGUiLCAicHJlZml4IjogImdseXBoaWNvbiJ9CiAgICAgICAgICAgICk7CiAgICAgICAgICAgIG1hcmtlcl8yNzlmYTc4Mjk3ZTc0OGE2ODE2ZGMzMzEzNzI4MzU2YS5zZXRJY29uKGljb25fOGViZTZkYmNhYmMyNGZkYjk0YzlhMWY1YTA1MDAxNDcpOwogICAgICAgIAogICAgCiAgICAgICAgICAgIHZhciBtYXJrZXJfNjU1ZTQ4Y2IxZTlhNDQzYmFiMTQ0YjBiNGI5NzE4MWUgPSBMLm1hcmtlcigKICAgICAgICAgICAgICAgIFszNC42MzI4MzQxNiwgLTEyMC42MTA3NDU1MDAwMDAwMV0sCiAgICAgICAgICAgICAgICB7fQogICAgICAgICAgICApLmFkZFRvKG1hcmtlcl9jbHVzdGVyXzYwMmE5MGY0N2RiZDQyOWU5OTY5MjhlYzE3ZWRjOGYwKTsKICAgICAgICAKICAgIAogICAgICAgICAgICB2YXIgaWNvbl9jZjZlNTEwMWQ4ZjI0M2JmOWM3YzVlZGRlYTc4MGYzOSA9IEwuQXdlc29tZU1hcmtlcnMuaWNvbigKICAgICAgICAgICAgICAgIHsiZXh0cmFDbGFzc2VzIjogImZhLXJvdGF0ZS0wIiwgImljb24iOiAiaW5mby1zaWduIiwgImljb25Db2xvciI6ICJyZWQiLCAibWFya2VyQ29sb3IiOiAid2hpdGUiLCAicHJlZml4IjogImdseXBoaWNvbiJ9CiAgICAgICAgICAgICk7CiAgICAgICAgICAgIG1hcmtlcl82NTVlNDhjYjFlOWE0NDNiYWIxNDRiMGI0Yjk3MTgxZS5zZXRJY29uKGljb25fY2Y2ZTUxMDFkOGYyNDNiZjljN2M1ZWRkZWE3ODBmMzkpOwogICAgICAgIAogICAgCiAgICAgICAgICAgIHZhciBtYXJrZXJfNTI4ZmU3Zjg2ZWMxNDVhM2IwZWQ2MTEwYmNmZDYwMjIgPSBMLm1hcmtlcigKICAgICAgICAgICAgICAgIFszNC42MzI4MzQxNiwgLTEyMC42MTA3NDU1MDAwMDAwMV0sCiAgICAgICAgICAgICAgICB7fQogICAgICAgICAgICApLmFkZFRvKG1hcmtlcl9jbHVzdGVyXzYwMmE5MGY0N2RiZDQyOWU5OTY5MjhlYzE3ZWRjOGYwKTsKICAgICAgICAKICAgIAogICAgICAgICAgICB2YXIgaWNvbl9iYzYwNDE3ZGE4ZDc0NjdlYTg4NmQ2ODdhZjVjNzFhYyA9IEwuQXdlc29tZU1hcmtlcnMuaWNvbigKICAgICAgICAgICAgICAgIHsiZXh0cmFDbGFzc2VzIjogImZhLXJvdGF0ZS0wIiwgImljb24iOiAiaW5mby1zaWduIiwgImljb25Db2xvciI6ICJyZWQiLCAibWFya2VyQ29sb3IiOiAid2hpdGUiLCAicHJlZml4IjogImdseXBoaWNvbiJ9CiAgICAgICAgICAgICk7CiAgICAgICAgICAgIG1hcmtlcl81MjhmZTdmODZlYzE0NWEzYjBlZDYxMTBiY2ZkNjAyMi5zZXRJY29uKGljb25fYmM2MDQxN2RhOGQ3NDY3ZWE4ODZkNjg3YWY1YzcxYWMpOwogICAgICAgIAogICAgCiAgICAgICAgICAgIHZhciBtYXJrZXJfZTIyMDczMzIyYjlmNDI5NTk1YjRkYWFmMGY3ODllNjYgPSBMLm1hcmtlcigKICAgICAgICAgICAgICAgIFszNC42MzI4MzQxNiwgLTEyMC42MTA3NDU1MDAwMDAwMV0sCiAgICAgICAgICAgICAgICB7fQogICAgICAgICAgICApLmFkZFRvKG1hcmtlcl9jbHVzdGVyXzYwMmE5MGY0N2RiZDQyOWU5OTY5MjhlYzE3ZWRjOGYwKTsKICAgICAgICAKICAgIAogICAgICAgICAgICB2YXIgaWNvbl9kZTgyNWI1NGZkOTY0MjM5YWJkODQyYjY5MmRlYWM4YSA9IEwuQXdlc29tZU1hcmtlcnMuaWNvbigKICAgICAgICAgICAgICAgIHsiZXh0cmFDbGFzc2VzIjogImZhLXJvdGF0ZS0wIiwgImljb24iOiAiaW5mby1zaWduIiwgImljb25Db2xvciI6ICJyZWQiLCAibWFya2VyQ29sb3IiOiAid2hpdGUiLCAicHJlZml4IjogImdseXBoaWNvbiJ9CiAgICAgICAgICAgICk7CiAgICAgICAgICAgIG1hcmtlcl9lMjIwNzMzMjJiOWY0Mjk1OTViNGRhYWYwZjc4OWU2Ni5zZXRJY29uKGljb25fZGU4MjViNTRmZDk2NDIzOWFiZDg0MmI2OTJkZWFjOGEpOwogICAgICAgIAogICAgCiAgICAgICAgICAgIHZhciBtYXJrZXJfNTBmZjQ0ZDkxNDIyNGE0NmE0YTVlM2M0ZGRmOTRlZjIgPSBMLm1hcmtlcigKICAgICAgICAgICAgICAgIFsyOC41NzMyNTQ1NywgLTgwLjY0Njg5NTI5XSwKICAgICAgICAgICAgICAgIHt9CiAgICAgICAgICAgICkuYWRkVG8obWFya2VyX2NsdXN0ZXJfNjAyYTkwZjQ3ZGJkNDI5ZTk5NjkyOGVjMTdlZGM4ZjApOwogICAgICAgIAogICAgCiAgICAgICAgICAgIHZhciBpY29uXzNiNTY1ODhiMWQ2NTQyMDRiZDMzN2EwZTg5ZjVkNzk2ID0gTC5Bd2Vzb21lTWFya2Vycy5pY29uKAogICAgICAgICAgICAgICAgeyJleHRyYUNsYXNzZXMiOiAiZmEtcm90YXRlLTAiLCAiaWNvbiI6ICJpbmZvLXNpZ24iLCAiaWNvbkNvbG9yIjogImdyZWVuIiwgIm1hcmtlckNvbG9yIjogIndoaXRlIiwgInByZWZpeCI6ICJnbHlwaGljb24ifQogICAgICAgICAgICApOwogICAgICAgICAgICBtYXJrZXJfNTBmZjQ0ZDkxNDIyNGE0NmE0YTVlM2M0ZGRmOTRlZjIuc2V0SWNvbihpY29uXzNiNTY1ODhiMWQ2NTQyMDRiZDMzN2EwZTg5ZjVkNzk2KTsKICAgICAgICAKICAgIAogICAgICAgICAgICB2YXIgbWFya2VyXzMyOTM4ZDk0YjZiZDRjZGZhOWYwMTBmNDkyZjI0ZWIwID0gTC5tYXJrZXIoCiAgICAgICAgICAgICAgICBbMjguNTczMjU0NTcsIC04MC42NDY4OTUyOV0sCiAgICAgICAgICAgICAgICB7fQogICAgICAgICAgICApLmFkZFRvKG1hcmtlcl9jbHVzdGVyXzYwMmE5MGY0N2RiZDQyOWU5OTY5MjhlYzE3ZWRjOGYwKTsKICAgICAgICAKICAgIAogICAgICAgICAgICB2YXIgaWNvbl83MWM4Yjk5Y2NlM2Q0NDBhOGRjMjQ5ZGUzNmEyN2VjYyA9IEwuQXdlc29tZU1hcmtlcnMuaWNvbigKICAgICAgICAgICAgICAgIHsiZXh0cmFDbGFzc2VzIjogImZhLXJvdGF0ZS0wIiwgImljb24iOiAiaW5mby1zaWduIiwgImljb25Db2xvciI6ICJyZWQiLCAibWFya2VyQ29sb3IiOiAid2hpdGUiLCAicHJlZml4IjogImdseXBoaWNvbiJ9CiAgICAgICAgICAgICk7CiAgICAgICAgICAgIG1hcmtlcl8zMjkzOGQ5NGI2YmQ0Y2RmYTlmMDEwZjQ5MmYyNGViMC5zZXRJY29uKGljb25fNzFjOGI5OWNjZTNkNDQwYThkYzI0OWRlMzZhMjdlY2MpOwogICAgICAgIAogICAgCiAgICAgICAgICAgIHZhciBtYXJrZXJfYTIwMTQwYTNmYjYwNDcwYjk2MTFkNzEzNjg5MmFiMjAgPSBMLm1hcmtlcigKICAgICAgICAgICAgICAgIFsyOC41NzMyNTQ1NywgLTgwLjY0Njg5NTI5XSwKICAgICAgICAgICAgICAgIHt9CiAgICAgICAgICAgICkuYWRkVG8obWFya2VyX2NsdXN0ZXJfNjAyYTkwZjQ3ZGJkNDI5ZTk5NjkyOGVjMTdlZGM4ZjApOwogICAgICAgIAogICAgCiAgICAgICAgICAgIHZhciBpY29uXzA2MjBiNWYyMDQ4ZjQ2MWI4OWI0MGMwYTU0NTY2NTU0ID0gTC5Bd2Vzb21lTWFya2Vycy5pY29uKAogICAgICAgICAgICAgICAgeyJleHRyYUNsYXNzZXMiOiAiZmEtcm90YXRlLTAiLCAiaWNvbiI6ICJpbmZvLXNpZ24iLCAiaWNvbkNvbG9yIjogImdyZWVuIiwgIm1hcmtlckNvbG9yIjogIndoaXRlIiwgInByZWZpeCI6ICJnbHlwaGljb24ifQogICAgICAgICAgICApOwogICAgICAgICAgICBtYXJrZXJfYTIwMTQwYTNmYjYwNDcwYjk2MTFkNzEzNjg5MmFiMjAuc2V0SWNvbihpY29uXzA2MjBiNWYyMDQ4ZjQ2MWI4OWI0MGMwYTU0NTY2NTU0KTsKICAgICAgICAKICAgIAogICAgICAgICAgICB2YXIgbWFya2VyXzZhYWY0YjY4NTY0ZjQ2MTRhZjcyNzJjN2YzZTI5MDBmID0gTC5tYXJrZXIoCiAgICAgICAgICAgICAgICBbMjguNTczMjU0NTcsIC04MC42NDY4OTUyOV0sCiAgICAgICAgICAgICAgICB7fQogICAgICAgICAgICApLmFkZFRvKG1hcmtlcl9jbHVzdGVyXzYwMmE5MGY0N2RiZDQyOWU5OTY5MjhlYzE3ZWRjOGYwKTsKICAgICAgICAKICAgIAogICAgICAgICAgICB2YXIgaWNvbl85MjYwZGE3MDBmNDU0ZDc1YjQxODQ2ZDAwMmRlYmZjNiA9IEwuQXdlc29tZU1hcmtlcnMuaWNvbigKICAgICAgICAgICAgICAgIHsiZXh0cmFDbGFzc2VzIjogImZhLXJvdGF0ZS0wIiwgImljb24iOiAiaW5mby1zaWduIiwgImljb25Db2xvciI6ICJncmVlbiIsICJtYXJrZXJDb2xvciI6ICJ3aGl0ZSIsICJwcmVmaXgiOiAiZ2x5cGhpY29uIn0KICAgICAgICAgICAgKTsKICAgICAgICAgICAgbWFya2VyXzZhYWY0YjY4NTY0ZjQ2MTRhZjcyNzJjN2YzZTI5MDBmLnNldEljb24oaWNvbl85MjYwZGE3MDBmNDU0ZDc1YjQxODQ2ZDAwMmRlYmZjNik7CiAgICAgICAgCiAgICAKICAgICAgICAgICAgdmFyIG1hcmtlcl9kNzFmYTU2ZmE0YmM0OTA0OGUxMGIxYzcxNjQwMzE2NyA9IEwubWFya2VyKAogICAgICAgICAgICAgICAgWzI4LjU3MzI1NDU3LCAtODAuNjQ2ODk1MjldLAogICAgICAgICAgICAgICAge30KICAgICAgICAgICAgKS5hZGRUbyhtYXJrZXJfY2x1c3Rlcl82MDJhOTBmNDdkYmQ0MjllOTk2OTI4ZWMxN2VkYzhmMCk7CiAgICAgICAgCiAgICAKICAgICAgICAgICAgdmFyIGljb25fZGYxZDA3NDk4ZjExNGYzNjg2MGUwYzRmNjYwN2IyMTcgPSBMLkF3ZXNvbWVNYXJrZXJzLmljb24oCiAgICAgICAgICAgICAgICB7ImV4dHJhQ2xhc3NlcyI6ICJmYS1yb3RhdGUtMCIsICJpY29uIjogImluZm8tc2lnbiIsICJpY29uQ29sb3IiOiAicmVkIiwgIm1hcmtlckNvbG9yIjogIndoaXRlIiwgInByZWZpeCI6ICJnbHlwaGljb24ifQogICAgICAgICAgICApOwogICAgICAgICAgICBtYXJrZXJfZDcxZmE1NmZhNGJjNDkwNDhlMTBiMWM3MTY0MDMxNjcuc2V0SWNvbihpY29uX2RmMWQwNzQ5OGYxMTRmMzY4NjBlMGM0ZjY2MDdiMjE3KTsKICAgICAgICAKICAgIAogICAgICAgICAgICB2YXIgbWFya2VyXzk2MDg0ODAxYjI1YjQxNDE4OTUwNDlmMzQ5ODBlNmNhID0gTC5tYXJrZXIoCiAgICAgICAgICAgICAgICBbMjguNTczMjU0NTcsIC04MC42NDY4OTUyOV0sCiAgICAgICAgICAgICAgICB7fQogICAgICAgICAgICApLmFkZFRvKG1hcmtlcl9jbHVzdGVyXzYwMmE5MGY0N2RiZDQyOWU5OTY5MjhlYzE3ZWRjOGYwKTsKICAgICAgICAKICAgIAogICAgICAgICAgICB2YXIgaWNvbl85NjYwMmU0Y2NjZTI0YzFhODc2NjFkMmViYTU1NGY1NyA9IEwuQXdlc29tZU1hcmtlcnMuaWNvbigKICAgICAgICAgICAgICAgIHsiZXh0cmFDbGFzc2VzIjogImZhLXJvdGF0ZS0wIiwgImljb24iOiAiaW5mby1zaWduIiwgImljb25Db2xvciI6ICJncmVlbiIsICJtYXJrZXJDb2xvciI6ICJ3aGl0ZSIsICJwcmVmaXgiOiAiZ2x5cGhpY29uIn0KICAgICAgICAgICAgKTsKICAgICAgICAgICAgbWFya2VyXzk2MDg0ODAxYjI1YjQxNDE4OTUwNDlmMzQ5ODBlNmNhLnNldEljb24oaWNvbl85NjYwMmU0Y2NjZTI0YzFhODc2NjFkMmViYTU1NGY1Nyk7CiAgICAgICAgCiAgICAKICAgICAgICAgICAgdmFyIG1hcmtlcl8wYzhmODg5NjAwMzQ0MWQyODQ4OTU2MTY0MDcxMzBiMiA9IEwubWFya2VyKAogICAgICAgICAgICAgICAgWzI4LjU3MzI1NDU3LCAtODAuNjQ2ODk1MjldLAogICAgICAgICAgICAgICAge30KICAgICAgICAgICAgKS5hZGRUbyhtYXJrZXJfY2x1c3Rlcl82MDJhOTBmNDdkYmQ0MjllOTk2OTI4ZWMxN2VkYzhmMCk7CiAgICAgICAgCiAgICAKICAgICAgICAgICAgdmFyIGljb25fM2IwNjBkNjMwNmZhNGIzYTgyYzRmNDMxZjJhNjcyOGYgPSBMLkF3ZXNvbWVNYXJrZXJzLmljb24oCiAgICAgICAgICAgICAgICB7ImV4dHJhQ2xhc3NlcyI6ICJmYS1yb3RhdGUtMCIsICJpY29uIjogImluZm8tc2lnbiIsICJpY29uQ29sb3IiOiAiZ3JlZW4iLCAibWFya2VyQ29sb3IiOiAid2hpdGUiLCAicHJlZml4IjogImdseXBoaWNvbiJ9CiAgICAgICAgICAgICk7CiAgICAgICAgICAgIG1hcmtlcl8wYzhmODg5NjAwMzQ0MWQyODQ4OTU2MTY0MDcxMzBiMi5zZXRJY29uKGljb25fM2IwNjBkNjMwNmZhNGIzYTgyYzRmNDMxZjJhNjcyOGYpOwogICAgICAgIAogICAgCiAgICAgICAgICAgIHZhciBtYXJrZXJfMTE4MGYzMjA1Nzk0NDc3Yjg0YzJjNThhYWE2ODc3OGYgPSBMLm1hcmtlcigKICAgICAgICAgICAgICAgIFsyOC41NzMyNTQ1NywgLTgwLjY0Njg5NTI5XSwKICAgICAgICAgICAgICAgIHt9CiAgICAgICAgICAgICkuYWRkVG8obWFya2VyX2NsdXN0ZXJfNjAyYTkwZjQ3ZGJkNDI5ZTk5NjkyOGVjMTdlZGM4ZjApOwogICAgICAgIAogICAgCiAgICAgICAgICAgIHZhciBpY29uX2Q3ZDVjYjExOTk3ZDQ2YzFiNTgzNmU2NzZiY2Y2OTE2ID0gTC5Bd2Vzb21lTWFya2Vycy5pY29uKAogICAgICAgICAgICAgICAgeyJleHRyYUNsYXNzZXMiOiAiZmEtcm90YXRlLTAiLCAiaWNvbiI6ICJpbmZvLXNpZ24iLCAiaWNvbkNvbG9yIjogInJlZCIsICJtYXJrZXJDb2xvciI6ICJ3aGl0ZSIsICJwcmVmaXgiOiAiZ2x5cGhpY29uIn0KICAgICAgICAgICAgKTsKICAgICAgICAgICAgbWFya2VyXzExODBmMzIwNTc5NDQ3N2I4NGMyYzU4YWFhNjg3NzhmLnNldEljb24oaWNvbl9kN2Q1Y2IxMTk5N2Q0NmMxYjU4MzZlNjc2YmNmNjkxNik7CiAgICAgICAgCiAgICAKICAgICAgICAgICAgdmFyIG1hcmtlcl81MDNlY2QwOGJjNTE0MWY1YjEwMDU0ODkzM2UxYjlkYSA9IEwubWFya2VyKAogICAgICAgICAgICAgICAgWzI4LjU3MzI1NDU3LCAtODAuNjQ2ODk1MjldLAogICAgICAgICAgICAgICAge30KICAgICAgICAgICAgKS5hZGRUbyhtYXJrZXJfY2x1c3Rlcl82MDJhOTBmNDdkYmQ0MjllOTk2OTI4ZWMxN2VkYzhmMCk7CiAgICAgICAgCiAgICAKICAgICAgICAgICAgdmFyIGljb25fOTNhMDQ4YmU3ZWFlNGY4MmFjOTQ0MmU5YjJiOTkxNzAgPSBMLkF3ZXNvbWVNYXJrZXJzLmljb24oCiAgICAgICAgICAgICAgICB7ImV4dHJhQ2xhc3NlcyI6ICJmYS1yb3RhdGUtMCIsICJpY29uIjogImluZm8tc2lnbiIsICJpY29uQ29sb3IiOiAiZ3JlZW4iLCAibWFya2VyQ29sb3IiOiAid2hpdGUiLCAicHJlZml4IjogImdseXBoaWNvbiJ9CiAgICAgICAgICAgICk7CiAgICAgICAgICAgIG1hcmtlcl81MDNlY2QwOGJjNTE0MWY1YjEwMDU0ODkzM2UxYjlkYS5zZXRJY29uKGljb25fOTNhMDQ4YmU3ZWFlNGY4MmFjOTQ0MmU5YjJiOTkxNzApOwogICAgICAgIAogICAgCiAgICAgICAgICAgIHZhciBtYXJrZXJfNzhhZDQ1ZTVjZTFiNGY2NDg4YTFlNmQwMGFlZDE1YmUgPSBMLm1hcmtlcigKICAgICAgICAgICAgICAgIFsyOC41NzMyNTQ1NywgLTgwLjY0Njg5NTI5XSwKICAgICAgICAgICAgICAgIHt9CiAgICAgICAgICAgICkuYWRkVG8obWFya2VyX2NsdXN0ZXJfNjAyYTkwZjQ3ZGJkNDI5ZTk5NjkyOGVjMTdlZGM4ZjApOwogICAgICAgIAogICAgCiAgICAgICAgICAgIHZhciBpY29uX2U4MTVmYmM0ZjlmMzQ5ZGNhOTcyYjljMTlmYTYxZTAwID0gTC5Bd2Vzb21lTWFya2Vycy5pY29uKAogICAgICAgICAgICAgICAgeyJleHRyYUNsYXNzZXMiOiAiZmEtcm90YXRlLTAiLCAiaWNvbiI6ICJpbmZvLXNpZ24iLCAiaWNvbkNvbG9yIjogImdyZWVuIiwgIm1hcmtlckNvbG9yIjogIndoaXRlIiwgInByZWZpeCI6ICJnbHlwaGljb24ifQogICAgICAgICAgICApOwogICAgICAgICAgICBtYXJrZXJfNzhhZDQ1ZTVjZTFiNGY2NDg4YTFlNmQwMGFlZDE1YmUuc2V0SWNvbihpY29uX2U4MTVmYmM0ZjlmMzQ5ZGNhOTcyYjljMTlmYTYxZTAwKTsKICAgICAgICAKICAgIAogICAgICAgICAgICB2YXIgbWFya2VyXzU2MzU4YjY3YjJjMDQ4Yjg5ZmJlZTM5NWMxMjIzMDUzID0gTC5tYXJrZXIoCiAgICAgICAgICAgICAgICBbMjguNTczMjU0NTcsIC04MC42NDY4OTUyOV0sCiAgICAgICAgICAgICAgICB7fQogICAgICAgICAgICApLmFkZFRvKG1hcmtlcl9jbHVzdGVyXzYwMmE5MGY0N2RiZDQyOWU5OTY5MjhlYzE3ZWRjOGYwKTsKICAgICAgICAKICAgIAogICAgICAgICAgICB2YXIgaWNvbl81OTYyYWJkZTQwNjU0NGQzODc4MzFhYmFmNDI3NTgwNSA9IEwuQXdlc29tZU1hcmtlcnMuaWNvbigKICAgICAgICAgICAgICAgIHsiZXh0cmFDbGFzc2VzIjogImZhLXJvdGF0ZS0wIiwgImljb24iOiAiaW5mby1zaWduIiwgImljb25Db2xvciI6ICJncmVlbiIsICJtYXJrZXJDb2xvciI6ICJ3aGl0ZSIsICJwcmVmaXgiOiAiZ2x5cGhpY29uIn0KICAgICAgICAgICAgKTsKICAgICAgICAgICAgbWFya2VyXzU2MzU4YjY3YjJjMDQ4Yjg5ZmJlZTM5NWMxMjIzMDUzLnNldEljb24oaWNvbl81OTYyYWJkZTQwNjU0NGQzODc4MzFhYmFmNDI3NTgwNSk7CiAgICAgICAgCiAgICAKICAgICAgICAgICAgdmFyIG1hcmtlcl83ZGJhY2ZlNjEzNGI0MGU4OGQwZWZmYWEyYWEzZWU5YyA9IEwubWFya2VyKAogICAgICAgICAgICAgICAgWzI4LjU3MzI1NDU3LCAtODAuNjQ2ODk1MjldLAogICAgICAgICAgICAgICAge30KICAgICAgICAgICAgKS5hZGRUbyhtYXJrZXJfY2x1c3Rlcl82MDJhOTBmNDdkYmQ0MjllOTk2OTI4ZWMxN2VkYzhmMCk7CiAgICAgICAgCiAgICAKICAgICAgICAgICAgdmFyIGljb25fZmM4NmFhMzNiMGU4NGE1YmIxOTQwNzQ4Zjc0ZWUxYmQgPSBMLkF3ZXNvbWVNYXJrZXJzLmljb24oCiAgICAgICAgICAgICAgICB7ImV4dHJhQ2xhc3NlcyI6ICJmYS1yb3RhdGUtMCIsICJpY29uIjogImluZm8tc2lnbiIsICJpY29uQ29sb3IiOiAiZ3JlZW4iLCAibWFya2VyQ29sb3IiOiAid2hpdGUiLCAicHJlZml4IjogImdseXBoaWNvbiJ9CiAgICAgICAgICAgICk7CiAgICAgICAgICAgIG1hcmtlcl83ZGJhY2ZlNjEzNGI0MGU4OGQwZWZmYWEyYWEzZWU5Yy5zZXRJY29uKGljb25fZmM4NmFhMzNiMGU4NGE1YmIxOTQwNzQ4Zjc0ZWUxYmQpOwogICAgICAgIAogICAgCiAgICAgICAgICAgIHZhciBtYXJrZXJfNDU0ZDVmMDIwODYyNDM5OGE1NTEwNTNmOGUyNDEwN2QgPSBMLm1hcmtlcigKICAgICAgICAgICAgICAgIFsyOC41NzMyNTQ1NywgLTgwLjY0Njg5NTI5XSwKICAgICAgICAgICAgICAgIHt9CiAgICAgICAgICAgICkuYWRkVG8obWFya2VyX2NsdXN0ZXJfNjAyYTkwZjQ3ZGJkNDI5ZTk5NjkyOGVjMTdlZGM4ZjApOwogICAgICAgIAogICAgCiAgICAgICAgICAgIHZhciBpY29uX2FmZWVlN2VjMzViNzQ3YmU5MjhhMzM3ODFiZTVhMjkxID0gTC5Bd2Vzb21lTWFya2Vycy5pY29uKAogICAgICAgICAgICAgICAgeyJleHRyYUNsYXNzZXMiOiAiZmEtcm90YXRlLTAiLCAiaWNvbiI6ICJpbmZvLXNpZ24iLCAiaWNvbkNvbG9yIjogImdyZWVuIiwgIm1hcmtlckNvbG9yIjogIndoaXRlIiwgInByZWZpeCI6ICJnbHlwaGljb24ifQogICAgICAgICAgICApOwogICAgICAgICAgICBtYXJrZXJfNDU0ZDVmMDIwODYyNDM5OGE1NTEwNTNmOGUyNDEwN2Quc2V0SWNvbihpY29uX2FmZWVlN2VjMzViNzQ3YmU5MjhhMzM3ODFiZTVhMjkxKTsKICAgICAgICAKICAgIAogICAgICAgICAgICB2YXIgbWFya2VyX2YyMGRjYTIxNTljZTQzN2NiNGI2Y2E2ODJmMzI5Y2I0ID0gTC5tYXJrZXIoCiAgICAgICAgICAgICAgICBbMjguNTYzMTk3MTgsIC04MC41NzY4MjAwM10sCiAgICAgICAgICAgICAgICB7fQogICAgICAgICAgICApLmFkZFRvKG1hcmtlcl9jbHVzdGVyXzYwMmE5MGY0N2RiZDQyOWU5OTY5MjhlYzE3ZWRjOGYwKTsKICAgICAgICAKICAgIAogICAgICAgICAgICB2YXIgaWNvbl8wZjViOTA5MzBjN2E0YTUwODlhYjBhMTgxMTI0YjIwMiA9IEwuQXdlc29tZU1hcmtlcnMuaWNvbigKICAgICAgICAgICAgICAgIHsiZXh0cmFDbGFzc2VzIjogImZhLXJvdGF0ZS0wIiwgImljb24iOiAiaW5mby1zaWduIiwgImljb25Db2xvciI6ICJncmVlbiIsICJtYXJrZXJDb2xvciI6ICJ3aGl0ZSIsICJwcmVmaXgiOiAiZ2x5cGhpY29uIn0KICAgICAgICAgICAgKTsKICAgICAgICAgICAgbWFya2VyX2YyMGRjYTIxNTljZTQzN2NiNGI2Y2E2ODJmMzI5Y2I0LnNldEljb24oaWNvbl8wZjViOTA5MzBjN2E0YTUwODlhYjBhMTgxMTI0YjIwMik7CiAgICAgICAgCiAgICAKICAgICAgICAgICAgdmFyIG1hcmtlcl84ZjllZTFiYmY1NTU0YTVhODY2Njg0YWRlZGI1ZTUwNSA9IEwubWFya2VyKAogICAgICAgICAgICAgICAgWzI4LjU2MzE5NzE4LCAtODAuNTc2ODIwMDNdLAogICAgICAgICAgICAgICAge30KICAgICAgICAgICAgKS5hZGRUbyhtYXJrZXJfY2x1c3Rlcl82MDJhOTBmNDdkYmQ0MjllOTk2OTI4ZWMxN2VkYzhmMCk7CiAgICAgICAgCiAgICAKICAgICAgICAgICAgdmFyIGljb25fODllYWU4ZWVjZjgyNDBjNzk2MTZhNDI0ODNiZmEyZTMgPSBMLkF3ZXNvbWVNYXJrZXJzLmljb24oCiAgICAgICAgICAgICAgICB7ImV4dHJhQ2xhc3NlcyI6ICJmYS1yb3RhdGUtMCIsICJpY29uIjogImluZm8tc2lnbiIsICJpY29uQ29sb3IiOiAiZ3JlZW4iLCAibWFya2VyQ29sb3IiOiAid2hpdGUiLCAicHJlZml4IjogImdseXBoaWNvbiJ9CiAgICAgICAgICAgICk7CiAgICAgICAgICAgIG1hcmtlcl84ZjllZTFiYmY1NTU0YTVhODY2Njg0YWRlZGI1ZTUwNS5zZXRJY29uKGljb25fODllYWU4ZWVjZjgyNDBjNzk2MTZhNDI0ODNiZmEyZTMpOwogICAgICAgIAogICAgCiAgICAgICAgICAgIHZhciBtYXJrZXJfZGRhMDM0NjU0ODY3NDY2ZWI4NGNmY2NhZThjMzM3NTkgPSBMLm1hcmtlcigKICAgICAgICAgICAgICAgIFsyOC41NjMxOTcxOCwgLTgwLjU3NjgyMDAzXSwKICAgICAgICAgICAgICAgIHt9CiAgICAgICAgICAgICkuYWRkVG8obWFya2VyX2NsdXN0ZXJfNjAyYTkwZjQ3ZGJkNDI5ZTk5NjkyOGVjMTdlZGM4ZjApOwogICAgICAgIAogICAgCiAgICAgICAgICAgIHZhciBpY29uXzBiY2NlYTk2YTRhYTQ2NzY5MjgxMjMwNzcwNWI2YWNhID0gTC5Bd2Vzb21lTWFya2Vycy5pY29uKAogICAgICAgICAgICAgICAgeyJleHRyYUNsYXNzZXMiOiAiZmEtcm90YXRlLTAiLCAiaWNvbiI6ICJpbmZvLXNpZ24iLCAiaWNvbkNvbG9yIjogInJlZCIsICJtYXJrZXJDb2xvciI6ICJ3aGl0ZSIsICJwcmVmaXgiOiAiZ2x5cGhpY29uIn0KICAgICAgICAgICAgKTsKICAgICAgICAgICAgbWFya2VyX2RkYTAzNDY1NDg2NzQ2NmViODRjZmNjYWU4YzMzNzU5LnNldEljb24oaWNvbl8wYmNjZWE5NmE0YWE0Njc2OTI4MTIzMDc3MDViNmFjYSk7CiAgICAgICAgCiAgICAKICAgICAgICAgICAgdmFyIG1hcmtlcl9hM2VkZjQ2NTM2NzE0NGE3YjM1ODBiYWY4MDQyZTljMiA9IEwubWFya2VyKAogICAgICAgICAgICAgICAgWzI4LjU2MzE5NzE4LCAtODAuNTc2ODIwMDNdLAogICAgICAgICAgICAgICAge30KICAgICAgICAgICAgKS5hZGRUbyhtYXJrZXJfY2x1c3Rlcl82MDJhOTBmNDdkYmQ0MjllOTk2OTI4ZWMxN2VkYzhmMCk7CiAgICAgICAgCiAgICAKICAgICAgICAgICAgdmFyIGljb25fZTVkMTQ0ZTYzNmU5NDUzY2IwMjJjMzBhZDgyYTY2MWUgPSBMLkF3ZXNvbWVNYXJrZXJzLmljb24oCiAgICAgICAgICAgICAgICB7ImV4dHJhQ2xhc3NlcyI6ICJmYS1yb3RhdGUtMCIsICJpY29uIjogImluZm8tc2lnbiIsICJpY29uQ29sb3IiOiAicmVkIiwgIm1hcmtlckNvbG9yIjogIndoaXRlIiwgInByZWZpeCI6ICJnbHlwaGljb24ifQogICAgICAgICAgICApOwogICAgICAgICAgICBtYXJrZXJfYTNlZGY0NjUzNjcxNDRhN2IzNTgwYmFmODA0MmU5YzIuc2V0SWNvbihpY29uX2U1ZDE0NGU2MzZlOTQ1M2NiMDIyYzMwYWQ4MmE2NjFlKTsKICAgICAgICAKICAgIAogICAgICAgICAgICB2YXIgbWFya2VyXzEwNDBmZjZlMThkZDQyYTA4NjFjMTRlMGVlNTkyYzczID0gTC5tYXJrZXIoCiAgICAgICAgICAgICAgICBbMjguNTYzMTk3MTgsIC04MC41NzY4MjAwM10sCiAgICAgICAgICAgICAgICB7fQogICAgICAgICAgICApLmFkZFRvKG1hcmtlcl9jbHVzdGVyXzYwMmE5MGY0N2RiZDQyOWU5OTY5MjhlYzE3ZWRjOGYwKTsKICAgICAgICAKICAgIAogICAgICAgICAgICB2YXIgaWNvbl9jZDEzZWM2Njc5OWI0MWQ3ODcxZGNiOGE4YjkwNTBkNyA9IEwuQXdlc29tZU1hcmtlcnMuaWNvbigKICAgICAgICAgICAgICAgIHsiZXh0cmFDbGFzc2VzIjogImZhLXJvdGF0ZS0wIiwgImljb24iOiAiaW5mby1zaWduIiwgImljb25Db2xvciI6ICJyZWQiLCAibWFya2VyQ29sb3IiOiAid2hpdGUiLCAicHJlZml4IjogImdseXBoaWNvbiJ9CiAgICAgICAgICAgICk7CiAgICAgICAgICAgIG1hcmtlcl8xMDQwZmY2ZTE4ZGQ0MmEwODYxYzE0ZTBlZTU5MmM3My5zZXRJY29uKGljb25fY2QxM2VjNjY3OTliNDFkNzg3MWRjYjhhOGI5MDUwZDcpOwogICAgICAgIAogICAgCiAgICAgICAgICAgIHZhciBtYXJrZXJfMDk4N2NmM2NkMDEzNDE5ZDliMzQ2ZWUzMWU2YmJhZWYgPSBMLm1hcmtlcigKICAgICAgICAgICAgICAgIFsyOC41NjMxOTcxOCwgLTgwLjU3NjgyMDAzXSwKICAgICAgICAgICAgICAgIHt9CiAgICAgICAgICAgICkuYWRkVG8obWFya2VyX2NsdXN0ZXJfNjAyYTkwZjQ3ZGJkNDI5ZTk5NjkyOGVjMTdlZGM4ZjApOwogICAgICAgIAogICAgCiAgICAgICAgICAgIHZhciBpY29uX2U2MWEyZTVhYjE5ZDQ5ZTA5ZjRiMzM4Y2NkZWE1YmRiID0gTC5Bd2Vzb21lTWFya2Vycy5pY29uKAogICAgICAgICAgICAgICAgeyJleHRyYUNsYXNzZXMiOiAiZmEtcm90YXRlLTAiLCAiaWNvbiI6ICJpbmZvLXNpZ24iLCAiaWNvbkNvbG9yIjogImdyZWVuIiwgIm1hcmtlckNvbG9yIjogIndoaXRlIiwgInByZWZpeCI6ICJnbHlwaGljb24ifQogICAgICAgICAgICApOwogICAgICAgICAgICBtYXJrZXJfMDk4N2NmM2NkMDEzNDE5ZDliMzQ2ZWUzMWU2YmJhZWYuc2V0SWNvbihpY29uX2U2MWEyZTVhYjE5ZDQ5ZTA5ZjRiMzM4Y2NkZWE1YmRiKTsKICAgICAgICAKICAgIAogICAgICAgICAgICB2YXIgbWFya2VyX2Q2NzEyNDhiNTIwYjRhODBiNWViM2FjNTdmMGMwYWNlID0gTC5tYXJrZXIoCiAgICAgICAgICAgICAgICBbMjguNTYzMTk3MTgsIC04MC41NzY4MjAwM10sCiAgICAgICAgICAgICAgICB7fQogICAgICAgICAgICApLmFkZFRvKG1hcmtlcl9jbHVzdGVyXzYwMmE5MGY0N2RiZDQyOWU5OTY5MjhlYzE3ZWRjOGYwKTsKICAgICAgICAKICAgIAogICAgICAgICAgICB2YXIgaWNvbl8zY2ExZWU1OWI5ZGM0NzZkOTg2NGVhYjk2ODY1YzIyMiA9IEwuQXdlc29tZU1hcmtlcnMuaWNvbigKICAgICAgICAgICAgICAgIHsiZXh0cmFDbGFzc2VzIjogImZhLXJvdGF0ZS0wIiwgImljb24iOiAiaW5mby1zaWduIiwgImljb25Db2xvciI6ICJyZWQiLCAibWFya2VyQ29sb3IiOiAid2hpdGUiLCAicHJlZml4IjogImdseXBoaWNvbiJ9CiAgICAgICAgICAgICk7CiAgICAgICAgICAgIG1hcmtlcl9kNjcxMjQ4YjUyMGI0YTgwYjVlYjNhYzU3ZjBjMGFjZS5zZXRJY29uKGljb25fM2NhMWVlNTliOWRjNDc2ZDk4NjRlYWI5Njg2NWMyMjIpOwogICAgICAgIAogICAgCiAgICAgICAgICAgIHZhciBtb3VzZV9wb3NpdGlvbl8yYTFkYWZmODI0NDY0NTU2YWY0ZGIyYjkxNzM3YmE3NCA9IG5ldyBMLkNvbnRyb2wuTW91c2VQb3NpdGlvbigKICAgICAgICAgICAgICAgIHsiZW1wdHlTdHJpbmciOiAiTmFOIiwgImxuZ0ZpcnN0IjogZmFsc2UsICJudW1EaWdpdHMiOiAyMCwgInBvc2l0aW9uIjogInRvcHJpZ2h0IiwgInByZWZpeCI6ICJMYXQ6IiwgInNlcGFyYXRvciI6ICIgTG9uZzogIn0KICAgICAgICAgICAgKTsKICAgICAgICAgICAgbW91c2VfcG9zaXRpb25fMmExZGFmZjgyNDQ2NDU1NmFmNGRiMmI5MTczN2JhNzQub3B0aW9uc1sibGF0Rm9ybWF0dGVyIl0gPQogICAgICAgICAgICAgICAgZnVuY3Rpb24obnVtKSB7cmV0dXJuIEwuVXRpbC5mb3JtYXROdW0obnVtLCA1KTt9OzsKICAgICAgICAgICAgbW91c2VfcG9zaXRpb25fMmExZGFmZjgyNDQ2NDU1NmFmNGRiMmI5MTczN2JhNzQub3B0aW9uc1sibG5nRm9ybWF0dGVyIl0gPQogICAgICAgICAgICAgICAgZnVuY3Rpb24obnVtKSB7cmV0dXJuIEwuVXRpbC5mb3JtYXROdW0obnVtLCA1KTt9OzsKICAgICAgICAgICAgbWFwXzE2MWVjMmMxZjQxMDRkZDNiMWU1NDJjYTJlMmI4ODBjLmFkZENvbnRyb2wobW91c2VfcG9zaXRpb25fMmExZGFmZjgyNDQ2NDU1NmFmNGRiMmI5MTczN2JhNzQpOwogICAgICAgIAogICAgCiAgICAgICAgICAgIHZhciBtYXJrZXJfZjJiNmI2MzJhN2ZkNGY2NThjNWNlMmY3NTg4NjQyZmQgPSBMLm1hcmtlcigKICAgICAgICAgICAgICAgIFsyOC41NjQwNSwgLTgwLjU2ODFdLAogICAgICAgICAgICAgICAge30KICAgICAgICAgICAgKS5hZGRUbyhtYXBfMTYxZWMyYzFmNDEwNGRkM2IxZTU0MmNhMmUyYjg4MGMpOwogICAgICAgIAogICAgCiAgICAgICAgICAgIHZhciBkaXZfaWNvbl8wNmJhN2YxYTgwYzM0MmJjOTgxMzI1ZDg3YjUyOThkNCA9IEwuZGl2SWNvbih7ImNsYXNzTmFtZSI6ICJlbXB0eSIsICJodG1sIjogIlx1MDAzY2RpdiBzdHlsZT1cImZvbnQtc2l6ZTogMTI7IGNvbG9yOiNkMzU0MDA7XCJcdTAwM2VcdTAwM2NiXHUwMDNlICAgICAgMC44NiBLTVx1MDAzYy9iXHUwMDNlXHUwMDNjL2Rpdlx1MDAzZSIsICJpY29uQW5jaG9yIjogWzAsIDBdLCAiaWNvblNpemUiOiBbMjAsIDIwXX0pOwogICAgICAgICAgICBtYXJrZXJfZjJiNmI2MzJhN2ZkNGY2NThjNWNlMmY3NTg4NjQyZmQuc2V0SWNvbihkaXZfaWNvbl8wNmJhN2YxYTgwYzM0MmJjOTgxMzI1ZDg3YjUyOThkNCk7CiAgICAgICAgCjwvc2NyaXB0Pg== onload=\"this.contentDocument.open();this.contentDocument.write(atob(this.getAttribute('data-html')));this.contentDocument.close();\" allowfullscreen webkitallowfullscreen mozallowfullscreen></iframe></div></div>"
      ],
      "text/plain": [
       "<folium.folium.Map at 0x11e966130>"
      ]
     },
     "execution_count": 17,
     "metadata": {},
     "output_type": "execute_result"
    }
   ],
   "source": [
    "# Create and add a folium.Marker on your selected closest coastline point on the map\n",
    "# Display the distance between coastline point and launch site using the icon property \n",
    "# for example\n",
    "distance_marker = folium.Marker(\n",
    "    location=[coastline_lat,coastline_lon],\n",
    "    icon=DivIcon(icon_size=(20,20),icon_anchor=(0,0),\n",
    "                 html='<div style=\"font-size: 12; color:#d35400;\"><b>%s</b></div>' % \"{:10.2f} KM\".format(distance_coastline))\n",
    "    )\n",
    "\n",
    "site_map.add_child(distance_marker)\n",
    "site_map"
   ]
  },
  {
   "cell_type": "markdown",
   "metadata": {},
   "source": [
    "*TODO:* Draw a `PolyLine` between a launch site to the selected coastline point\n"
   ]
  },
  {
   "cell_type": "code",
   "execution_count": 18,
   "metadata": {},
   "outputs": [
    {
     "data": {
      "text/html": [
       "<div style=\"width:100%;\"><div style=\"position:relative;width:100%;height:0;padding-bottom:60%;\"><span style=\"color:#565656\">Make this Notebook Trusted to load map: File -> Trust Notebook</span><iframe src=\"about:blank\" style=\"position:absolute;width:100%;height:100%;left:0;top:0;border:none !important;\" data-html=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 onload=\"this.contentDocument.open();this.contentDocument.write(atob(this.getAttribute('data-html')));this.contentDocument.close();\" allowfullscreen webkitallowfullscreen mozallowfullscreen></iframe></div></div>"
      ],
      "text/plain": [
       "<folium.folium.Map at 0x11e966130>"
      ]
     },
     "execution_count": 18,
     "metadata": {},
     "output_type": "execute_result"
    }
   ],
   "source": [
    "# Create a `folium.PolyLine` object using the coastline coordinates and launch site coordinate\n",
    "lines=folium.PolyLine([[launch_site_lat,launch_site_lon],[coastline_lat,coastline_lon]], weight=1)\n",
    "site_map.add_child(lines)"
   ]
  },
  {
   "cell_type": "markdown",
   "metadata": {},
   "source": [
    "Your updated map with distance line should look like the following screenshot:\n"
   ]
  },
  {
   "cell_type": "markdown",
   "metadata": {},
   "source": [
    "<center>\n",
    "    <img src=\"https://cf-courses-data.s3.us.cloud-object-storage.appdomain.cloud/IBM-DS0321EN-SkillsNetwork/labs/module_3/images/launch_site_marker_distance.png\" />\n",
    "</center>\n"
   ]
  },
  {
   "cell_type": "markdown",
   "metadata": {},
   "source": [
    "*TODO:* Similarly, you can draw a line betwee a launch site to its closest city, railway, highway, etc. You need to use `MousePosition` to find the their coordinates on the map first\n"
   ]
  },
  {
   "cell_type": "markdown",
   "metadata": {},
   "source": [
    "A railway map symbol may look like this:\n"
   ]
  },
  {
   "cell_type": "markdown",
   "metadata": {},
   "source": [
    "<center>\n",
    "    <img src=\"https://cf-courses-data.s3.us.cloud-object-storage.appdomain.cloud/IBM-DS0321EN-SkillsNetwork/labs/module_3/images/railway.png\" />\n",
    "</center>\n"
   ]
  },
  {
   "cell_type": "markdown",
   "metadata": {},
   "source": [
    "A highway map symbol may look like this:\n"
   ]
  },
  {
   "cell_type": "markdown",
   "metadata": {},
   "source": [
    "<center>\n",
    "    <img src=\"https://cf-courses-data.s3.us.cloud-object-storage.appdomain.cloud/IBM-DS0321EN-SkillsNetwork/labs/module_3/images/highway.png\" />\n",
    "</center>\n"
   ]
  },
  {
   "cell_type": "markdown",
   "metadata": {},
   "source": [
    "A city map symbol may look like this:\n"
   ]
  },
  {
   "cell_type": "markdown",
   "metadata": {},
   "source": [
    "<center>\n",
    "    <img src=\"https://cf-courses-data.s3.us.cloud-object-storage.appdomain.cloud/IBM-DS0321EN-SkillsNetwork/labs/module_3/images/city.png\" />\n",
    "</center>\n"
   ]
  },
  {
   "cell_type": "code",
   "execution_count": 19,
   "metadata": {},
   "outputs": [],
   "source": [
    "# Create a marker with distance to a closest city, railway, highway, etc.\n",
    "# Draw a line between the marker to the launch site\n"
   ]
  },
  {
   "cell_type": "markdown",
   "metadata": {},
   "source": [
    "## Cape Canaveral Space Center"
   ]
  },
  {
   "cell_type": "code",
   "execution_count": 20,
   "metadata": {},
   "outputs": [
    {
     "name": "stderr",
     "output_type": "stream",
     "text": [
      "/Users/andreasstahel/opt/anaconda3/lib/python3.8/site-packages/pandas/core/frame.py:3990: SettingWithCopyWarning: \n",
      "A value is trying to be set on a copy of a slice from a DataFrame\n",
      "\n",
      "See the caveats in the documentation: https://pandas.pydata.org/pandas-docs/stable/user_guide/indexing.html#returning-a-view-versus-a-copy\n",
      "  return super().drop(\n"
     ]
    },
    {
     "data": {
      "text/html": [
       "<div>\n",
       "<style scoped>\n",
       "    .dataframe tbody tr th:only-of-type {\n",
       "        vertical-align: middle;\n",
       "    }\n",
       "\n",
       "    .dataframe tbody tr th {\n",
       "        vertical-align: top;\n",
       "    }\n",
       "\n",
       "    .dataframe thead th {\n",
       "        text-align: right;\n",
       "    }\n",
       "</style>\n",
       "<table border=\"1\" class=\"dataframe\">\n",
       "  <thead>\n",
       "    <tr style=\"text-align: right;\">\n",
       "      <th></th>\n",
       "      <th>Launch Site</th>\n",
       "      <th>Lat</th>\n",
       "      <th>Long</th>\n",
       "      <th>class</th>\n",
       "      <th>marker_color</th>\n",
       "    </tr>\n",
       "  </thead>\n",
       "  <tbody>\n",
       "    <tr>\n",
       "      <th>0</th>\n",
       "      <td>CCAFS LC-40</td>\n",
       "      <td>28.562302</td>\n",
       "      <td>-80.577356</td>\n",
       "      <td>0</td>\n",
       "      <td>red</td>\n",
       "    </tr>\n",
       "    <tr>\n",
       "      <th>49</th>\n",
       "      <td>CCAFS SLC-40</td>\n",
       "      <td>28.563197</td>\n",
       "      <td>-80.576820</td>\n",
       "      <td>1</td>\n",
       "      <td>green</td>\n",
       "    </tr>\n",
       "  </tbody>\n",
       "</table>\n",
       "</div>"
      ],
      "text/plain": [
       "     Launch Site        Lat       Long  class marker_color\n",
       "0    CCAFS LC-40  28.562302 -80.577356      0          red\n",
       "49  CCAFS SLC-40  28.563197 -80.576820      1        green"
      ]
     },
     "execution_count": 20,
     "metadata": {},
     "output_type": "execute_result"
    }
   ],
   "source": [
    "cape_canaveral = spacex_df.drop_duplicates(subset=['Launch Site'])\n",
    "cape_canaveral.drop(cape_canaveral.index[[1,2]], inplace=True)\n",
    "cape_canaveral"
   ]
  },
  {
   "cell_type": "code",
   "execution_count": 21,
   "metadata": {},
   "outputs": [],
   "source": [
    "# Initiate the map\n",
    "ccsc_map = folium.Map(location=[28.563197, -80.576820], zoom_start=15)\n",
    "# For each launch site, add a Circle object based on its coordinate (Lat, Long) values. In addition, add Launch site name as a popup label\n",
    "\n",
    "for idx, eq in cape_canaveral.iterrows():\n",
    "    circle = folium.Circle(location=(eq['Lat'], eq['Long']), \n",
    "                        radius=1000, \n",
    "                        popup= '{}'.format(eq['Launch Site']), \n",
    "                        color='red', \n",
    "                        fill=True\n",
    "                         )\n",
    "    marker = folium.map.Marker(\n",
    "            (eq['Lat'], eq['Long']),\n",
    "            icon=DivIcon(\n",
    "                icon_size=(20,20),\n",
    "                icon_anchor=(0,0), \n",
    "                html='<div style=\"font-size: 12; color:#d35400;\"><b>%s</b></div>' % eq['Launch Site']\n",
    "                        )\n",
    "                            )\n",
    "    \n",
    "    \n",
    "    \n",
    "    ccsc_map.add_child(circle)\n",
    "    ccsc_map.add_child(marker) \n",
    "    "
   ]
  },
  {
   "cell_type": "code",
   "execution_count": 22,
   "metadata": {},
   "outputs": [],
   "source": [
    "# find coordinates of  points of interest\n",
    "\n",
    "ccafs_lat = 28.562302\n",
    "ccafs_lon = -80.577356\n",
    "coastline_lat = 28.56405  \n",
    "coastline_lon =-80.5681\n",
    "pkwy_lat = 28.56359\n",
    "pkwy_lon = -80.57082\n",
    "city_lat = 28.388333\n",
    "city_lon = -80.603611\n",
    "train_lat = 28.57209\n",
    "train_lon = -80.58527\n"
   ]
  },
  {
   "cell_type": "code",
   "execution_count": 23,
   "metadata": {
    "scrolled": false
   },
   "outputs": [
    {
     "name": "stdout",
     "output_type": "stream",
     "text": [
      "Cape Canaveral Space Center\n",
      "Distance parkway: 0.6543916961077225\n",
      "Distance city: 19.52007210881005\n",
      "Distance train: 1.3352896784998067\n",
      "Distance coastline: 0.9249050929921814\n"
     ]
    },
    {
     "data": {
      "text/html": [
       "<div style=\"width:100%;\"><div style=\"position:relative;width:100%;height:0;padding-bottom:60%;\"><span style=\"color:#565656\">Make this Notebook Trusted to load map: File -> Trust Notebook</span><iframe src=\"about:blank\" style=\"position:absolute;width:100%;height:100%;left:0;top:0;border:none !important;\" data-html=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 onload=\"this.contentDocument.open();this.contentDocument.write(atob(this.getAttribute('data-html')));this.contentDocument.close();\" allowfullscreen webkitallowfullscreen mozallowfullscreen></iframe></div></div>"
      ],
      "text/plain": [
       "<folium.folium.Map at 0x11eab7d60>"
      ]
     },
     "execution_count": 23,
     "metadata": {},
     "output_type": "execute_result"
    }
   ],
   "source": [
    "\n",
    "distance_coastline = calculate_distance(ccafs_lat, ccafs_lon, coastline_lat, coastline_lon)\n",
    "distance_pkwy = calculate_distance(ccafs_lat, ccafs_lon, pkwy_lat, pkwy_lon)\n",
    "distance_city = calculate_distance(ccafs_lat, ccafs_lon, city_lat, city_lon)\n",
    "distance_train = calculate_distance(ccafs_lat, ccafs_lon, train_lat, train_lon)\n",
    "\n",
    "\n",
    "print('Cape Canaveral Space Center')\n",
    "print(\"Distance parkway: \" + str(distance_pkwy))\n",
    "print(\"Distance city: \" + str(distance_city))\n",
    "print(\"Distance train: \" + str(distance_train))\n",
    "print(\"Distance coastline: \" + str(distance_coastline))\n",
    "\n",
    "\n",
    "\n",
    "coastline_marker = folium.Marker(\n",
    "    location=[coastline_lat,coastline_lon],\n",
    "    icon=DivIcon(icon_size=(20,20),icon_anchor=(0,0),\n",
    "                 html='<div style=\"font-size: 12; color: #000000;\"><b>%s</b></div>' % \"{:10.2f} KM\".format(distance_coastline))\n",
    "    )\n",
    "\n",
    "pkwy_marker = folium.Marker(\n",
    "    location=[pkwy_lat,pkwy_lon],\n",
    "    icon=DivIcon(icon_size=(20,20),icon_anchor=(0,0),\n",
    "                 html='<div style=\"font-size: 12; color: #000000;\"><b>%s</b></div>' % \"{:10.2f} KM\".format(distance_pkwy))\n",
    "    )\n",
    "\n",
    "city_marker = folium.Marker(\n",
    "    location=[city_lat,city_lon],\n",
    "    icon=DivIcon(icon_size=(20,20),icon_anchor=(0,0),\n",
    "                 html='<div style=\"font-size: 12; color: #000000;\"><b>%s</b></div>' % \"{:10.2f} KM\".format(distance_city))\n",
    "    )\n",
    "\n",
    "train_marker = folium.Marker(\n",
    "    location=[train_lat,train_lon],\n",
    "    icon=DivIcon(icon_size=(20,20),icon_anchor=(0,0),\n",
    "                 html='<div style=\"font-size: 12; color: #000000;\"><b>%s</b></div>' % \"{:10.2f} KM\".format(distance_train))\n",
    "    )\n",
    "\n",
    "# Create a `folium.PolyLine` object using the coordinates and launch site coordinate\n",
    "coastline_line=folium.PolyLine([[launch_site_lat,launch_site_lon],[coastline_lat,coastline_lon]], weight=1)\n",
    "pkwy_line=folium.PolyLine([[launch_site_lat,launch_site_lon],[pkwy_lat,pkwy_lon]], weight=1)\n",
    "city_line=folium.PolyLine([[launch_site_lat,launch_site_lon],[city_lat,city_lon]], weight=1)\n",
    "train_line=folium.PolyLine([[launch_site_lat,launch_site_lon],[train_lat,train_lon]], weight=1)\n",
    "\n",
    "\n",
    "\n",
    "ccsc_map.add_child(coastline_marker)\n",
    "ccsc_map.add_child(pkwy_marker)\n",
    "ccsc_map.add_child(city_marker)\n",
    "ccsc_map.add_child(train_marker)\n",
    "\n",
    "\n",
    "\n",
    "ccsc_map.add_child(coastline_line)\n",
    "ccsc_map.add_child(pkwy_line)\n",
    "ccsc_map.add_child(city_line)\n",
    "ccsc_map.add_child(train_line)\n",
    "\n",
    "\n",
    "ccsc_map"
   ]
  },
  {
   "cell_type": "markdown",
   "metadata": {},
   "source": [
    "## Kennedy Space Center"
   ]
  },
  {
   "cell_type": "code",
   "execution_count": 24,
   "metadata": {},
   "outputs": [
    {
     "data": {
      "text/html": [
       "<div style=\"width:100%;\"><div style=\"position:relative;width:100%;height:0;padding-bottom:60%;\"><span style=\"color:#565656\">Make this Notebook Trusted to load map: File -> Trust Notebook</span><iframe src=\"about:blank\" style=\"position:absolute;width:100%;height:100%;left:0;top:0;border:none !important;\" data-html=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 onload=\"this.contentDocument.open();this.contentDocument.write(atob(this.getAttribute('data-html')));this.contentDocument.close();\" allowfullscreen webkitallowfullscreen mozallowfullscreen></iframe></div></div>"
      ],
      "text/plain": [
       "<folium.folium.Map at 0x11e8e3b50>"
      ]
     },
     "execution_count": 24,
     "metadata": {},
     "output_type": "execute_result"
    }
   ],
   "source": [
    "# Initiate the map\n",
    "ksc_map = folium.Map(location=[28.573255, -80.646895], zoom_start=15)\n",
    "# For each launch site, add a Circle object based on its coordinate (Lat, Long) values. In addition, add Launch site name as a popup label\n",
    "\n",
    "\n",
    "ksc_circle = folium.Circle(location=(28.573255, -80.646895), \n",
    "                       radius=1000, popup= '{}'.format('Launch Site'), \n",
    "                       color='red', \n",
    "                       fill=True\n",
    "                          )\n",
    "ksc_marker = folium.map.Marker((28.573255, -80.646895), \n",
    "                        icon=DivIcon(icon_size=(20,20),\n",
    "                                     icon_anchor=(0,0), \n",
    "                                     html='<div style=\"font-size: 12; color:#d35400;\"><b>%s</b></div>' % 'KSC LC-39A'\n",
    "                                    )\n",
    "                              )   \n",
    "    \n",
    "    \n",
    "ksc_map.add_child(ksc_circle)\n",
    "ksc_map.add_child(ksc_marker) \n",
    "    "
   ]
  },
  {
   "cell_type": "code",
   "execution_count": 25,
   "metadata": {},
   "outputs": [],
   "source": [
    "# find coordinates of  points of interest\n",
    "\n",
    "ksc_lat = 28.573255\n",
    "ksc_lon = -80.646895\n",
    "coastline_lat = 28.6005  \n",
    "coastline_lon =-80.58784\n",
    "pkwy_lat = 28.57387\n",
    "pkwy_lon = -80.65542\n",
    "city_lat = 28.591111\n",
    "city_lon = -80.82\n",
    "train_lat = 28.57314\n",
    "train_lon = -80.65396"
   ]
  },
  {
   "cell_type": "code",
   "execution_count": 26,
   "metadata": {},
   "outputs": [
    {
     "name": "stdout",
     "output_type": "stream",
     "text": [
      "Kennedy Space Center\n",
      "Distance parkway: 0.8355478765055112\n",
      "Distance city: 17.02418636248021\n",
      "Distance train: 0.6902474922684988\n",
      "Distance coastline: 6.515552246333777\n"
     ]
    },
    {
     "data": {
      "text/html": [
       "<div style=\"width:100%;\"><div style=\"position:relative;width:100%;height:0;padding-bottom:60%;\"><span style=\"color:#565656\">Make this Notebook Trusted to load map: File -> Trust Notebook</span><iframe src=\"about:blank\" style=\"position:absolute;width:100%;height:100%;left:0;top:0;border:none !important;\" data-html=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 onload=\"this.contentDocument.open();this.contentDocument.write(atob(this.getAttribute('data-html')));this.contentDocument.close();\" allowfullscreen webkitallowfullscreen mozallowfullscreen></iframe></div></div>"
      ],
      "text/plain": [
       "<folium.folium.Map at 0x11e8e3b50>"
      ]
     },
     "execution_count": 26,
     "metadata": {},
     "output_type": "execute_result"
    }
   ],
   "source": [
    "\n",
    "distance_coastline = calculate_distance(ksc_lat, ksc_lon, coastline_lat, coastline_lon)\n",
    "distance_pkwy = calculate_distance(ksc_lat, ksc_lon, pkwy_lat, pkwy_lon)\n",
    "distance_city = calculate_distance(ksc_lat, ksc_lon, city_lat, city_lon)\n",
    "distance_train = calculate_distance(ksc_lat, ksc_lon, train_lat, train_lon)\n",
    "\n",
    "\n",
    "print('Kennedy Space Center')\n",
    "print(\"Distance parkway: \" + str(distance_pkwy))\n",
    "print(\"Distance city: \" + str(distance_city))\n",
    "print(\"Distance train: \" + str(distance_train))\n",
    "print(\"Distance coastline: \" + str(distance_coastline))\n",
    "\n",
    "\n",
    "\n",
    "\n",
    "coastline_marker = folium.Marker(\n",
    "    location=[coastline_lat,coastline_lon],\n",
    "    icon=DivIcon(icon_size=(20,20),icon_anchor=(0,0),\n",
    "                 html='<div style=\"font-size: 12; color: #000000;\"><b>%s</b></div>' % \"{:10.2f} KM\".format(distance_coastline))\n",
    "    )\n",
    "\n",
    "pkwy_marker = folium.Marker(\n",
    "    location=[pkwy_lat,pkwy_lon],\n",
    "    icon=DivIcon(icon_size=(20,20),icon_anchor=(0,0),\n",
    "                 html='<div style=\"font-size: 12; color: #000000;\"><b>%s</b></div>' % \"{:10.2f} KM\".format(distance_pkwy))\n",
    "    )\n",
    "\n",
    "city_marker = folium.Marker(\n",
    "    location=[city_lat,city_lon],\n",
    "    icon=DivIcon(icon_size=(20,20),icon_anchor=(0,0),\n",
    "                 html='<div style=\"font-size: 12; color: #000000;\"><b>%s</b></div>' % \"{:10.2f} KM\".format(distance_city))\n",
    "    )\n",
    "\n",
    "train_marker = folium.Marker(\n",
    "    location=[train_lat,train_lon],\n",
    "    icon=DivIcon(icon_size=(20,20),icon_anchor=(0,0),\n",
    "                 html='<div style=\"font-size: 12; color: #000000;\"><b>%s</b></div>' % \"{:10.2f} KM\".format(distance_train))\n",
    "    )\n",
    "\n",
    "# Create a `folium.PolyLine` object using the coordinates and launch site coordinate\n",
    "coastline_line=folium.PolyLine([[ksc_lat,ksc_lon],[coastline_lat,coastline_lon]], weight=1)\n",
    "pkwy_line=folium.PolyLine([[ksc_lat,ksc_lon],[pkwy_lat,pkwy_lon]], weight=1)\n",
    "city_line=folium.PolyLine([[ksc_lat,ksc_lon],[city_lat,city_lon]], weight=1)\n",
    "train_line=folium.PolyLine([[ksc_lat,ksc_lon],[train_lat,train_lon]], weight=1)\n",
    "\n",
    "\n",
    "\n",
    "ksc_map.add_child(coastline_marker)\n",
    "ksc_map.add_child(pkwy_marker)\n",
    "ksc_map.add_child(city_marker)\n",
    "ksc_map.add_child(train_marker)\n",
    "\n",
    "\n",
    "\n",
    "ksc_map.add_child(coastline_line)\n",
    "ksc_map.add_child(pkwy_line)\n",
    "ksc_map.add_child(city_line)\n",
    "ksc_map.add_child(train_line)\n",
    "\n",
    "\n",
    "ksc_map"
   ]
  },
  {
   "cell_type": "markdown",
   "metadata": {},
   "source": [
    "## Vandenbuilt "
   ]
  },
  {
   "cell_type": "code",
   "execution_count": 27,
   "metadata": {},
   "outputs": [
    {
     "data": {
      "text/html": [
       "<div style=\"width:100%;\"><div style=\"position:relative;width:100%;height:0;padding-bottom:60%;\"><span style=\"color:#565656\">Make this Notebook Trusted to load map: File -> Trust Notebook</span><iframe src=\"about:blank\" style=\"position:absolute;width:100%;height:100%;left:0;top:0;border:none !important;\" data-html=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 onload=\"this.contentDocument.open();this.contentDocument.write(atob(this.getAttribute('data-html')));this.contentDocument.close();\" allowfullscreen webkitallowfullscreen mozallowfullscreen></iframe></div></div>"
      ],
      "text/plain": [
       "<folium.folium.Map at 0x11ea06910>"
      ]
     },
     "execution_count": 27,
     "metadata": {},
     "output_type": "execute_result"
    }
   ],
   "source": [
    "# Initiate the map\n",
    "vafb_map = folium.Map(location=[34.63305, -120.61097], zoom_start=15)\n",
    "# For each launch site, add a Circle object based on its coordinate (Lat, Long) values. In addition, add Launch site name as a popup label\n",
    "\n",
    "\n",
    "vafb_circle = folium.Circle(location=(34.63305, -120.61097), \n",
    "                       radius=1000, popup= '{}'.format('Launch Site'), \n",
    "                       color='red', \n",
    "                       fill=True\n",
    "                          )\n",
    "vafb_marker = folium.map.Marker((34.63305, -120.61097), \n",
    "                        icon=DivIcon(icon_size=(20,20),\n",
    "                                     icon_anchor=(0,0), \n",
    "                                     html='<div style=\"font-size: 12; color:#d35400;\"><b>%s</b></div>' % 'VAFB SLC-4E'\n",
    "                                    )\n",
    "                              )   \n",
    "    \n",
    "    \n",
    "vafb_map.add_child(vafb_circle)\n",
    "vafb_map.add_child(vafb_marker) "
   ]
  },
  {
   "cell_type": "code",
   "execution_count": 28,
   "metadata": {},
   "outputs": [],
   "source": [
    "# find coordinates of  points of interest\n",
    "\n",
    "vafb_lat = 34.63305\n",
    "vafb_lon = -120.61097\n",
    "coastline_lat = 34.63465  \n",
    "coastline_lon =-120.62528\n",
    "ave_lat = 34.66958\n",
    "ave_lon = -120.55965\n",
    "city_lat = 34.646111\n",
    "city_lon = -120.460278\n",
    "train_lat = 34.64257\n",
    "train_lon = -120.59135"
   ]
  },
  {
   "cell_type": "code",
   "execution_count": 29,
   "metadata": {},
   "outputs": [
    {
     "name": "stdout",
     "output_type": "stream",
     "text": [
      "Vandenbuilt Space Center\n",
      "Distance avenue: 6.209709868366573\n",
      "Distance city: 13.866687508331967\n",
      "Distance train: 2.0845232972236234\n",
      "Distance coastline: 1.3216877065883652\n"
     ]
    },
    {
     "data": {
      "text/html": [
       "<div style=\"width:100%;\"><div style=\"position:relative;width:100%;height:0;padding-bottom:60%;\"><span style=\"color:#565656\">Make this Notebook Trusted to load map: File -> Trust Notebook</span><iframe src=\"about:blank\" style=\"position:absolute;width:100%;height:100%;left:0;top:0;border:none !important;\" data-html=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 onload=\"this.contentDocument.open();this.contentDocument.write(atob(this.getAttribute('data-html')));this.contentDocument.close();\" allowfullscreen webkitallowfullscreen mozallowfullscreen></iframe></div></div>"
      ],
      "text/plain": [
       "<folium.folium.Map at 0x11ea06910>"
      ]
     },
     "execution_count": 29,
     "metadata": {},
     "output_type": "execute_result"
    }
   ],
   "source": [
    "\n",
    "distance_coastline = calculate_distance(vafb_lat, vafb_lon, coastline_lat, coastline_lon)\n",
    "distance_ave = calculate_distance(vafb_lat, vafb_lon, ave_lat, ave_lon)\n",
    "distance_city = calculate_distance(vafb_lat, vafb_lon, city_lat, city_lon)\n",
    "distance_train = calculate_distance(vafb_lat, vafb_lon, train_lat, train_lon)\n",
    "\n",
    "\n",
    "print('Vandenbuilt Space Center')\n",
    "\n",
    "print(\"Distance avenue: \" + str(distance_ave))\n",
    "print(\"Distance city: \" + str(distance_city))\n",
    "print(\"Distance train: \" + str(distance_train))\n",
    "print(\"Distance coastline: \" + str(distance_coastline))\n",
    "\n",
    "\n",
    "\n",
    "coastline_marker = folium.Marker(\n",
    "    location=[coastline_lat,coastline_lon],\n",
    "    icon=DivIcon(icon_size=(20,20),icon_anchor=(0,0),\n",
    "                 html='<div style=\"font-size: 12; color: #000000;\"><b>%s</b></div>' % \"{:10.2f} KM\".format(distance_coastline))\n",
    "    )\n",
    "\n",
    "ave_marker = folium.Marker(\n",
    "    location=[ave_lat,ave_lon],\n",
    "    icon=DivIcon(icon_size=(20,20),icon_anchor=(0,0),\n",
    "                 html='<div style=\"font-size: 12; color: #000000;\"><b>%s</b></div>' % \"{:10.2f} KM\".format(distance_ave))\n",
    "    )\n",
    "\n",
    "city_marker = folium.Marker(\n",
    "    location=[city_lat,city_lon],\n",
    "    icon=DivIcon(icon_size=(20,20),icon_anchor=(0,0),\n",
    "                 html='<div style=\"font-size: 12; color: #000000;\"><b>%s</b></div>' % \"{:10.2f} KM\".format(distance_city))\n",
    "    )\n",
    "\n",
    "train_marker = folium.Marker(\n",
    "    location=[train_lat,train_lon],\n",
    "    icon=DivIcon(icon_size=(20,20),icon_anchor=(0,0),\n",
    "                 html='<div style=\"font-size: 12; color: #000000;\"><b>%s</b></div>' % \"{:10.2f} KM\".format(distance_train))\n",
    "    )\n",
    "\n",
    "# Create a `folium.PolyLine` object using the coordinates and launch site coordinate\n",
    "coastline_line=folium.PolyLine([[vafb_lat,vafb_lon],[coastline_lat,coastline_lon]], weight=1)\n",
    "ave_line=folium.PolyLine([[vafb_lat,vafb_lon],[ave_lat,ave_lon]], weight=1)\n",
    "city_line=folium.PolyLine([[vafb_lat,vafb_lon],[city_lat,city_lon]], weight=1)\n",
    "train_line=folium.PolyLine([[vafb_lat,vafb_lon],[train_lat,train_lon]], weight=1)\n",
    "\n",
    "\n",
    "\n",
    "vafb_map.add_child(coastline_marker)\n",
    "vafb_map.add_child(ave_marker)\n",
    "vafb_map.add_child(city_marker)\n",
    "vafb_map.add_child(train_marker)\n",
    "\n",
    "\n",
    "\n",
    "vafb_map.add_child(coastline_line)\n",
    "vafb_map.add_child(ave_line)\n",
    "vafb_map.add_child(city_line)\n",
    "vafb_map.add_child(train_line)\n",
    "\n",
    "\n",
    "vafb_map"
   ]
  },
  {
   "cell_type": "code",
   "execution_count": null,
   "metadata": {},
   "outputs": [],
   "source": []
  },
  {
   "cell_type": "code",
   "execution_count": null,
   "metadata": {},
   "outputs": [],
   "source": []
  },
  {
   "cell_type": "markdown",
   "metadata": {},
   "source": [
    "After you plot distance lines to the proximities, you can answer the following questions easily:\n",
    "\n",
    "*   Are launch sites in close proximity to railways?\n",
    "*   Are launch sites in close proximity to highways?\n",
    "*   Are launch sites in close proximity to coastline?\n",
    "*   Do launch sites keep certain distance away from cities?\n",
    "\n",
    "Also please try to explain your findings.\n"
   ]
  },
  {
   "cell_type": "markdown",
   "metadata": {},
   "source": [
    "# Next Steps:\n",
    "\n",
    "Now you have discovered many interesting insights related to the launch sites' location using folium, in a very interactive way. Next, you will need to build a dashboard using Ploty Dash on detailed launch records.\n"
   ]
  },
  {
   "cell_type": "markdown",
   "metadata": {},
   "source": [
    "## Authors\n"
   ]
  },
  {
   "cell_type": "markdown",
   "metadata": {},
   "source": [
    "[Yan Luo](https://www.linkedin.com/in/yan-luo-96288783/?utm_medium=Exinfluencer&utm_source=Exinfluencer&utm_content=000026UJ&utm_term=10006555&utm_id=NA-SkillsNetwork-Channel-SkillsNetworkCoursesIBMDS0321ENSkillsNetwork26802033-2022-01-01)\n"
   ]
  },
  {
   "cell_type": "markdown",
   "metadata": {},
   "source": [
    "### Other Contributors\n"
   ]
  },
  {
   "cell_type": "markdown",
   "metadata": {},
   "source": [
    "Joseph Santarcangelo\n"
   ]
  },
  {
   "cell_type": "markdown",
   "metadata": {},
   "source": [
    "## Change Log\n"
   ]
  },
  {
   "cell_type": "markdown",
   "metadata": {},
   "source": [
    "| Date (YYYY-MM-DD) | Version | Changed By | Change Description          |\n",
    "| ----------------- | ------- | ---------- | --------------------------- |\n",
    "| 2021-05-26        | 1.0     | Yan        | Created the initial version |\n"
   ]
  },
  {
   "cell_type": "code",
   "execution_count": null,
   "metadata": {},
   "outputs": [],
   "source": []
  },
  {
   "cell_type": "markdown",
   "metadata": {},
   "source": [
    "Copyright © 2021 IBM Corporation. All rights reserved.\n"
   ]
  }
 ],
 "metadata": {
  "kernelspec": {
   "display_name": "Python 3",
   "language": "python",
   "name": "python3"
  },
  "language_info": {
   "codemirror_mode": {
    "name": "ipython",
    "version": 3
   },
   "file_extension": ".py",
   "mimetype": "text/x-python",
   "name": "python",
   "nbconvert_exporter": "python",
   "pygments_lexer": "ipython3",
   "version": "3.8.3"
  },
  "papermill": {
   "duration": 142.196942,
   "end_time": "2020-09-19T06:29:13.341578",
   "environment_variables": {},
   "exception": null,
   "input_path": "__notebook__.ipynb",
   "output_path": "__notebook__.ipynb",
   "parameters": {},
   "start_time": "2020-09-19T06:26:51.144636",
   "version": "2.1.0"
  }
 },
 "nbformat": 4,
 "nbformat_minor": 4
}
